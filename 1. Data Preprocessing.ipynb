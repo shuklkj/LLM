{
 "cells": [
  {
   "cell_type": "markdown",
   "id": "4a346449-1535-4037-8a6b-9b34e51ab463",
   "metadata": {
    "id": "4a346449-1535-4037-8a6b-9b34e51ab463"
   },
   "source": [
    "# Final Project\n",
    "## ADSP 32021 IP01 Machine Learning Operations\n",
    "### 1: Data Pre-Processing\n",
    "#### Group 2: Maria Clarissa Fionalita, Kajal Shukla, Mia Zhang, Priya Suvvaru Venkata"
   ]
  },
  {
   "cell_type": "code",
   "execution_count": null,
   "id": "6cbd0a08-bb1e-40c8-b9a2-b7385c689b1a",
   "metadata": {
    "id": "6cbd0a08-bb1e-40c8-b9a2-b7385c689b1a"
   },
   "outputs": [],
   "source": [
    "import os\n",
    "os.environ[\"CUDA_VISIBLE_DEVICES\"] = \"cpu\""
   ]
  },
  {
   "cell_type": "code",
   "execution_count": null,
   "id": "4e89ac6d-c47b-409d-8df8-7cd6eeeaa4c8",
   "metadata": {
    "id": "4e89ac6d-c47b-409d-8df8-7cd6eeeaa4c8",
    "outputId": "7db52c38-a331-4785-bec4-8e96083a7e59"
   },
   "outputs": [
    {
     "name": "stdout",
     "output_type": "stream",
     "text": [
      "Python 3.10.13\n",
      "Enabling notebook extension jupyter-js-widgets/extension...\n",
      "      - Validating: \u001b[32mOK\u001b[0m\n"
     ]
    }
   ],
   "source": [
    "!python --version\n",
    "!jupyter nbextension enable --py widgetsnbextension"
   ]
  },
  {
   "cell_type": "code",
   "execution_count": null,
   "id": "532ecc1c-1a65-4036-adbb-d209a2d1c342",
   "metadata": {
    "id": "532ecc1c-1a65-4036-adbb-d209a2d1c342",
    "outputId": "f7f6c000-d0ea-4010-847f-8a229ca4fc8a",
    "scrolled": true
   },
   "outputs": [
    {
     "name": "stdout",
     "output_type": "stream",
     "text": [
      "\u001b[33mhint: Using 'master' as the name for the initial branch. This default branch name\u001b[m\n",
      "\u001b[33mhint: is subject to change. To configure the initial branch name to use in all\u001b[m\n",
      "\u001b[33mhint: of your new repositories, which will suppress this warning, call:\u001b[m\n",
      "\u001b[33mhint: \u001b[m\n",
      "\u001b[33mhint: \tgit config --global init.defaultBranch <name>\u001b[m\n",
      "\u001b[33mhint: \u001b[m\n",
      "\u001b[33mhint: Names commonly chosen instead of 'master' are 'main', 'trunk' and\u001b[m\n",
      "\u001b[33mhint: 'development'. The just-created branch can be renamed via this command:\u001b[m\n",
      "\u001b[33mhint: \u001b[m\n",
      "\u001b[33mhint: \tgit branch -m <name>\u001b[m\n",
      "Initialized empty Git repository in /mnt/d/UChicago/Q4/ADSP 32021 Machine Learning Operations/Final Project/.git/\n",
      "Initialized DVC repository.\n",
      "\n",
      "You can now commit the changes to git.\n",
      "\n",
      "\u001b[31m+---------------------------------------------------------------------+\n",
      "\u001b[0m\u001b[31m|\u001b[0m                                                                     \u001b[31m|\u001b[0m\n",
      "\u001b[31m|\u001b[0m        DVC has enabled anonymous aggregate usage analytics.         \u001b[31m|\u001b[0m\n",
      "\u001b[31m|\u001b[0m     Read the analytics documentation (and how to opt-out) here:     \u001b[31m|\u001b[0m\n",
      "\u001b[31m|\u001b[0m             <\u001b[36mhttps://dvc.org/doc/user-guide/analytics\u001b[39m>              \u001b[31m|\u001b[0m\n",
      "\u001b[31m|\u001b[0m                                                                     \u001b[31m|\u001b[0m\n",
      "\u001b[31m+---------------------------------------------------------------------+\n",
      "\u001b[0m\n",
      "\u001b[33mWhat's next?\u001b[39m\n",
      "\u001b[33m------------\u001b[39m\n",
      "- Check out the documentation: <\u001b[36mhttps://dvc.org/doc\u001b[39m>\n",
      "- Get help and share ideas: <\u001b[36mhttps://dvc.org/chat\u001b[39m>\n",
      "- Star us on GitHub: <\u001b[36mhttps://github.com/iterative/dvc\u001b[39m>\n",
      "\u001b[0mSetting 'storage' as a default remote.\n",
      "\u001b[0m[master (root-commit) 84b9203] Configure remote storage\n",
      " 1 file changed, 4 insertions(+)\n",
      " create mode 100644 .dvc/config\n"
     ]
    }
   ],
   "source": [
    "!git init\n",
    "!dvc init -f\n",
    "!dvc remote add -d storage gdrive://1wa6Ax2ro0D7EtdOYmmg0O7PmT8sfFGTN\n",
    "!git commit .dvc/config -m \"Configure remote storage\""
   ]
  },
  {
   "cell_type": "code",
   "execution_count": null,
   "id": "e347ebf4-3f69-4d36-93e9-6f96bc9c3959",
   "metadata": {
    "id": "e347ebf4-3f69-4d36-93e9-6f96bc9c3959",
    "outputId": "3647a6ea-b9bc-43f1-e2f9-97f6195858c3"
   },
   "outputs": [
    {
     "name": "stdout",
     "output_type": "stream",
     "text": [
      "test_webmd_squad_v2_consec.json   train_webmd_squad_v2_full.json\n",
      "test_webmd_squad_v2_full.json\t  val_webmd_squad_v2_consec.json\n",
      "train_webmd_squad_v2_consec.json  val_webmd_squad_v2_full.json\n"
     ]
    }
   ],
   "source": [
    "!ls mashqa_data"
   ]
  },
  {
   "cell_type": "code",
   "execution_count": null,
   "id": "2fa7c56e-4b9d-4d85-abfc-39a81b1597bf",
   "metadata": {
    "id": "2fa7c56e-4b9d-4d85-abfc-39a81b1597bf"
   },
   "outputs": [],
   "source": [
    "import json\n",
    "from pathlib import Path\n",
    "from pprint import pprint"
   ]
  },
  {
   "cell_type": "markdown",
   "id": "76f56ebd-5c00-418f-9b43-a8e94b9a6ea9",
   "metadata": {
    "id": "76f56ebd-5c00-418f-9b43-a8e94b9a6ea9"
   },
   "source": [
    "# 1. Pre-Process Training Data"
   ]
  },
  {
   "cell_type": "markdown",
   "id": "88244a08-fbd4-43f8-93ec-6826e8e807a1",
   "metadata": {
    "id": "88244a08-fbd4-43f8-93ec-6826e8e807a1"
   },
   "source": [
    "## Training Data V1\n",
    "Only contains info from ```train_webmd_squad_v2_consec.json```"
   ]
  },
  {
   "cell_type": "code",
   "execution_count": null,
   "id": "dd2a8e8c-b711-4c70-ad67-d308b5c2afaa",
   "metadata": {
    "id": "dd2a8e8c-b711-4c70-ad67-d308b5c2afaa",
    "scrolled": true
   },
   "outputs": [],
   "source": [
    "file_path = \"mashqa_data/train_webmd_squad_v2_consec.json\"\n",
    "\n",
    "data = json.loads(Path(file_path).read_text())\n",
    "data = data[\"data\"]"
   ]
  },
  {
   "cell_type": "code",
   "execution_count": null,
   "id": "e78cbe34-0452-4602-8c03-b9190e60d472",
   "metadata": {
    "id": "e78cbe34-0452-4602-8c03-b9190e60d472"
   },
   "outputs": [],
   "source": [
    "context = {}\n",
    "\n",
    "for index in range(len(data)):\n",
    "    for p_index in range(len(data[index][\"paragraphs\"])):\n",
    "        context_content = data[index][\"paragraphs\"][p_index][\"context\"]\n",
    "        context[index] = [context_content]"
   ]
  },
  {
   "cell_type": "code",
   "execution_count": null,
   "id": "1e37629d-a3a2-4699-987f-7b362fb828a4",
   "metadata": {
    "id": "1e37629d-a3a2-4699-987f-7b362fb828a4",
    "outputId": "62703b09-3150-475d-ddff-6c86063a2649"
   },
   "outputs": [
    {
     "name": "stdout",
     "output_type": "stream",
     "text": [
      "1\n"
     ]
    }
   ],
   "source": [
    "max_n_context = 0\n",
    "\n",
    "for i in range(len(context)):\n",
    "    if len(context[i]) > max_n_context:\n",
    "        max_n_context = len(context[i])\n",
    "\n",
    "pprint(max_n_context)"
   ]
  },
  {
   "cell_type": "markdown",
   "id": "ff3e5bf8-124d-41ba-a6a1-e21cbdf9c5e3",
   "metadata": {
    "id": "ff3e5bf8-124d-41ba-a6a1-e21cbdf9c5e3"
   },
   "source": [
    "### Extract the context for inferences}"
   ]
  },
  {
   "cell_type": "code",
   "execution_count": null,
   "id": "fc6d016e-5c45-4464-9c7f-33e1fba3c7b1",
   "metadata": {
    "id": "fc6d016e-5c45-4464-9c7f-33e1fba3c7b1",
    "outputId": "6c78a5db-020f-46dc-a238-85a6f5e6c67f"
   },
   "outputs": [
    {
     "name": "stdout",
     "output_type": "stream",
     "text": [
      "{'answers': {'answer_start': [515], 'text': ['Saint Bernadette Soubirous']},\n",
      " 'context': 'Architecturally, the school has a Catholic character. Atop the '\n",
      "            \"Main Building's gold dome is a golden statue of the Virgin Mary. \"\n",
      "            'Immediately in front of the Main Building and facing it, is a '\n",
      "            'copper statue of Christ with arms upraised with the legend '\n",
      "            '\"Venite Ad Me Omnes\". Next to the Main Building is the Basilica '\n",
      "            'of the Sacred Heart. Immediately behind the basilica is the '\n",
      "            'Grotto, a Marian place of prayer and reflection. It is a replica '\n",
      "            'of the grotto at Lourdes, France where the Virgin Mary reputedly '\n",
      "            'appeared to Saint Bernadette Soubirous in 1858. At the end of the '\n",
      "            'main drive (and in a direct line that connects through 3 statues '\n",
      "            'and the Gold Dome), is a simple, modern stone statue of Mary.',\n",
      " 'id': '5733be284776f41900661182',\n",
      " 'question': 'To whom did the Virgin Mary allegedly appear in 1858 in Lourdes '\n",
      "             'France?',\n",
      " 'title': 'University_of_Notre_Dame'}\n"
     ]
    }
   ],
   "source": [
    "# sample training data\n",
    "\n",
    "pprint({'answers': {'answer_start': [515], 'text': ['Saint Bernadette Soubirous']},\n",
    " 'context': 'Architecturally, the school has a Catholic character. Atop the Main Building\\'s gold dome is a golden statue of the Virgin Mary. Immediately in front of the Main Building and facing it, is a copper statue of Christ with arms upraised with the legend \"Venite Ad Me Omnes\". Next to the Main Building is the Basilica of the Sacred Heart. Immediately behind the basilica is the Grotto, a Marian place of prayer and reflection. It is a replica of the grotto at Lourdes, France where the Virgin Mary reputedly appeared to Saint Bernadette Soubirous in 1858. At the end of the main drive (and in a direct line that connects through 3 statues and the Gold Dome), is a simple, modern stone statue of Mary.',\n",
    " 'id': '5733be284776f41900661182',\n",
    " 'question': 'To whom did the Virgin Mary allegedly appear in 1858 in Lourdes France?',\n",
    " 'title': 'University_of_Notre_Dame'\n",
    "})"
   ]
  },
  {
   "cell_type": "code",
   "execution_count": null,
   "id": "33a7ebec-663a-4fe5-84a9-42825209f76e",
   "metadata": {
    "id": "33a7ebec-663a-4fe5-84a9-42825209f76e"
   },
   "outputs": [],
   "source": [
    "training_data = []\n",
    "\n",
    "for index in range(len(data)): # loop through data\n",
    "    for p_index in range(len(data[index][\"paragraphs\"])): # loop through\n",
    "        for q_index in range(len(data[index][\"paragraphs\"][p_index][\"qas\"])):\n",
    "            data[index][\"paragraphs\"][p_index][\"qas\"][q_index][\"context\"] = context[index]\n",
    "            training_data.append(data[index][\"paragraphs\"][p_index][\"qas\"][q_index])"
   ]
  },
  {
   "cell_type": "code",
   "execution_count": null,
   "id": "82db7cb1-4f84-441a-b7c0-94f38ac2b2be",
   "metadata": {
    "id": "82db7cb1-4f84-441a-b7c0-94f38ac2b2be",
    "outputId": "159fe8ee-8b4a-44a6-fdf0-231179af58e0"
   },
   "outputs": [
    {
     "data": {
      "text/plain": [
       "19989"
      ]
     },
     "execution_count": 96,
     "metadata": {},
     "output_type": "execute_result"
    }
   ],
   "source": [
    "len(training_data)"
   ]
  },
  {
   "cell_type": "markdown",
   "id": "dba40007-1625-46e1-802f-81232ccf42eb",
   "metadata": {
    "id": "dba40007-1625-46e1-802f-81232ccf42eb"
   },
   "source": [
    "### Save and Push Training Data V1"
   ]
  },
  {
   "cell_type": "code",
   "execution_count": null,
   "id": "b7f425c7-b721-4722-98b1-2d46b5da7e72",
   "metadata": {
    "id": "b7f425c7-b721-4722-98b1-2d46b5da7e72"
   },
   "outputs": [],
   "source": [
    "with open('data/training_data.json', 'w') as f:\n",
    "    json.dump(training_data, f)"
   ]
  },
  {
   "cell_type": "code",
   "execution_count": null,
   "id": "29d2fd83-722a-4ada-a7bd-69746b93d28c",
   "metadata": {
    "id": "29d2fd83-722a-4ada-a7bd-69746b93d28c",
    "outputId": "760ee130-19b7-4ef8-a697-65ea5b77755c",
    "scrolled": true
   },
   "outputs": [
    {
     "name": "stdout",
     "output_type": "stream",
     "text": [
      "\u001b[?25l                                                                core\u001b[39m>\u001b[32m⠋\u001b[0m Checking graph\n",
      "Adding...                                                                       \n",
      "!\u001b[A\n",
      "Collecting files and computing hashes in data/training_data.json |0.00 [00:00,  \u001b[A\n",
      "                                                                                \u001b[A\n",
      "!\u001b[A\n",
      "  0% Checking cache in '/mnt/d/UChicago/Q4/ADSP 32021 Machine Learning Operation\u001b[A\n",
      "                                                                                \u001b[A\n",
      "!\u001b[A\n",
      "  0%|          |Adding data/training_data.json to cach0/? [00:00<?,     ?file/s]\u001b[A\n",
      "  0%|          |Adding data/training_data.json to cach0/1 [00:00<?,     ?file/s]\u001b[A\n",
      "  0%|          |Adding data/training_data.json to cach0/1 [00:00<?,     ?file/s]\u001b[A\n",
      "                                                                                \u001b[A\n",
      "!\u001b[A\n",
      "  0%|          |Checking out /mnt/d/UChicago/Q4/ADSP 30/? [00:00<?,    ?files/s]\u001b[A\n",
      "  0%|          |Checking out /mnt/d/UChicago/Q4/ADSP 30/1 [00:00<?,    ?files/s]\u001b[A\n",
      "100%|██████████|Checking out /mnt/d/UChicago/Q4/A1/1 [00:00<00:00,  3.00files/s]\u001b[A\n",
      "100% Adding...|████████████████████████████████████████|1/1 [00:00,  1.16file/s]\u001b[A\n",
      "\n",
      "To track the changes with git, run:\n",
      "\n",
      "\tgit add data/.gitignore data/training_data.json.dvc\n",
      "\n",
      "To enable auto staging, run:\n",
      "\n",
      "\tdvc config core.autostage true\n",
      "\u001b[0m[master bf4cb93] training data v1: pre-processed train_webmd_squad_v2_consec.json\n",
      " 5 files changed, 13 insertions(+)\n",
      " create mode 100755 .dvc/.gitignore\n",
      " mode change 100644 => 100755 .dvc/config\n",
      " create mode 100755 .dvcignore\n",
      " create mode 100644 data/.gitignore\n",
      " create mode 100644 data/training_data.json.dvc\n",
      "outs:\n",
      "- md5: 5328184e4f58dd7e030c2f1ca4d4b8eb\n",
      "  size: 123604392\n",
      "  isexec: true\n",
      "  hash: md5\n",
      "  path: training_data.json\n",
      "Pushing                                               |0.00 [00:00,     ?file/s]\n",
      "!\u001b[A\n",
      "  0% Checking cache in '1wa6Ax2ro0D7EtdOYmmg0O7PmT8sfFGTN/files/md5'| |0/? [00:0\u001b[A\n",
      "                                                                                \u001b[A\n",
      "!\u001b[A\n",
      "  0% Checking cache in '/mnt/d/UChicago/Q4/ADSP 32021 Machine Learning Operation\u001b[A\n",
      "                                                                                \u001b[A\n",
      "!\u001b[A\n",
      "  0%|          |Pushing to gdrive                     0/? [00:00<?,     ?file/s]\u001b[A\n",
      "  0%|          |Pushing to gdrive                     0/1 [00:00<?,     ?file/s]\u001b[A\n",
      "  0%|          |Pushing to gdrive                     0/1 [00:00<?,     ?file/s]\u001b[A\n",
      "  0%|          |Pushing to gdrive                     0/1 [00:00<?,     ?file/s]\u001b[A\n",
      "\n",
      "!\u001b[A\u001b[A\n",
      "\n",
      "  0%|          |/mnt/d/UChicago/Q4/ADSP 32021 Machi0.00/? [00:00<?,        ?B/s]\u001b[A\u001b[A\n",
      "\n",
      "  0%|          |/mnt/d/UChicago/Q4/ADSP 32021 Ma0.00/118M [00:00<?,        ?B/s]\u001b[A\u001b[A\n",
      "\n",
      "  0%|          |/mnt/d/UChicago/Q4/ADSP 8.00k/118M [00:03<13:43:30,    2.50kB/s]\u001b[A\u001b[A\n",
      "\n",
      "  0%|          |/mnt/d/UChicago/Q4/ADSP 3202360k/118M [00:03<13:34,     151kB/s]\u001b[A\u001b[A\n",
      "\n",
      "  1%|          |/mnt/d/UChicago/Q4/ADSP 3202744k/118M [00:03<05:41,     359kB/s]\u001b[A\u001b[A\n",
      "\n",
      "  1%|          |/mnt/d/UChicago/Q4/ADSP 3201.28M/118M [00:03<02:41,     757kB/s]\u001b[A\u001b[A\n",
      "\n",
      "  2%|▏         |/mnt/d/UChicago/Q4/ADSP 3202.57M/118M [00:03<01:01,    1.95MB/s]\u001b[A\u001b[A\n",
      "\n",
      "  3%|▎         |/mnt/d/UChicago/Q4/ADSP 3203.74M/118M [00:03<00:38,    3.14MB/s]\u001b[A\u001b[A\n",
      "\n",
      "  5%|▍         |/mnt/d/UChicago/Q4/ADSP 3205.38M/118M [00:03<00:23,    5.03MB/s]\u001b[A\u001b[A\n",
      "\n",
      "  6%|▌         |/mnt/d/UChicago/Q4/ADSP 3206.91M/118M [00:04<00:17,    6.74MB/s]\u001b[A\u001b[A\n",
      "\n",
      "  7%|▋         |/mnt/d/UChicago/Q4/ADSP 3208.57M/118M [00:04<00:13,    8.77MB/s]\u001b[A\u001b[A\n",
      "\n",
      "  9%|▉         |/mnt/d/UChicago/Q4/ADSP 32010.4M/118M [00:04<00:10,    10.6MB/s]\u001b[A\u001b[A\n",
      "\n",
      " 10%|█         |/mnt/d/UChicago/Q4/ADSP 32011.9M/118M [00:04<00:09,    11.8MB/s]\u001b[A\u001b[A\n",
      "\n",
      " 11%|█         |/mnt/d/UChicago/Q4/ADSP 32013.0M/118M [00:04<00:09,    11.8MB/s]\u001b[A\u001b[A\n",
      "\n",
      " 12%|█▏        |/mnt/d/UChicago/Q4/ADSP 32014.1M/118M [00:04<00:09,    11.0MB/s]\u001b[A\u001b[A\n",
      "\n",
      " 14%|█▍        |/mnt/d/UChicago/Q4/ADSP 32016.2M/118M [00:04<00:08,    13.3MB/s]\u001b[A\u001b[A\n",
      "\n",
      " 16%|█▌        |/mnt/d/UChicago/Q4/ADSP 32018.3M/118M [00:04<00:07,    14.8MB/s]\u001b[A\u001b[A\n",
      "\n",
      " 17%|█▋        |/mnt/d/UChicago/Q4/ADSP 32019.7M/118M [00:04<00:06,    14.8MB/s]\u001b[A\u001b[A\n",
      "\n",
      " 18%|█▊        |/mnt/d/UChicago/Q4/ADSP 32021.5M/118M [00:05<00:07,    13.4MB/s]\u001b[A\u001b[A\n",
      "\n",
      " 19%|█▉        |/mnt/d/UChicago/Q4/ADSP 32022.8M/118M [00:05<00:07,    12.6MB/s]\u001b[A\u001b[A\n",
      "\n",
      " 20%|██        |/mnt/d/UChicago/Q4/ADSP 32024.1M/118M [00:05<00:07,    12.7MB/s]\u001b[A\u001b[A\n",
      "\n",
      " 22%|██▏       |/mnt/d/UChicago/Q4/ADSP 32025.5M/118M [00:05<00:07,    12.9MB/s]\u001b[A\u001b[A\n",
      "\n",
      " 23%|██▎       |/mnt/d/UChicago/Q4/ADSP 32026.8M/118M [00:05<00:07,    13.0MB/s]\u001b[A\u001b[A\n",
      "\n",
      " 24%|██▍       |/mnt/d/UChicago/Q4/ADSP 32028.2M/118M [00:05<00:06,    13.5MB/s]\u001b[A\u001b[A\n",
      "\n",
      " 25%|██▌       |/mnt/d/UChicago/Q4/ADSP 32029.5M/118M [00:05<00:07,    13.0MB/s]\u001b[A\u001b[A\n",
      "\n",
      " 27%|██▋       |/mnt/d/UChicago/Q4/ADSP 32031.5M/118M [00:05<00:07,    12.8MB/s]\u001b[A\u001b[A\n",
      "\n",
      " 28%|██▊       |/mnt/d/UChicago/Q4/ADSP 32033.2M/118M [00:06<00:06,    14.0MB/s]\u001b[A\u001b[A\n",
      "\n",
      " 29%|██▉       |/mnt/d/UChicago/Q4/ADSP 32034.3M/118M [00:06<00:06,    13.3MB/s]\u001b[A\u001b[A\n",
      "\n",
      " 31%|███       |/mnt/d/UChicago/Q4/ADSP 32036.4M/118M [00:06<00:06,    13.3MB/s]\u001b[A\u001b[A\n",
      "\n",
      " 33%|███▎      |/mnt/d/UChicago/Q4/ADSP 32038.3M/118M [00:06<00:06,    13.9MB/s]\u001b[A\u001b[A\n",
      "\n",
      " 34%|███▍      |/mnt/d/UChicago/Q4/ADSP 32039.9M/118M [00:06<00:05,    14.6MB/s]\u001b[A\u001b[A\n",
      "\n",
      " 35%|███▍      |/mnt/d/UChicago/Q4/ADSP 32040.9M/118M [00:06<00:06,    12.9MB/s]\u001b[A\u001b[A\n",
      "\n",
      " 37%|███▋      |/mnt/d/UChicago/Q4/ADSP 32043.1M/118M [00:06<00:05,    13.8MB/s]\u001b[A\u001b[A\n",
      "\n",
      " 38%|███▊      |/mnt/d/UChicago/Q4/ADSP 32045.3M/118M [00:06<00:04,    16.3MB/s]\u001b[A\u001b[A\n",
      "\n",
      " 39%|███▊      |/mnt/d/UChicago/Q4/ADSP 32045.5M/118M [00:06<00:06,    12.5MB/s]\u001b[A\u001b[A\n",
      "\n",
      " 40%|███▉      |/mnt/d/UChicago/Q4/ADSP 32046.8M/118M [00:07<00:06,    12.2MB/s]\u001b[A\u001b[A\n",
      "\n",
      " 41%|████▏     |/mnt/d/UChicago/Q4/ADSP 32048.7M/118M [00:07<00:05,    14.3MB/s]\u001b[A\u001b[A\n",
      "\n",
      " 42%|████▏     |/mnt/d/UChicago/Q4/ADSP 32050.0M/118M [00:07<00:05,    12.1MB/s]\u001b[A\u001b[A\n",
      "\n",
      " 44%|████▎     |/mnt/d/UChicago/Q4/ADSP 32051.5M/118M [00:07<00:05,    11.9MB/s]\u001b[A\u001b[A\n",
      "\n",
      " 45%|████▌     |/mnt/d/UChicago/Q4/ADSP 32053.2M/118M [00:07<00:05,    13.0MB/s]\u001b[A\u001b[A\n",
      "\n",
      " 47%|████▋     |/mnt/d/UChicago/Q4/ADSP 32055.3M/118M [00:07<00:04,    15.3MB/s]\u001b[A\u001b[A\n",
      "\n",
      " 47%|████▋     |/mnt/d/UChicago/Q4/ADSP 32055.6M/118M [00:07<00:05,    10.9MB/s]\u001b[A\u001b[A\n",
      "\n",
      " 48%|████▊     |/mnt/d/UChicago/Q4/ADSP 32057.1M/118M [00:08<00:06,    10.6MB/s]\u001b[A\u001b[A\n",
      "\n",
      " 50%|████▉     |/mnt/d/UChicago/Q4/ADSP 32058.9M/118M [00:08<00:05,    11.3MB/s]\u001b[A\u001b[A\n",
      "\n",
      " 52%|█████▏    |/mnt/d/UChicago/Q4/ADSP 32060.8M/118M [00:08<00:05,    11.0MB/s]\u001b[A\u001b[A\n",
      "\n",
      " 53%|█████▎    |/mnt/d/UChicago/Q4/ADSP 32062.8M/118M [00:08<00:04,    13.3MB/s]\u001b[A\u001b[A\n",
      "\n",
      " 54%|█████▎    |/mnt/d/UChicago/Q4/ADSP 32063.2M/118M [00:08<00:05,    11.0MB/s]\u001b[A\u001b[A\n",
      "\n",
      " 54%|█████▍    |/mnt/d/UChicago/Q4/ADSP 32064.2M/118M [00:08<00:05,    10.5MB/s]\u001b[A\u001b[A\n",
      "\n",
      " 56%|█████▌    |/mnt/d/UChicago/Q4/ADSP 32065.7M/118M [00:08<00:04,    11.6MB/s]\u001b[A\u001b[A\n",
      "\n",
      " 57%|█████▋    |/mnt/d/UChicago/Q4/ADSP 32067.5M/118M [00:08<00:04,    12.6MB/s]\u001b[A\u001b[A\n",
      "\n",
      " 59%|█████▉    |/mnt/d/UChicago/Q4/ADSP 32069.6M/118M [00:09<00:03,    14.2MB/s]\u001b[A\u001b[A\n",
      "\n",
      " 60%|██████    |/mnt/d/UChicago/Q4/ADSP 32071.2M/118M [00:09<00:03,    14.3MB/s]\u001b[A\u001b[A\n",
      "\n",
      " 62%|██████▏   |/mnt/d/UChicago/Q4/ADSP 32072.6M/118M [00:09<00:03,    13.2MB/s]\u001b[A\u001b[A\n",
      "\n",
      " 63%|██████▎   |/mnt/d/UChicago/Q4/ADSP 32074.2M/118M [00:09<00:03,    13.5MB/s]\u001b[A\u001b[A\n",
      "\n",
      " 64%|██████▍   |/mnt/d/UChicago/Q4/ADSP 32075.4M/118M [00:09<00:03,    13.1MB/s]\u001b[A\u001b[A\n",
      "\n",
      " 66%|██████▌   |/mnt/d/UChicago/Q4/ADSP 32077.7M/118M [00:09<00:02,    15.3MB/s]\u001b[A\u001b[A\n",
      "\n",
      " 67%|██████▋   |/mnt/d/UChicago/Q4/ADSP 32079.1M/118M [00:09<00:02,    15.1MB/s]\u001b[A\u001b[A\n",
      "\n",
      " 68%|██████▊   |/mnt/d/UChicago/Q4/ADSP 32080.1M/118M [00:09<00:02,    13.7MB/s]\u001b[A\u001b[A\n",
      "\n",
      " 70%|██████▉   |/mnt/d/UChicago/Q4/ADSP 32082.1M/118M [00:09<00:02,    13.6MB/s]\u001b[A\u001b[A\n",
      "\n",
      " 71%|███████   |/mnt/d/UChicago/Q4/ADSP 32083.7M/118M [00:10<00:02,    13.8MB/s]\u001b[A\u001b[A\n",
      "\n",
      " 72%|███████▏  |/mnt/d/UChicago/Q4/ADSP 32085.0M/118M [00:10<00:02,    13.4MB/s]\u001b[A\u001b[A\n",
      "\n",
      " 73%|███████▎  |/mnt/d/UChicago/Q4/ADSP 32086.1M/118M [00:10<00:02,    12.6MB/s]\u001b[A\u001b[A\n",
      "\n",
      " 75%|███████▍  |/mnt/d/UChicago/Q4/ADSP 32087.8M/118M [00:10<00:02,    13.9MB/s]\u001b[A\u001b[A\n",
      "\n",
      " 76%|███████▌  |/mnt/d/UChicago/Q4/ADSP 32089.8M/118M [00:10<00:02,    13.2MB/s]\u001b[A\u001b[A\n",
      "\n",
      " 77%|███████▋  |/mnt/d/UChicago/Q4/ADSP 32091.3M/118M [00:10<00:02,    13.4MB/s]\u001b[A\u001b[A\n",
      "\n",
      " 79%|███████▉  |/mnt/d/UChicago/Q4/ADSP 32093.0M/118M [00:10<00:01,    14.5MB/s]\u001b[A\u001b[A\n",
      "\n",
      " 81%|████████  |/mnt/d/UChicago/Q4/ADSP 32095.2M/118M [00:10<00:01,    16.6MB/s]\u001b[A\u001b[A\n",
      "\n",
      " 82%|████████▏ |/mnt/d/UChicago/Q4/ADSP 32096.6M/118M [00:11<00:01,    13.9MB/s]\u001b[A\u001b[A\n",
      "\n",
      " 83%|████████▎ |/mnt/d/UChicago/Q4/ADSP 32098.3M/118M [00:11<00:01,    13.2MB/s]\u001b[A\u001b[A\n",
      "\n",
      " 85%|████████▍ |/mnt/d/UChicago/Q4/ADSP 3202100M/118M [00:11<00:01,    10.3MB/s]\u001b[A\u001b[A\n",
      "\n",
      " 87%|████████▋ |/mnt/d/UChicago/Q4/ADSP 3202103M/118M [00:11<00:01,    13.9MB/s]\u001b[A\u001b[A\n",
      "\n",
      " 88%|████████▊ |/mnt/d/UChicago/Q4/ADSP 3202104M/118M [00:11<00:01,    13.8MB/s]\u001b[A\u001b[A\n",
      "\n",
      " 89%|████████▉ |/mnt/d/UChicago/Q4/ADSP 3202105M/118M [00:11<00:00,    13.6MB/s]\u001b[A\u001b[A\n",
      "\n",
      " 90%|█████████ |/mnt/d/UChicago/Q4/ADSP 3202106M/118M [00:11<00:00,    12.4MB/s]\u001b[A\u001b[A\n",
      "\n",
      " 92%|█████████▏|/mnt/d/UChicago/Q4/ADSP 3202109M/118M [00:12<00:00,    12.6MB/s]\u001b[A\u001b[A\n",
      "\n",
      " 94%|█████████▎|/mnt/d/UChicago/Q4/ADSP 3202110M/118M [00:12<00:00,    12.8MB/s]\u001b[A\u001b[A\n",
      "\n",
      " 95%|█████████▍|/mnt/d/UChicago/Q4/ADSP 3202112M/118M [00:12<00:00,    13.2MB/s]\u001b[A\u001b[A\n",
      "\n",
      " 96%|█████████▌|/mnt/d/UChicago/Q4/ADSP 3202113M/118M [00:12<00:00,    12.2MB/s]\u001b[A\u001b[A\n",
      "\n",
      " 97%|█████████▋|/mnt/d/UChicago/Q4/ADSP 3202114M/118M [00:12<00:00,    11.6MB/s]\u001b[A\u001b[A\n",
      "\n",
      " 99%|█████████▉|/mnt/d/UChicago/Q4/ADSP 3202117M/118M [00:12<00:00,    12.6MB/s]\u001b[A\u001b[A\n",
      "100%|██████████|Pushing to gdrive                 1/1 [00:14<00:00, 14.01s/file]\u001b[A\n",
      "\n",
      "                                                                                \u001b[A\u001b[A\n",
      "1 file pushed                                                                   \u001b[A\n",
      "\u001b[0m"
     ]
    }
   ],
   "source": [
    "# upload version 1 of the training data\n",
    "!dvc add data/training_data.json\n",
    "!git add data/.gitignore data/training_data.json.dvc\n",
    "\n",
    "# push the v1 of the training data\n",
    "!git commit -m \"training data v1: pre-processed train_webmd_squad_v2_consec.json\"\n",
    "!cat data/training_data.json.dvc\n",
    "!dvc push"
   ]
  },
  {
   "cell_type": "code",
   "execution_count": null,
   "id": "9b007e19-4ccf-4d2a-b75e-b6d5e422d3dc",
   "metadata": {
    "id": "9b007e19-4ccf-4d2a-b75e-b6d5e422d3dc",
    "outputId": "40b85325-6996-4c72-8c8b-51f2bdce9040"
   },
   "outputs": [
    {
     "name": "stdout",
     "output_type": "stream",
     "text": [
      "\u001b[33mbf4cb93\u001b[m\u001b[33m (\u001b[m\u001b[1;36mHEAD -> \u001b[m\u001b[1;32mmaster\u001b[m\u001b[33m)\u001b[m training data v1: pre-processed train_webmd_squad_v2_consec.json\n",
      "\u001b[33m84b9203\u001b[m Configure remote storage\n"
     ]
    }
   ],
   "source": [
    "!git log --oneline"
   ]
  },
  {
   "cell_type": "markdown",
   "id": "2a6cfeea-5dbc-44f1-a550-cf5e42747fee",
   "metadata": {
    "id": "2a6cfeea-5dbc-44f1-a550-cf5e42747fee"
   },
   "source": [
    "## Training Data V2\n",
    "Append info from ```train_webmd_squad_v2_full.json```"
   ]
  },
  {
   "cell_type": "code",
   "execution_count": null,
   "id": "b7e9ef9d-561e-430e-b67a-372941faf9a4",
   "metadata": {
    "id": "b7e9ef9d-561e-430e-b67a-372941faf9a4"
   },
   "outputs": [],
   "source": [
    "file_path = \"mashqa_data/train_webmd_squad_v2_full.json\"\n",
    "\n",
    "data = json.loads(Path(file_path).read_text())\n",
    "data = data[\"data\"]"
   ]
  },
  {
   "cell_type": "code",
   "execution_count": null,
   "id": "feca9464-a360-488d-9965-f9af1f78939e",
   "metadata": {
    "id": "feca9464-a360-488d-9965-f9af1f78939e"
   },
   "outputs": [],
   "source": [
    "context = {}\n",
    "\n",
    "for index in range(len(data)):\n",
    "    for p_index in range(len(data[index][\"paragraphs\"])):\n",
    "        context_content = data[index][\"paragraphs\"][p_index][\"context\"]\n",
    "        context[index] = [context_content]"
   ]
  },
  {
   "cell_type": "code",
   "execution_count": null,
   "id": "ed819a2d-b9b5-4f7f-982b-23eefddadc84",
   "metadata": {
    "id": "ed819a2d-b9b5-4f7f-982b-23eefddadc84",
    "outputId": "a222370d-d32b-406c-db14-e39342775063"
   },
   "outputs": [
    {
     "data": {
      "text/plain": [
       "4532"
      ]
     },
     "execution_count": 102,
     "metadata": {},
     "output_type": "execute_result"
    }
   ],
   "source": [
    "len(context)"
   ]
  },
  {
   "cell_type": "code",
   "execution_count": null,
   "id": "f439eb42-15e4-405d-8def-280ecd6ebb9b",
   "metadata": {
    "id": "f439eb42-15e4-405d-8def-280ecd6ebb9b",
    "outputId": "b7e5b984-7257-4639-de96-3593b54139ef"
   },
   "outputs": [
    {
     "name": "stdout",
     "output_type": "stream",
     "text": [
      "1\n"
     ]
    }
   ],
   "source": [
    "max_n_context = 0\n",
    "\n",
    "for i in range(len(context)):\n",
    "    if len(context[i]) > max_n_context:\n",
    "        max_n_context = len(context[i])\n",
    "\n",
    "pprint(max_n_context)"
   ]
  },
  {
   "cell_type": "markdown",
   "id": "2a37dc08-7ab4-4be0-8a19-4e1ed8563b2e",
   "metadata": {
    "id": "2a37dc08-7ab4-4be0-8a19-4e1ed8563b2e"
   },
   "source": [
    "### Extract the context for inferences"
   ]
  },
  {
   "cell_type": "code",
   "execution_count": null,
   "id": "2e962b69-6ef1-48c5-89af-842f993229c7",
   "metadata": {
    "id": "2e962b69-6ef1-48c5-89af-842f993229c7"
   },
   "outputs": [],
   "source": [
    "for index in range(len(data)): # loop through data\n",
    "    for p_index in range(len(data[index][\"paragraphs\"])): # loop through\n",
    "        for q_index in range(len(data[index][\"paragraphs\"][p_index][\"qas\"])):\n",
    "            data[index][\"paragraphs\"][p_index][\"qas\"][q_index][\"context\"] = context[index]\n",
    "            training_data.append(data[index][\"paragraphs\"][p_index][\"qas\"][q_index])"
   ]
  },
  {
   "cell_type": "code",
   "execution_count": null,
   "id": "d4132acc-e616-47a7-b422-8320acb0f7d4",
   "metadata": {
    "id": "d4132acc-e616-47a7-b422-8320acb0f7d4",
    "outputId": "aac0aff0-7779-4a2e-dc11-20b580385dfa"
   },
   "outputs": [
    {
     "data": {
      "text/plain": [
       "47717"
      ]
     },
     "execution_count": 105,
     "metadata": {},
     "output_type": "execute_result"
    }
   ],
   "source": [
    "len(training_data)"
   ]
  },
  {
   "cell_type": "markdown",
   "id": "9145b055-1203-43fa-a7fd-955089ca5c8f",
   "metadata": {
    "id": "9145b055-1203-43fa-a7fd-955089ca5c8f"
   },
   "source": [
    "### Save and Push Training Data V2"
   ]
  },
  {
   "cell_type": "code",
   "execution_count": null,
   "id": "e45489f0-9552-4db6-a134-51730cd6d686",
   "metadata": {
    "id": "e45489f0-9552-4db6-a134-51730cd6d686"
   },
   "outputs": [],
   "source": [
    "with open('data/training_data.json', 'w') as f:\n",
    "    json.dump(training_data, f)"
   ]
  },
  {
   "cell_type": "code",
   "execution_count": null,
   "id": "716c1e5e-f0f2-40df-9254-05235ef375b7",
   "metadata": {
    "id": "716c1e5e-f0f2-40df-9254-05235ef375b7",
    "outputId": "87fb26ec-bc3e-4896-d1c7-bcfb811cd450",
    "scrolled": true
   },
   "outputs": [
    {
     "name": "stdout",
     "output_type": "stream",
     "text": [
      "\u001b[?25l\u001b[32m⠋\u001b[0m Checking graph                                       core\u001b[39m>\n",
      "Adding...                                                                       \n",
      "!\u001b[A\n",
      "Collecting files and computing hashes in data/training_data.json |0.00 [00:00,  \u001b[A\n",
      "                                                                                \u001b[A\n",
      "!\u001b[A\n",
      "  0% Checking cache in '/mnt/d/UChicago/Q4/ADSP 32021 Machine Learning Operation\u001b[A\n",
      "                                                                                \u001b[A\n",
      "!\u001b[A\n",
      "  0%|          |Adding data/training_data.json to cach0/? [00:00<?,     ?file/s]\u001b[A\n",
      "  0%|          |Adding data/training_data.json to cach0/1 [00:00<?,     ?file/s]\u001b[A\n",
      "  0%|          |Adding data/training_data.json to cach0/1 [00:00<?,     ?file/s]\u001b[A\n",
      "                                                                                \u001b[A\n",
      "!\u001b[A\n",
      "  0%|          |Checking out /mnt/d/UChicago/Q4/ADSP 30/? [00:00<?,    ?files/s]\u001b[A\n",
      "  0%|          |Checking out /mnt/d/UChicago/Q4/ADSP 30/1 [00:00<?,    ?files/s]\u001b[A\n",
      "100%|██████████|Checking out /mnt/d/UChicago/Q4/A1/1 [00:00<00:00,  1.22files/s]\u001b[A\n",
      "100% Adding...|████████████████████████████████████████|1/1 [00:01,  1.86s/file]\u001b[A\n",
      "\n",
      "To track the changes with git, run:\n",
      "\n",
      "\tgit add data/training_data.json.dvc\n",
      "\n",
      "To enable auto staging, run:\n",
      "\n",
      "\tdvc config core.autostage true\n",
      "\u001b[0m[master 9c7cf0e] training data v2: combine v1 with pre-processed train_webmd_squad_v2_full.json\n",
      " 1 file changed, 2 insertions(+), 2 deletions(-)\n",
      "outs:\n",
      "- md5: 2738eb56c1c0d4e7471366484e1f0663\n",
      "  size: 292770612\n",
      "  isexec: true\n",
      "  hash: md5\n",
      "  path: training_data.json\n",
      "Pushing                                               |0.00 [00:00,     ?file/s]\n",
      "!\u001b[A\n",
      "  0% Checking cache in '1wa6Ax2ro0D7EtdOYmmg0O7PmT8sfFGTN/files/md5'| |0/? [00:0\u001b[A\n",
      "                                                                                \u001b[A\n",
      "!\u001b[A\n",
      "  0% Checking cache in '/mnt/d/UChicago/Q4/ADSP 32021 Machine Learning Operation\u001b[A\n",
      "                                                                                \u001b[A\n",
      "!\u001b[A\n",
      "  0%|          |Pushing to gdrive                     0/? [00:00<?,     ?file/s]\u001b[A\n",
      "  0%|          |Pushing to gdrive                     0/1 [00:00<?,     ?file/s]\u001b[A\n",
      "  0%|          |Pushing to gdrive                     0/1 [00:00<?,     ?file/s]\u001b[A\n",
      "  0%|          |Pushing to gdrive                     0/1 [00:00<?,     ?file/s]\u001b[A\n",
      "\n",
      "!\u001b[A\u001b[A\n",
      "\n",
      "  0%|          |/mnt/d/UChicago/Q4/ADSP 32021 Machi0.00/? [00:00<?,        ?B/s]\u001b[A\u001b[A\n",
      "\n",
      "  0%|          |/mnt/d/UChicago/Q4/ADSP 32021 Ma0.00/279M [00:00<?,        ?B/s]\u001b[A\u001b[A\n",
      "\n",
      "  0%|          |/mnt/d/UChicago/Q4/ADSP 8.00k/279M [00:01<15:20:38,    5.30kB/s]\u001b[A\u001b[A\n",
      "\n",
      "  0%|          |/mnt/d/UChicago/Q4/ADSP 3202864k/279M [00:01<06:31,     745kB/s]\u001b[A\u001b[A\n",
      "\n",
      "  1%|          |/mnt/d/UChicago/Q4/ADSP 3202.02M/279M [00:01<02:27,    1.97MB/s]\u001b[A\u001b[A\n",
      "\n",
      "  1%|          |/mnt/d/UChicago/Q4/ADSP 3203.25M/279M [00:01<01:25,    3.40MB/s]\u001b[A\u001b[A\n",
      "\n",
      "  2%|▏         |/mnt/d/UChicago/Q4/ADSP 3204.77M/279M [00:01<00:53,    5.38MB/s]\u001b[A\u001b[A\n",
      "\n",
      "  2%|▏         |/mnt/d/UChicago/Q4/ADSP 3206.10M/279M [00:02<00:41,    6.97MB/s]\u001b[A\u001b[A\n",
      "\n",
      "  2%|▏         |/mnt/d/UChicago/Q4/ADSP 3206.77M/279M [00:02<00:44,    6.44MB/s]\u001b[A\u001b[A\n",
      "\n",
      "  3%|▎         |/mnt/d/UChicago/Q4/ADSP 3208.06M/279M [00:02<00:35,    7.96MB/s]\u001b[A\u001b[A\n",
      "\n",
      "  3%|▎         |/mnt/d/UChicago/Q4/ADSP 3209.52M/279M [00:02<00:31,    9.11MB/s]\u001b[A\u001b[A\n",
      "\n",
      "  4%|▍         |/mnt/d/UChicago/Q4/ADSP 32011.0M/279M [00:02<00:26,    10.5MB/s]\u001b[A\u001b[A\n",
      "\n",
      "  4%|▍         |/mnt/d/UChicago/Q4/ADSP 32012.5M/279M [00:02<00:25,    10.8MB/s]\u001b[A\u001b[A\n",
      "\n",
      "  5%|▍         |/mnt/d/UChicago/Q4/ADSP 32013.6M/279M [00:02<00:25,    11.0MB/s]\u001b[A\u001b[A\n",
      "\n",
      "  6%|▌         |/mnt/d/UChicago/Q4/ADSP 32016.0M/279M [00:02<00:21,    13.0MB/s]\u001b[A\u001b[A\n",
      "\n",
      "  6%|▋         |/mnt/d/UChicago/Q4/ADSP 32017.6M/279M [00:03<00:20,    13.5MB/s]\u001b[A\u001b[A\n",
      "\n",
      "  7%|▋         |/mnt/d/UChicago/Q4/ADSP 32018.9M/279M [00:03<00:21,    12.8MB/s]\u001b[A\u001b[A\n",
      "\n",
      "  7%|▋         |/mnt/d/UChicago/Q4/ADSP 32020.5M/279M [00:03<00:21,    12.4MB/s]\u001b[A\u001b[A\n",
      "\n",
      "  8%|▊         |/mnt/d/UChicago/Q4/ADSP 32022.9M/279M [00:03<00:21,    12.5MB/s]\u001b[A\u001b[A\n",
      "\n",
      "  9%|▉         |/mnt/d/UChicago/Q4/ADSP 32025.0M/279M [00:03<00:19,    13.9MB/s]\u001b[A\u001b[A\n",
      "\n",
      " 10%|▉         |/mnt/d/UChicago/Q4/ADSP 32027.8M/279M [00:03<00:21,    12.3MB/s]\u001b[A\u001b[A\n",
      "\n",
      " 11%|█         |/mnt/d/UChicago/Q4/ADSP 32029.8M/279M [00:04<00:21,    12.2MB/s]\u001b[A\u001b[A\n",
      "\n",
      " 12%|█▏        |/mnt/d/UChicago/Q4/ADSP 32033.2M/279M [00:04<00:15,    16.7MB/s]\u001b[A\u001b[A\n",
      "\n",
      " 12%|█▏        |/mnt/d/UChicago/Q4/ADSP 32033.3M/279M [00:04<00:22,    11.7MB/s]\u001b[A\u001b[A\n",
      "\n",
      " 13%|█▎        |/mnt/d/UChicago/Q4/ADSP 32035.7M/279M [00:04<00:20,    12.7MB/s]\u001b[A\u001b[A\n",
      "\n",
      " 14%|█▎        |/mnt/d/UChicago/Q4/ADSP 32038.1M/279M [00:04<00:19,    12.8MB/s]\u001b[A\u001b[A\n",
      "\n",
      " 15%|█▍        |/mnt/d/UChicago/Q4/ADSP 32040.6M/279M [00:04<00:18,    13.5MB/s]\u001b[A\u001b[A\n",
      "\n",
      " 15%|█▌        |/mnt/d/UChicago/Q4/ADSP 32042.8M/279M [00:05<00:19,    12.5MB/s]\u001b[A\u001b[A\n",
      "\n",
      " 16%|█▌        |/mnt/d/UChicago/Q4/ADSP 32044.6M/279M [00:05<00:19,    12.5MB/s]\u001b[A\u001b[A\n",
      "\n",
      " 17%|█▋        |/mnt/d/UChicago/Q4/ADSP 32047.3M/279M [00:05<00:15,    15.7MB/s]\u001b[A\u001b[A\n",
      "\n",
      " 17%|█▋        |/mnt/d/UChicago/Q4/ADSP 32048.6M/279M [00:05<00:17,    13.5MB/s]\u001b[A\u001b[A\n",
      "\n",
      " 18%|█▊        |/mnt/d/UChicago/Q4/ADSP 32051.1M/279M [00:05<00:17,    13.3MB/s]\u001b[A\u001b[A\n",
      "\n",
      " 19%|█▉        |/mnt/d/UChicago/Q4/ADSP 32054.1M/279M [00:05<00:19,    12.2MB/s]\u001b[A\u001b[A\n",
      "\n",
      " 21%|██        |/mnt/d/UChicago/Q4/ADSP 32057.7M/279M [00:06<00:17,    13.2MB/s]\u001b[A\u001b[A\n",
      "\n",
      " 21%|██        |/mnt/d/UChicago/Q4/ADSP 32059.2M/279M [00:06<00:17,    13.2MB/s]\u001b[A\u001b[A\n",
      "\n",
      " 22%|██▏       |/mnt/d/UChicago/Q4/ADSP 32060.6M/279M [00:06<00:17,    13.1MB/s]\u001b[A\u001b[A\n",
      "\n",
      " 23%|██▎       |/mnt/d/UChicago/Q4/ADSP 32063.6M/279M [00:06<00:16,    13.4MB/s]\u001b[A\u001b[A\n",
      "\n",
      " 24%|██▍       |/mnt/d/UChicago/Q4/ADSP 32067.2M/279M [00:06<00:16,    13.5MB/s]\u001b[A\u001b[A\n",
      "\n",
      " 25%|██▍       |/mnt/d/UChicago/Q4/ADSP 32069.1M/279M [00:07<00:16,    13.5MB/s]\u001b[A\u001b[A\n",
      "\n",
      " 25%|██▌       |/mnt/d/UChicago/Q4/ADSP 32071.0M/279M [00:07<00:15,    13.9MB/s]\u001b[A\u001b[A\n",
      "\n",
      " 26%|██▋       |/mnt/d/UChicago/Q4/ADSP 32073.5M/279M [00:07<00:13,    16.3MB/s]\u001b[A\u001b[A\n",
      "\n",
      " 27%|██▋       |/mnt/d/UChicago/Q4/ADSP 32075.4M/279M [00:07<00:14,    14.9MB/s]\u001b[A\u001b[A\n",
      "\n",
      " 28%|██▊       |/mnt/d/UChicago/Q4/ADSP 32077.7M/279M [00:07<00:14,    14.1MB/s]\u001b[A\u001b[A\n",
      "\n",
      " 28%|██▊       |/mnt/d/UChicago/Q4/ADSP 32079.1M/279M [00:07<00:16,    12.9MB/s]\u001b[A\u001b[A\n",
      "\n",
      " 29%|██▉       |/mnt/d/UChicago/Q4/ADSP 32082.4M/279M [00:07<00:11,    17.3MB/s]\u001b[A\u001b[A\n",
      "\n",
      " 30%|██▉       |/mnt/d/UChicago/Q4/ADSP 32082.7M/279M [00:08<00:16,    12.2MB/s]\u001b[A\u001b[A\n",
      "\n",
      " 30%|███       |/mnt/d/UChicago/Q4/ADSP 32084.4M/279M [00:08<00:15,    13.4MB/s]\u001b[A\u001b[A\n",
      "\n",
      " 31%|███       |/mnt/d/UChicago/Q4/ADSP 32085.5M/279M [00:08<00:15,    12.9MB/s]\u001b[A\u001b[A\n",
      "\n",
      " 32%|███▏      |/mnt/d/UChicago/Q4/ADSP 32089.1M/279M [00:08<00:13,    14.9MB/s]\u001b[A\u001b[A\n",
      "\n",
      " 33%|███▎      |/mnt/d/UChicago/Q4/ADSP 32090.8M/279M [00:08<00:15,    12.7MB/s]\u001b[A\u001b[A\n",
      "\n",
      " 34%|███▎      |/mnt/d/UChicago/Q4/ADSP 32093.6M/279M [00:09<00:15,    12.3MB/s]\u001b[A\u001b[A\n",
      "\n",
      " 34%|███▍      |/mnt/d/UChicago/Q4/ADSP 32095.3M/279M [00:09<00:16,    11.4MB/s]\u001b[A\u001b[A\n",
      "\n",
      " 35%|███▍      |/mnt/d/UChicago/Q4/ADSP 32097.0M/279M [00:09<00:17,    10.9MB/s]\u001b[A\u001b[A\n",
      "\n",
      " 36%|███▌      |/mnt/d/UChicago/Q4/ADSP 32099.2M/279M [00:09<00:16,    11.2MB/s]\u001b[A\u001b[A\n",
      "\n",
      " 36%|███▌      |/mnt/d/UChicago/Q4/ADSP 3202100M/279M [00:09<00:18,    10.2MB/s]\u001b[A\u001b[A\n",
      "\n",
      " 37%|███▋      |/mnt/d/UChicago/Q4/ADSP 3202104M/279M [00:10<00:15,    11.7MB/s]\u001b[A\u001b[A\n",
      "\n",
      " 38%|███▊      |/mnt/d/UChicago/Q4/ADSP 3202106M/279M [00:10<00:14,    12.2MB/s]\u001b[A\u001b[A\n",
      "\n",
      " 39%|███▊      |/mnt/d/UChicago/Q4/ADSP 3202108M/279M [00:10<00:13,    12.9MB/s]\u001b[A\u001b[A\n",
      "\n",
      " 39%|███▉      |/mnt/d/UChicago/Q4/ADSP 3202109M/279M [00:10<00:13,    12.8MB/s]\u001b[A\u001b[A\n",
      "\n",
      " 40%|████      |/mnt/d/UChicago/Q4/ADSP 3202113M/279M [00:10<00:12,    13.8MB/s]\u001b[A\u001b[A\n",
      "\n",
      " 41%|████▏     |/mnt/d/UChicago/Q4/ADSP 3202116M/279M [00:10<00:09,    17.3MB/s]\u001b[A\u001b[A\n",
      "\n",
      " 42%|████▏     |/mnt/d/UChicago/Q4/ADSP 3202117M/279M [00:10<00:12,    13.4MB/s]\u001b[A\u001b[A\n",
      "\n",
      " 43%|████▎     |/mnt/d/UChicago/Q4/ADSP 3202119M/279M [00:11<00:11,    15.0MB/s]\u001b[A\u001b[A\n",
      "\n",
      " 43%|████▎     |/mnt/d/UChicago/Q4/ADSP 3202120M/279M [00:11<00:12,    13.9MB/s]\u001b[A\u001b[A\n",
      "\n",
      " 44%|████▎     |/mnt/d/UChicago/Q4/ADSP 3202122M/279M [00:11<00:11,    13.8MB/s]\u001b[A\u001b[A\n",
      "\n",
      " 44%|████▍     |/mnt/d/UChicago/Q4/ADSP 3202123M/279M [00:11<00:11,    14.4MB/s]\u001b[A\u001b[A\n",
      "\n",
      " 46%|████▌     |/mnt/d/UChicago/Q4/ADSP 3202127M/279M [00:11<00:09,    16.0MB/s]\u001b[A\u001b[A\n",
      "\n",
      " 46%|████▌     |/mnt/d/UChicago/Q4/ADSP 3202129M/279M [00:11<00:10,    15.5MB/s]\u001b[A\u001b[A\n",
      "\n",
      " 47%|████▋     |/mnt/d/UChicago/Q4/ADSP 3202130M/279M [00:11<00:10,    15.4MB/s]\u001b[A\u001b[A\n",
      "\n",
      " 47%|████▋     |/mnt/d/UChicago/Q4/ADSP 3202133M/279M [00:12<00:11,    13.8MB/s]\u001b[A\u001b[A\n",
      "\n",
      " 48%|████▊     |/mnt/d/UChicago/Q4/ADSP 3202135M/279M [00:12<00:10,    14.5MB/s]\u001b[A\u001b[A\n",
      "\n",
      " 49%|████▉     |/mnt/d/UChicago/Q4/ADSP 3202136M/279M [00:12<00:10,    14.6MB/s]\u001b[A\u001b[A\n",
      "\n",
      " 50%|████▉     |/mnt/d/UChicago/Q4/ADSP 3202139M/279M [00:12<00:10,    14.7MB/s]\u001b[A\u001b[A\n",
      "\n",
      " 50%|█████     |/mnt/d/UChicago/Q4/ADSP 3202141M/279M [00:12<00:09,    14.7MB/s]\u001b[A\u001b[A\n",
      "\n",
      " 51%|█████▏    |/mnt/d/UChicago/Q4/ADSP 3202143M/279M [00:12<00:09,    14.5MB/s]\u001b[A\u001b[A\n",
      "\n",
      " 53%|█████▎    |/mnt/d/UChicago/Q4/ADSP 3202147M/279M [00:13<00:10,    13.1MB/s]\u001b[A\u001b[A\n",
      "\n",
      " 54%|█████▎    |/mnt/d/UChicago/Q4/ADSP 3202150M/279M [00:13<00:10,    13.6MB/s]\u001b[A\u001b[A\n",
      "\n",
      " 55%|█████▍    |/mnt/d/UChicago/Q4/ADSP 3202153M/279M [00:13<00:08,    14.9MB/s]\u001b[A\u001b[A\n",
      "\n",
      " 56%|█████▌    |/mnt/d/UChicago/Q4/ADSP 3202155M/279M [00:13<00:09,    14.2MB/s]\u001b[A\u001b[A\n",
      "\n",
      " 56%|█████▋    |/mnt/d/UChicago/Q4/ADSP 3202157M/279M [00:13<00:09,    13.2MB/s]\u001b[A\u001b[A\n",
      "\n",
      " 57%|█████▋    |/mnt/d/UChicago/Q4/ADSP 3202160M/279M [00:13<00:07,    16.0MB/s]\u001b[A\u001b[A\n",
      "\n",
      " 58%|█████▊    |/mnt/d/UChicago/Q4/ADSP 3202161M/279M [00:14<00:08,    15.2MB/s]\u001b[A\u001b[A\n",
      "\n",
      " 58%|█████▊    |/mnt/d/UChicago/Q4/ADSP 3202163M/279M [00:14<00:09,    12.2MB/s]\u001b[A\u001b[A\n",
      "\n",
      " 59%|█████▉    |/mnt/d/UChicago/Q4/ADSP 3202165M/279M [00:14<00:08,    13.8MB/s]\u001b[A\u001b[A\n",
      "\n",
      " 60%|█████▉    |/mnt/d/UChicago/Q4/ADSP 3202167M/279M [00:14<00:08,    14.2MB/s]\u001b[A\u001b[A\n",
      "\n",
      " 61%|██████    |/mnt/d/UChicago/Q4/ADSP 3202170M/279M [00:14<00:08,    13.4MB/s]\u001b[A\u001b[A\n",
      "\n",
      " 62%|██████▏   |/mnt/d/UChicago/Q4/ADSP 3202174M/279M [00:14<00:06,    17.8MB/s]\u001b[A\u001b[A\n",
      "\n",
      " 63%|██████▎   |/mnt/d/UChicago/Q4/ADSP 3202175M/279M [00:15<00:06,    16.9MB/s]\u001b[A\u001b[A\n",
      "\n",
      " 63%|██████▎   |/mnt/d/UChicago/Q4/ADSP 3202177M/279M [00:15<00:06,    16.3MB/s]\u001b[A\u001b[A\n",
      "\n",
      " 64%|██████▍   |/mnt/d/UChicago/Q4/ADSP 3202179M/279M [00:15<00:07,    14.1MB/s]\u001b[A\u001b[A\n",
      "\n",
      " 65%|██████▍   |/mnt/d/UChicago/Q4/ADSP 3202180M/279M [00:15<00:07,    13.9MB/s]\u001b[A\u001b[A\n",
      "\n",
      " 65%|██████▌   |/mnt/d/UChicago/Q4/ADSP 3202182M/279M [00:15<00:07,    14.2MB/s]\u001b[A\u001b[A\n",
      "\n",
      " 66%|██████▋   |/mnt/d/UChicago/Q4/ADSP 3202185M/279M [00:15<00:05,    19.3MB/s]\u001b[A\u001b[A\n",
      "\n",
      " 67%|██████▋   |/mnt/d/UChicago/Q4/ADSP 3202186M/279M [00:15<00:06,    14.8MB/s]\u001b[A\u001b[A\n",
      "\n",
      " 68%|██████▊   |/mnt/d/UChicago/Q4/ADSP 3202188M/279M [00:15<00:05,    17.1MB/s]\u001b[A\u001b[A\n",
      "\n",
      " 68%|██████▊   |/mnt/d/UChicago/Q4/ADSP 3202189M/279M [00:16<00:06,    13.6MB/s]\u001b[A\u001b[A\n",
      "\n",
      " 69%|██████▊   |/mnt/d/UChicago/Q4/ADSP 3202191M/279M [00:16<00:07,    12.5MB/s]\u001b[A\u001b[A\n",
      "\n",
      " 70%|██████▉   |/mnt/d/UChicago/Q4/ADSP 3202194M/279M [00:16<00:06,    14.6MB/s]\u001b[A\u001b[A\n",
      "\n",
      " 71%|███████   |/mnt/d/UChicago/Q4/ADSP 3202197M/279M [00:16<00:04,    17.6MB/s]\u001b[A\u001b[A\n",
      "\n",
      " 71%|███████   |/mnt/d/UChicago/Q4/ADSP 3202198M/279M [00:16<00:05,    15.9MB/s]\u001b[A\u001b[A\n",
      "\n",
      " 72%|███████▏  |/mnt/d/UChicago/Q4/ADSP 3202200M/279M [00:16<00:06,    13.5MB/s]\u001b[A\u001b[A\n",
      "\n",
      " 72%|███████▏  |/mnt/d/UChicago/Q4/ADSP 3202201M/279M [00:16<00:05,    13.8MB/s]\u001b[A\u001b[A\n",
      "\n",
      " 73%|███████▎  |/mnt/d/UChicago/Q4/ADSP 3202205M/279M [00:17<00:04,    16.8MB/s]\u001b[A\u001b[A\n",
      "\n",
      " 74%|███████▍  |/mnt/d/UChicago/Q4/ADSP 3202207M/279M [00:17<00:05,    15.1MB/s]\u001b[A\u001b[A\n",
      "\n",
      " 75%|███████▌  |/mnt/d/UChicago/Q4/ADSP 3202210M/279M [00:17<00:04,    16.1MB/s]\u001b[A\u001b[A\n",
      "\n",
      " 76%|███████▌  |/mnt/d/UChicago/Q4/ADSP 3202212M/279M [00:17<00:04,    17.6MB/s]\u001b[A\u001b[A\n",
      "\n",
      " 76%|███████▋  |/mnt/d/UChicago/Q4/ADSP 3202213M/279M [00:17<00:04,    14.5MB/s]\u001b[A\u001b[A\n",
      "\n",
      " 77%|███████▋  |/mnt/d/UChicago/Q4/ADSP 3202216M/279M [00:17<00:04,    15.4MB/s]\u001b[A\u001b[A\n",
      "\n",
      " 78%|███████▊  |/mnt/d/UChicago/Q4/ADSP 3202218M/279M [00:18<00:04,    15.7MB/s]\u001b[A\u001b[A\n",
      "\n",
      " 79%|███████▊  |/mnt/d/UChicago/Q4/ADSP 3202220M/279M [00:18<00:04,    15.0MB/s]\u001b[A\u001b[A\n",
      "\n",
      " 80%|███████▉  |/mnt/d/UChicago/Q4/ADSP 3202223M/279M [00:18<00:03,    16.7MB/s]\u001b[A\u001b[A\n",
      "\n",
      " 80%|████████  |/mnt/d/UChicago/Q4/ADSP 3202224M/279M [00:18<00:03,    15.5MB/s]\u001b[A\u001b[A\n",
      "\n",
      " 81%|████████  |/mnt/d/UChicago/Q4/ADSP 3202226M/279M [00:18<00:03,    15.7MB/s]\u001b[A\u001b[A\n",
      "\n",
      " 82%|████████▏ |/mnt/d/UChicago/Q4/ADSP 3202228M/279M [00:18<00:03,    13.4MB/s]\u001b[A\u001b[A\n",
      "\n",
      " 83%|████████▎ |/mnt/d/UChicago/Q4/ADSP 3202231M/279M [00:18<00:02,    17.4MB/s]\u001b[A\u001b[A\n",
      "\n",
      " 83%|████████▎ |/mnt/d/UChicago/Q4/ADSP 3202233M/279M [00:18<00:02,    16.6MB/s]\u001b[A\u001b[A\n",
      "\n",
      " 84%|████████▍ |/mnt/d/UChicago/Q4/ADSP 3202234M/279M [00:19<00:03,    15.2MB/s]\u001b[A\u001b[A\n",
      "\n",
      " 85%|████████▍ |/mnt/d/UChicago/Q4/ADSP 3202236M/279M [00:19<00:02,    15.6MB/s]\u001b[A\u001b[A\n",
      "\n",
      " 85%|████████▍ |/mnt/d/UChicago/Q4/ADSP 3202237M/279M [00:19<00:03,    12.4MB/s]\u001b[A\u001b[A\n",
      "\n",
      " 86%|████████▌ |/mnt/d/UChicago/Q4/ADSP 3202240M/279M [00:19<00:02,    16.0MB/s]\u001b[A\u001b[A\n",
      "\n",
      " 87%|████████▋ |/mnt/d/UChicago/Q4/ADSP 3202242M/279M [00:19<00:02,    18.6MB/s]\u001b[A\u001b[A\n",
      "\n",
      " 87%|████████▋ |/mnt/d/UChicago/Q4/ADSP 3202244M/279M [00:19<00:02,    15.0MB/s]\u001b[A\u001b[A\n",
      "\n",
      " 88%|████████▊ |/mnt/d/UChicago/Q4/ADSP 3202246M/279M [00:19<00:02,    15.9MB/s]\u001b[A\u001b[A\n",
      "\n",
      " 89%|████████▉ |/mnt/d/UChicago/Q4/ADSP 3202248M/279M [00:20<00:02,    15.8MB/s]\u001b[A\u001b[A\n",
      "\n",
      " 90%|████████▉ |/mnt/d/UChicago/Q4/ADSP 3202250M/279M [00:20<00:01,    18.0MB/s]\u001b[A\u001b[A\n",
      "\n",
      " 90%|█████████ |/mnt/d/UChicago/Q4/ADSP 3202252M/279M [00:20<00:01,    17.2MB/s]\u001b[A\u001b[A\n",
      "\n",
      " 91%|█████████ |/mnt/d/UChicago/Q4/ADSP 3202253M/279M [00:20<00:01,    16.4MB/s]\u001b[A\u001b[A\n",
      "\n",
      " 91%|█████████ |/mnt/d/UChicago/Q4/ADSP 3202254M/279M [00:20<00:01,    14.6MB/s]\u001b[A\u001b[A\n",
      "\n",
      " 92%|█████████▏|/mnt/d/UChicago/Q4/ADSP 3202257M/279M [00:20<00:01,    14.4MB/s]\u001b[A\u001b[A\n",
      "\n",
      " 93%|█████████▎|/mnt/d/UChicago/Q4/ADSP 3202259M/279M [00:20<00:01,    14.6MB/s]\u001b[A\u001b[A\n",
      "\n",
      " 93%|█████████▎|/mnt/d/UChicago/Q4/ADSP 3202260M/279M [00:20<00:01,    13.9MB/s]\u001b[A\u001b[A\n",
      "\n",
      " 94%|█████████▍|/mnt/d/UChicago/Q4/ADSP 3202262M/279M [00:21<00:01,    12.5MB/s]\u001b[A\u001b[A\n",
      "\n",
      " 94%|█████████▍|/mnt/d/UChicago/Q4/ADSP 3202263M/279M [00:21<00:01,    12.4MB/s]\u001b[A\u001b[A\n",
      "\n",
      " 95%|█████████▍|/mnt/d/UChicago/Q4/ADSP 3202264M/279M [00:21<00:01,    12.5MB/s]\u001b[A\u001b[A\n",
      "\n",
      " 96%|█████████▌|/mnt/d/UChicago/Q4/ADSP 3202267M/279M [00:21<00:00,    15.5MB/s]\u001b[A\u001b[A\n",
      "\n",
      " 96%|█████████▌|/mnt/d/UChicago/Q4/ADSP 3202268M/279M [00:21<00:00,    13.8MB/s]\u001b[A\u001b[A\n",
      "\n",
      " 96%|█████████▋|/mnt/d/UChicago/Q4/ADSP 3202269M/279M [00:21<00:00,    13.1MB/s]\u001b[A\u001b[A\n",
      "\n",
      " 98%|█████████▊|/mnt/d/UChicago/Q4/ADSP 3202272M/279M [00:21<00:00,    13.4MB/s]\u001b[A\u001b[A\n",
      "\n",
      " 99%|█████████▉|/mnt/d/UChicago/Q4/ADSP 3202276M/279M [00:22<00:00,    15.5MB/s]\u001b[A\u001b[A\n",
      "\n",
      "100%|█████████▉|/mnt/d/UChicago/Q4/ADSP 3202278M/279M [00:22<00:00,    16.3MB/s]\u001b[A\u001b[A\n",
      "100%|██████████|Pushing to gdrive                 1/1 [00:24<00:00, 23.77s/file]\u001b[A\n",
      "\n",
      "                                                                                \u001b[A\u001b[A\n",
      "1 file pushed                                                                   \u001b[A\n",
      "\u001b[0m"
     ]
    }
   ],
   "source": [
    "# upload version 2 of the training data\n",
    "!dvc add data/training_data.json\n",
    "!git add data/.gitignore data/training_data.json.dvc\n",
    "\n",
    "# push the v2 of the training data\n",
    "!git commit -m \"training data v2: combine v1 with pre-processed train_webmd_squad_v2_full.json\"\n",
    "!cat data/training_data.json.dvc\n",
    "!dvc push"
   ]
  },
  {
   "cell_type": "code",
   "execution_count": null,
   "id": "af45d48e-6ec7-4977-8645-3c6642b775fa",
   "metadata": {
    "id": "af45d48e-6ec7-4977-8645-3c6642b775fa",
    "outputId": "19ab1ef3-8fe4-4856-d884-e7b03030216d"
   },
   "outputs": [
    {
     "name": "stdout",
     "output_type": "stream",
     "text": [
      "\u001b[33m9c7cf0e\u001b[m\u001b[33m (\u001b[m\u001b[1;36mHEAD -> \u001b[m\u001b[1;32mmaster\u001b[m\u001b[33m)\u001b[m training data v2: combine v1 with pre-processed train_webmd_squad_v2_full.json\n",
      "\u001b[33mbf4cb93\u001b[m training data v1: pre-processed train_webmd_squad_v2_consec.json\n",
      "\u001b[33m84b9203\u001b[m Configure remote storage\n"
     ]
    }
   ],
   "source": [
    "!git log --oneline"
   ]
  },
  {
   "cell_type": "markdown",
   "id": "afe182f3-0d63-4edc-a8f8-d994ef72f213",
   "metadata": {
    "id": "afe182f3-0d63-4edc-a8f8-d994ef72f213"
   },
   "source": [
    "### Checking that both v1 and v2 are properly stored"
   ]
  },
  {
   "cell_type": "code",
   "execution_count": null,
   "id": "117e2fe2-daab-4dfe-923c-497d6bfe96d6",
   "metadata": {
    "id": "117e2fe2-daab-4dfe-923c-497d6bfe96d6",
    "outputId": "f8d42054-8e80-49a0-ee23-d5f99fe478c0",
    "scrolled": true
   },
   "outputs": [
    {
     "name": "stdout",
     "output_type": "stream",
     "text": [
      "Updated 1 path from 4189675\n",
      "Building workspace index                              |2.00 [00:00, 98.2entry/s]\n",
      "Comparing indexes                                    |3.00 [00:00, 1.65kentry/s]\n",
      "Applying changes                                      |0.00 [00:00,     ?file/s]\n",
      "!\u001b[A\n",
      "  0%|          |/mnt/d/UChicago/Q4/ADSP 32021 Machi0.00/? [00:00<?,        ?B/s]\u001b[A\n",
      "  0%|          |/mnt/d/UChicago/Q4/ADSP 32021 Ma0.00/118M [00:00<?,        ?B/s]\u001b[A\n",
      " 29%|██▉       |/mnt/d/UChicago/Q4/ADSP 32034.0M/118M [00:00<00:00,     347MB/s]\u001b[A\n",
      " 62%|██████▏   |/mnt/d/UChicago/Q4/ADSP 32073.0M/118M [00:00<00:00,     379MB/s]\u001b[A\n",
      " 93%|█████████▎|/mnt/d/UChicago/Q4/ADSP 3202110M/118M [00:00<00:00,     380MB/s]\u001b[A\n",
      "Applying changes                                      |1.00 [00:00,  2.53file/s]\u001b[A\n",
      "\u001b[33mM\u001b[0m       data/training_data.json\n",
      "\u001b[0m"
     ]
    }
   ],
   "source": [
    "# checkout v1\n",
    "!git checkout bf4cb93 data/training_data.json.dvc\n",
    "!dvc checkout"
   ]
  },
  {
   "cell_type": "code",
   "execution_count": null,
   "id": "8913b17e-eced-4ee0-891c-af48fc9b23c3",
   "metadata": {
    "id": "8913b17e-eced-4ee0-891c-af48fc9b23c3",
    "outputId": "6f2c4549-6705-4f00-b481-1d974fa6baa7"
   },
   "outputs": [
    {
     "name": "stdout",
     "output_type": "stream",
     "text": [
      "19989\n"
     ]
    }
   ],
   "source": [
    "training_data = json.loads(Path(\"data/training_data.json\").read_text())\n",
    "print(len(training_data))"
   ]
  },
  {
   "cell_type": "code",
   "execution_count": null,
   "id": "4edcd684-f4ea-49a1-8d9d-62e8378f0ae1",
   "metadata": {
    "id": "4edcd684-f4ea-49a1-8d9d-62e8378f0ae1",
    "outputId": "05010e05-dd8f-41f1-c3e6-3d8165f99fef",
    "scrolled": true
   },
   "outputs": [
    {
     "name": "stdout",
     "output_type": "stream",
     "text": [
      "Updated 1 path from e777d45\n",
      "Building workspace index                              |2.00 [00:00,  110entry/s]\n",
      "Comparing indexes                                    |3.00 [00:00, 1.59kentry/s]\n",
      "Applying changes                                      |0.00 [00:00,     ?file/s]\n",
      "!\u001b[A\n",
      "  0%|          |/mnt/d/UChicago/Q4/ADSP 32021 Machi0.00/? [00:00<?,        ?B/s]\u001b[A\n",
      "  0%|          |/mnt/d/UChicago/Q4/ADSP 32021 Ma0.00/279M [00:00<?,        ?B/s]\u001b[A\n",
      "  9%|▊         |/mnt/d/UChicago/Q4/ADSP 32024.0M/279M [00:00<00:01,     245MB/s]\u001b[A\n",
      " 21%|██        |/mnt/d/UChicago/Q4/ADSP 32059.0M/279M [00:00<00:00,     313MB/s]\u001b[A\n",
      " 35%|███▌      |/mnt/d/UChicago/Q4/ADSP 32098.0M/279M [00:00<00:00,     356MB/s]\u001b[A\n",
      " 49%|████▉     |/mnt/d/UChicago/Q4/ADSP 3202137M/279M [00:00<00:00,     375MB/s]\u001b[A\n",
      " 63%|██████▎   |/mnt/d/UChicago/Q4/ADSP 3202175M/279M [00:00<00:00,     382MB/s]\u001b[A\n",
      " 77%|███████▋  |/mnt/d/UChicago/Q4/ADSP 3202214M/279M [00:00<00:00,     388MB/s]\u001b[A\n",
      " 91%|█████████ |/mnt/d/UChicago/Q4/ADSP 3202254M/279M [00:00<00:00,     396MB/s]\u001b[A\n",
      "Applying changes                                      |1.00 [00:00,  1.23file/s]\u001b[A\n",
      "\u001b[33mM\u001b[0m       data/training_data.json\n",
      "\u001b[0m"
     ]
    }
   ],
   "source": [
    "# checkout v2\n",
    "!git checkout 9c7cf0e data/training_data.json.dvc\n",
    "!dvc checkout"
   ]
  },
  {
   "cell_type": "code",
   "execution_count": null,
   "id": "ef453f41-89a8-4f6b-a3c9-5772a8c0f74c",
   "metadata": {
    "id": "ef453f41-89a8-4f6b-a3c9-5772a8c0f74c",
    "outputId": "8f06bf4f-45fe-4ee7-8fa5-50946e0dc7f5"
   },
   "outputs": [
    {
     "name": "stdout",
     "output_type": "stream",
     "text": [
      "47717\n"
     ]
    }
   ],
   "source": [
    "training_data = json.loads(Path(\"data/training_data.json\").read_text())\n",
    "print(len(training_data))"
   ]
  },
  {
   "cell_type": "markdown",
   "id": "3628f70b-2e9c-4820-89b5-e786d86d04cb",
   "metadata": {
    "id": "3628f70b-2e9c-4820-89b5-e786d86d04cb"
   },
   "source": [
    "# 2. Pre-Process Validation Data"
   ]
  },
  {
   "cell_type": "markdown",
   "id": "c7b96027-f47c-4a77-b7b9-21f9f8752559",
   "metadata": {
    "id": "c7b96027-f47c-4a77-b7b9-21f9f8752559"
   },
   "source": [
    "## Validation Data V1\n",
    "Only contains info from ```val_webmd_squad_v2_consec.json```"
   ]
  },
  {
   "cell_type": "code",
   "execution_count": null,
   "id": "b13398ae-50f0-40d5-9e7e-740edbcb0875",
   "metadata": {
    "id": "b13398ae-50f0-40d5-9e7e-740edbcb0875"
   },
   "outputs": [],
   "source": [
    "file_path = \"mashqa_data/val_webmd_squad_v2_consec.json\"\n",
    "\n",
    "data = json.loads(Path(file_path).read_text())\n",
    "data = data[\"data\"]"
   ]
  },
  {
   "cell_type": "code",
   "execution_count": null,
   "id": "d42f7625-bb37-4c29-b69c-42760e30dd23",
   "metadata": {
    "id": "d42f7625-bb37-4c29-b69c-42760e30dd23"
   },
   "outputs": [],
   "source": [
    "context = {}\n",
    "\n",
    "for index in range(len(data)):\n",
    "    for p_index in range(len(data[index][\"paragraphs\"])):\n",
    "        context_content = data[index][\"paragraphs\"][p_index][\"context\"]\n",
    "        context[index] = [context_content]"
   ]
  },
  {
   "cell_type": "code",
   "execution_count": null,
   "id": "2edb18b9-db8b-4678-8553-55ae06cb8a99",
   "metadata": {
    "id": "2edb18b9-db8b-4678-8553-55ae06cb8a99",
    "outputId": "ccbaf44b-8721-4454-9fcc-cbb175afc559"
   },
   "outputs": [
    {
     "name": "stdout",
     "output_type": "stream",
     "text": [
      "1\n"
     ]
    }
   ],
   "source": [
    "max_n_context = 0\n",
    "\n",
    "for i in range(len(context)):\n",
    "    if len(context[i]) > max_n_context:\n",
    "        max_n_context = len(context[i])\n",
    "\n",
    "pprint(max_n_context)"
   ]
  },
  {
   "cell_type": "markdown",
   "id": "48d0c5de-d996-4f69-939e-7e0abd13b290",
   "metadata": {
    "id": "48d0c5de-d996-4f69-939e-7e0abd13b290"
   },
   "source": [
    "### Extract the context for inferences"
   ]
  },
  {
   "cell_type": "code",
   "execution_count": null,
   "id": "3ceb6875-4b2d-4588-b577-5474a25fa577",
   "metadata": {
    "id": "3ceb6875-4b2d-4588-b577-5474a25fa577"
   },
   "outputs": [],
   "source": [
    "validation_data = []\n",
    "\n",
    "for index in range(len(data)): # loop through data\n",
    "    for p_index in range(len(data[index][\"paragraphs\"])): # loop through\n",
    "        for q_index in range(len(data[index][\"paragraphs\"][p_index][\"qas\"])):\n",
    "            data[index][\"paragraphs\"][p_index][\"qas\"][q_index][\"context\"] = context[index]\n",
    "            validation_data.append(data[index][\"paragraphs\"][p_index][\"qas\"][q_index])"
   ]
  },
  {
   "cell_type": "code",
   "execution_count": null,
   "id": "3148af58-7764-44e5-836d-219ea41fb7cf",
   "metadata": {
    "id": "3148af58-7764-44e5-836d-219ea41fb7cf",
    "outputId": "8592f846-8ce7-47f7-dea8-f440baebeb97"
   },
   "outputs": [
    {
     "data": {
      "text/plain": [
       "2686"
      ]
     },
     "execution_count": 118,
     "metadata": {},
     "output_type": "execute_result"
    }
   ],
   "source": [
    "len(validation_data)"
   ]
  },
  {
   "cell_type": "markdown",
   "id": "1d687334-205b-40c0-aa41-709ed9ee4c8e",
   "metadata": {
    "id": "1d687334-205b-40c0-aa41-709ed9ee4c8e"
   },
   "source": [
    "### Save and Push Validation Data V1"
   ]
  },
  {
   "cell_type": "code",
   "execution_count": null,
   "id": "4a16dbbf-d719-433b-9645-8f9b1cec218f",
   "metadata": {
    "id": "4a16dbbf-d719-433b-9645-8f9b1cec218f"
   },
   "outputs": [],
   "source": [
    "with open('data/validation_data.json', 'w') as f:\n",
    "    json.dump(validation_data, f)"
   ]
  },
  {
   "cell_type": "code",
   "execution_count": null,
   "id": "6be45e26-fe25-42f2-9421-bc3c179713e2",
   "metadata": {
    "id": "6be45e26-fe25-42f2-9421-bc3c179713e2",
    "outputId": "85e4cfc1-263b-4cef-81b5-c21c26747f77",
    "scrolled": true
   },
   "outputs": [
    {
     "name": "stdout",
     "output_type": "stream",
     "text": [
      "\u001b[?25l\u001b[32m⠋\u001b[0m Checking graph                                       core\u001b[39m>\n",
      "Adding...                                                                       \n",
      "!\u001b[A\n",
      "Collecting files and computing hashes in data/validation_data.json |0.00 [00:00,\u001b[A\n",
      "                                                                                \u001b[A\n",
      "!\u001b[A\n",
      "  0% Checking cache in '/mnt/d/UChicago/Q4/ADSP 32021 Machine Learning Operation\u001b[A\n",
      "                                                                                \u001b[A\n",
      "!\u001b[A\n",
      "  0%|          |Adding data/validation_data.json to ca0/? [00:00<?,     ?file/s]\u001b[A\n",
      "  0%|          |Adding data/validation_data.json to ca0/1 [00:00<?,     ?file/s]\u001b[A\n",
      "  0%|          |Adding data/validation_data.json to ca0/1 [00:00<?,     ?file/s]\u001b[A\n",
      "                                                                                \u001b[A\n",
      "!\u001b[A\n",
      "  0%|          |Checking out /mnt/d/UChicago/Q4/ADSP 30/? [00:00<?,    ?files/s]\u001b[A\n",
      "  0%|          |Checking out /mnt/d/UChicago/Q4/ADSP 30/1 [00:00<?,    ?files/s]\u001b[A\n",
      "100% Adding...|████████████████████████████████████████|1/1 [00:00,  3.17file/s]\u001b[A\n",
      "\n",
      "To track the changes with git, run:\n",
      "\n",
      "\tgit add data/validation_data.json.dvc data/.gitignore\n",
      "\n",
      "To enable auto staging, run:\n",
      "\n",
      "\tdvc config core.autostage true\n",
      "\u001b[0m[master a1840fa] validation data v1: mashqa_data/val_webmd_squad_v2_consec.json\n",
      " 2 files changed, 7 insertions(+)\n",
      " create mode 100644 data/validation_data.json.dvc\n",
      "outs:\n",
      "- md5: 68b537e3d78916ea8c841066cd010e21\n",
      "  size: 18912193\n",
      "  isexec: true\n",
      "  hash: md5\n",
      "  path: validation_data.json\n",
      "Pushing                                               |0.00 [00:00,     ?file/s]\n",
      "!\u001b[A\n",
      "  0% Checking cache in '1wa6Ax2ro0D7EtdOYmmg0O7PmT8sfFGTN/files/md5'| |0/? [00:0\u001b[A\n",
      "  0% Querying cache in '1wa6Ax2ro0D7EtdOYmmg0O7PmT8sfFGTN/files/md5'| |1/256 [00\u001b[A\n",
      "                                                                                \u001b[A\n",
      "!\u001b[A\n",
      "  0% Checking cache in '/mnt/d/UChicago/Q4/ADSP 32021 Machine Learning Operation\u001b[A\n",
      "                                                                                \u001b[A\n",
      "!\u001b[A\n",
      "  0%|          |Pushing to gdrive                     0/? [00:00<?,     ?file/s]\u001b[A\n",
      "  0%|          |Pushing to gdrive                     0/1 [00:00<?,     ?file/s]\u001b[A\n",
      "  0%|          |Pushing to gdrive                     0/1 [00:00<?,     ?file/s]\u001b[A\n",
      "  0%|          |Pushing to gdrive                     0/1 [00:00<?,     ?file/s]\u001b[A\n",
      "\n",
      "!\u001b[A\u001b[A\n",
      "\n",
      "  0%|          |/mnt/d/UChicago/Q4/ADSP 32021 Machi0.00/? [00:00<?,        ?B/s]\u001b[A\u001b[A\n",
      "\n",
      "  0%|          |/mnt/d/UChicago/Q4/ADSP 32021 M0.00/18.0M [00:00<?,        ?B/s]\u001b[A\u001b[A\n",
      "\n",
      "  0%|          |/mnt/d/UChicago/Q4/ADSP 328.00k/18.0M [00:01<54:23,    5.79kB/s]\u001b[A\u001b[A\n",
      "\n",
      "  9%|▊         |/mnt/d/UChicago/Q4/ADSP 321.55M/18.0M [00:01<00:11,    1.49MB/s]\u001b[A\u001b[A\n",
      "\n",
      " 18%|█▊        |/mnt/d/UChicago/Q4/ADSP 323.20M/18.0M [00:01<00:04,    3.26MB/s]\u001b[A\u001b[A\n",
      "\n",
      " 27%|██▋       |/mnt/d/UChicago/Q4/ADSP 324.84M/18.0M [00:01<00:02,    5.02MB/s]\u001b[A\u001b[A\n",
      "\n",
      " 37%|███▋      |/mnt/d/UChicago/Q4/ADSP 326.72M/18.0M [00:01<00:01,    7.02MB/s]\u001b[A\u001b[A\n",
      "\n",
      " 47%|████▋     |/mnt/d/UChicago/Q4/ADSP 328.54M/18.0M [00:01<00:01,    9.19MB/s]\u001b[A\u001b[A\n",
      "\n",
      " 56%|█████▌    |/mnt/d/UChicago/Q4/ADSP 3210.0M/18.0M [00:02<00:00,    10.5MB/s]\u001b[A\u001b[A\n",
      "\n",
      " 64%|██████▎   |/mnt/d/UChicago/Q4/ADSP 3211.5M/18.0M [00:02<00:00,    11.3MB/s]\u001b[A\u001b[A\n",
      "\n",
      " 76%|███████▌  |/mnt/d/UChicago/Q4/ADSP 3213.6M/18.0M [00:02<00:00,    12.7MB/s]\u001b[A\u001b[A\n",
      "\n",
      " 88%|████████▊ |/mnt/d/UChicago/Q4/ADSP 3215.9M/18.0M [00:02<00:00,    14.3MB/s]\u001b[A\u001b[A\n",
      "\n",
      " 95%|█████████▌|/mnt/d/UChicago/Q4/ADSP 3217.2M/18.0M [00:02<00:00,    13.4MB/s]\u001b[A\u001b[A\n",
      "100%|██████████|Pushing to gdrive                 1/1 [00:04<00:00,  3.86s/file]\u001b[A\n",
      "\n",
      "                                                                                \u001b[A\u001b[A\n",
      "1 file pushed                                                                   \u001b[A\n",
      "\u001b[0m"
     ]
    }
   ],
   "source": [
    "# upload version 1 of the validation data\n",
    "!dvc add data/validation_data.json\n",
    "!git add data/.gitignore data/validation_data.json.dvc\n",
    "\n",
    "# push the v1 of the validation data\n",
    "!git commit -m \"validation data v1: mashqa_data/val_webmd_squad_v2_consec.json\"\n",
    "!cat data/validation_data.json.dvc\n",
    "!dvc push"
   ]
  },
  {
   "cell_type": "code",
   "execution_count": null,
   "id": "37a5d372-fbdd-460d-bc63-e8cabe36064c",
   "metadata": {
    "id": "37a5d372-fbdd-460d-bc63-e8cabe36064c",
    "outputId": "76e36bbf-9a34-402a-ad0b-5130baa38ab0"
   },
   "outputs": [
    {
     "name": "stdout",
     "output_type": "stream",
     "text": [
      "\u001b[33ma1840fa\u001b[m\u001b[33m (\u001b[m\u001b[1;36mHEAD -> \u001b[m\u001b[1;32mmaster\u001b[m\u001b[33m)\u001b[m validation data v1: mashqa_data/val_webmd_squad_v2_consec.json\n",
      "\u001b[33m9c7cf0e\u001b[m training data v2: combine v1 with pre-processed train_webmd_squad_v2_full.json\n",
      "\u001b[33mbf4cb93\u001b[m training data v1: pre-processed train_webmd_squad_v2_consec.json\n",
      "\u001b[33m84b9203\u001b[m Configure remote storage\n"
     ]
    }
   ],
   "source": [
    "!git log --oneline"
   ]
  },
  {
   "cell_type": "markdown",
   "id": "1514386c-33bb-48d0-8b0b-9a92773914e3",
   "metadata": {
    "id": "1514386c-33bb-48d0-8b0b-9a92773914e3"
   },
   "source": [
    "## Validation Data V2\n",
    "Append info from ```val_webmd_squad_v2_full.json```"
   ]
  },
  {
   "cell_type": "code",
   "execution_count": null,
   "id": "66997a6f-434d-43a6-9191-9cb766d2b553",
   "metadata": {
    "id": "66997a6f-434d-43a6-9191-9cb766d2b553"
   },
   "outputs": [],
   "source": [
    "file_path = \"mashqa_data/val_webmd_squad_v2_full.json\"\n",
    "\n",
    "data = json.loads(Path(file_path).read_text())\n",
    "data = data[\"data\"]"
   ]
  },
  {
   "cell_type": "code",
   "execution_count": null,
   "id": "bcd736d1-3d07-46e1-8d65-fe172d7eef90",
   "metadata": {
    "id": "bcd736d1-3d07-46e1-8d65-fe172d7eef90"
   },
   "outputs": [],
   "source": [
    "context = {}\n",
    "\n",
    "for index in range(len(data)):\n",
    "    for p_index in range(len(data[index][\"paragraphs\"])):\n",
    "        context_content = data[index][\"paragraphs\"][p_index][\"context\"]\n",
    "        context[index] = [context_content]"
   ]
  },
  {
   "cell_type": "code",
   "execution_count": null,
   "id": "06e87b48-434f-4721-8912-bc36c568605c",
   "metadata": {
    "id": "06e87b48-434f-4721-8912-bc36c568605c",
    "outputId": "90fe0ea5-7183-4197-ab3c-3e3b10c2770f"
   },
   "outputs": [
    {
     "name": "stdout",
     "output_type": "stream",
     "text": [
      "1\n"
     ]
    }
   ],
   "source": [
    "max_n_context = 0\n",
    "\n",
    "for i in range(len(context)):\n",
    "    if len(context[i]) > max_n_context:\n",
    "        max_n_context = len(context[i])\n",
    "\n",
    "pprint(max_n_context)"
   ]
  },
  {
   "cell_type": "markdown",
   "id": "33c119af-ac89-4026-b3ce-ffb96ea2dcfd",
   "metadata": {
    "id": "33c119af-ac89-4026-b3ce-ffb96ea2dcfd"
   },
   "source": [
    "### Extract the context for inferences"
   ]
  },
  {
   "cell_type": "code",
   "execution_count": null,
   "id": "5f393608-d2e2-4fed-b383-f70d27a3f2dc",
   "metadata": {
    "id": "5f393608-d2e2-4fed-b383-f70d27a3f2dc"
   },
   "outputs": [],
   "source": [
    "for index in range(len(data)): # loop through data\n",
    "    for p_index in range(len(data[index][\"paragraphs\"])): # loop through\n",
    "        for q_index in range(len(data[index][\"paragraphs\"][p_index][\"qas\"])):\n",
    "            data[index][\"paragraphs\"][p_index][\"qas\"][q_index][\"context\"] = context[index]\n",
    "            validation_data.append(data[index][\"paragraphs\"][p_index][\"qas\"][q_index])"
   ]
  },
  {
   "cell_type": "code",
   "execution_count": null,
   "id": "84bc0e15-a273-4b0a-989f-83642d4e7bbd",
   "metadata": {
    "id": "84bc0e15-a273-4b0a-989f-83642d4e7bbd",
    "outputId": "6d298f31-4f1b-45a7-daa5-04b0536c6032"
   },
   "outputs": [
    {
     "data": {
      "text/plain": [
       "6273"
      ]
     },
     "execution_count": 126,
     "metadata": {},
     "output_type": "execute_result"
    }
   ],
   "source": [
    "len(validation_data)"
   ]
  },
  {
   "cell_type": "markdown",
   "id": "29fbee94-6824-4d03-b2ab-61ea140dc76a",
   "metadata": {
    "id": "29fbee94-6824-4d03-b2ab-61ea140dc76a"
   },
   "source": [
    "### Save and Push Validation Data V2"
   ]
  },
  {
   "cell_type": "code",
   "execution_count": null,
   "id": "8ea09353-fec6-4bd9-8b21-529d4d90b9dd",
   "metadata": {
    "id": "8ea09353-fec6-4bd9-8b21-529d4d90b9dd"
   },
   "outputs": [],
   "source": [
    "with open('data/validation_data.json', 'w') as f:\n",
    "    json.dump(validation_data, f)"
   ]
  },
  {
   "cell_type": "code",
   "execution_count": null,
   "id": "53417919-9818-442f-bd16-8655b369bc98",
   "metadata": {
    "id": "53417919-9818-442f-bd16-8655b369bc98",
    "outputId": "34ac4fce-5984-4300-8196-aac71c8d2b53",
    "scrolled": true
   },
   "outputs": [
    {
     "name": "stdout",
     "output_type": "stream",
     "text": [
      "\u001b[?25l\u001b[32m⠋\u001b[0m Checking graph                                       core\u001b[39m>\n",
      "Adding...                                                                       \n",
      "!\u001b[A\n",
      "Collecting files and computing hashes in data/validation_data.json |0.00 [00:00,\u001b[A\n",
      "                                                                                \u001b[A\n",
      "!\u001b[A\n",
      "  0% Checking cache in '/mnt/d/UChicago/Q4/ADSP 32021 Machine Learning Operation\u001b[A\n",
      "                                                                                \u001b[A\n",
      "!\u001b[A\n",
      "  0%|          |Adding data/validation_data.json to ca0/? [00:00<?,     ?file/s]\u001b[A\n",
      "  0%|          |Adding data/validation_data.json to ca0/1 [00:00<?,     ?file/s]\u001b[A\n",
      "  0%|          |Adding data/validation_data.json to ca0/1 [00:00<?,     ?file/s]\u001b[A\n",
      "                                                                                \u001b[A\n",
      "!\u001b[A\n",
      "  0%|          |Checking out /mnt/d/UChicago/Q4/ADSP 30/? [00:00<?,    ?files/s]\u001b[A\n",
      "  0%|          |Checking out /mnt/d/UChicago/Q4/ADSP 30/1 [00:00<?,    ?files/s]\u001b[A\n",
      "100%|██████████|Checking out /mnt/d/UChicago/Q4/A1/1 [00:00<00:00,  7.37files/s]\u001b[A\n",
      "100% Adding...|████████████████████████████████████████|1/1 [00:00,  2.28file/s]\u001b[A\n",
      "\n",
      "To track the changes with git, run:\n",
      "\n",
      "\tgit add data/validation_data.json.dvc\n",
      "\n",
      "To enable auto staging, run:\n",
      "\n",
      "\tdvc config core.autostage true\n",
      "\u001b[0m[master bb55d3c] validation data v2: mashqa_data/val_webmd_squad_v2_full.json\n",
      " 1 file changed, 2 insertions(+), 2 deletions(-)\n",
      "outs:\n",
      "- md5: a51a2a06d33a0e5ed35044ac1d79bdc8\n",
      "  size: 43477251\n",
      "  isexec: true\n",
      "  hash: md5\n",
      "  path: validation_data.json\n",
      "Pushing                                               |0.00 [00:00,     ?file/s]\n",
      "!\u001b[A\n",
      "  0% Checking cache in '1wa6Ax2ro0D7EtdOYmmg0O7PmT8sfFGTN/files/md5'| |0/? [00:0\u001b[A\n",
      "  0% Querying cache in '1wa6Ax2ro0D7EtdOYmmg0O7PmT8sfFGTN/files/md5'| |1/256 [00\u001b[A\n",
      "                                                                                \u001b[A\n",
      "!\u001b[A\n",
      "  0% Checking cache in '/mnt/d/UChicago/Q4/ADSP 32021 Machine Learning Operation\u001b[A\n",
      "                                                                                \u001b[A\n",
      "!\u001b[A\n",
      "  0%|          |Pushing to gdrive                     0/? [00:00<?,     ?file/s]\u001b[A\n",
      "  0%|          |Pushing to gdrive                     0/1 [00:00<?,     ?file/s]\u001b[A\n",
      "  0%|          |Pushing to gdrive                     0/1 [00:00<?,     ?file/s]\u001b[A\n",
      "  0%|          |Pushing to gdrive                     0/1 [00:00<?,     ?file/s]\u001b[A\n",
      "\n",
      "!\u001b[A\u001b[A\n",
      "\n",
      "  0%|          |/mnt/d/UChicago/Q4/ADSP 32021 Machi0.00/? [00:00<?,        ?B/s]\u001b[A\u001b[A\n",
      "\n",
      "  0%|          |/mnt/d/UChicago/Q4/ADSP 32021 M0.00/41.5M [00:00<?,        ?B/s]\u001b[A\u001b[A\n",
      "\n",
      "  0%|          |/mnt/d/UChicago/Q4/ADSP 8.00k/41.5M [00:01<2:32:04,    4.76kB/s]\u001b[A\u001b[A\n",
      "\n",
      "  2%|▏         |/mnt/d/UChicago/Q4/ADSP 320976k/41.5M [00:01<00:55,     763kB/s]\u001b[A\u001b[A\n",
      "\n",
      "  5%|▍         |/mnt/d/UChicago/Q4/ADSP 321.95M/41.5M [00:01<00:24,    1.69MB/s]\u001b[A\u001b[A\n",
      "\n",
      "  8%|▊         |/mnt/d/UChicago/Q4/ADSP 323.18M/41.5M [00:02<00:13,    2.91MB/s]\u001b[A\u001b[A\n",
      "\n",
      " 10%|█         |/mnt/d/UChicago/Q4/ADSP 324.18M/41.5M [00:02<00:09,    3.94MB/s]\u001b[A\u001b[A\n",
      "\n",
      " 13%|█▎        |/mnt/d/UChicago/Q4/ADSP 325.31M/41.5M [00:02<00:07,    5.26MB/s]\u001b[A\u001b[A\n",
      "\n",
      " 17%|█▋        |/mnt/d/UChicago/Q4/ADSP 326.99M/41.5M [00:02<00:05,    6.96MB/s]\u001b[A\u001b[A\n",
      "\n",
      " 21%|██▏       |/mnt/d/UChicago/Q4/ADSP 328.87M/41.5M [00:02<00:03,    8.79MB/s]\u001b[A\u001b[A\n",
      "\n",
      " 25%|██▌       |/mnt/d/UChicago/Q4/ADSP 3210.4M/41.5M [00:02<00:03,    9.73MB/s]\u001b[A\u001b[A\n",
      "\n",
      " 30%|███       |/mnt/d/UChicago/Q4/ADSP 3212.4M/41.5M [00:02<00:02,    10.8MB/s]\u001b[A\u001b[A\n",
      "\n",
      " 36%|███▌      |/mnt/d/UChicago/Q4/ADSP 3214.9M/41.5M [00:03<00:02,    12.4MB/s]\u001b[A\u001b[A\n",
      "\n",
      " 39%|███▉      |/mnt/d/UChicago/Q4/ADSP 3216.1M/41.5M [00:03<00:02,    12.5MB/s]\u001b[A\u001b[A\n",
      "\n",
      " 43%|████▎     |/mnt/d/UChicago/Q4/ADSP 3217.8M/41.5M [00:03<00:01,    13.8MB/s]\u001b[A\u001b[A\n",
      "\n",
      " 47%|████▋     |/mnt/d/UChicago/Q4/ADSP 3219.5M/41.5M [00:03<00:01,    14.1MB/s]\u001b[A\u001b[A\n",
      "\n",
      " 51%|█████     |/mnt/d/UChicago/Q4/ADSP 3221.1M/41.5M [00:03<00:01,    14.3MB/s]\u001b[A\u001b[A\n",
      "\n",
      " 55%|█████▌    |/mnt/d/UChicago/Q4/ADSP 3222.9M/41.5M [00:03<00:01,    14.7MB/s]\u001b[A\u001b[A\n",
      "\n",
      " 58%|█████▊    |/mnt/d/UChicago/Q4/ADSP 3224.2M/41.5M [00:03<00:01,    14.1MB/s]\u001b[A\u001b[A\n",
      "\n",
      " 63%|██████▎   |/mnt/d/UChicago/Q4/ADSP 3226.2M/41.5M [00:03<00:01,    14.8MB/s]\u001b[A\u001b[A\n",
      "\n",
      " 69%|██████▉   |/mnt/d/UChicago/Q4/ADSP 3228.8M/41.5M [00:03<00:00,    15.5MB/s]\u001b[A\u001b[A\n",
      "\n",
      " 77%|███████▋  |/mnt/d/UChicago/Q4/ADSP 3231.7M/41.5M [00:04<00:00,    15.4MB/s]\u001b[A\u001b[A\n",
      "\n",
      " 83%|████████▎ |/mnt/d/UChicago/Q4/ADSP 3234.4M/41.5M [00:04<00:00,    18.2MB/s]\u001b[A\u001b[A\n",
      "\n",
      " 86%|████████▋ |/mnt/d/UChicago/Q4/ADSP 3235.8M/41.5M [00:04<00:00,    17.2MB/s]\u001b[A\u001b[A\n",
      "\n",
      " 90%|████████▉ |/mnt/d/UChicago/Q4/ADSP 3237.2M/41.5M [00:04<00:00,    15.3MB/s]\u001b[A\u001b[A\n",
      "\n",
      " 94%|█████████▎|/mnt/d/UChicago/Q4/ADSP 3238.8M/41.5M [00:04<00:00,    13.8MB/s]\u001b[A\u001b[A\n",
      "100%|██████████|Pushing to gdrive                 1/1 [00:06<00:00,  6.16s/file]\u001b[A\n",
      "\n",
      "                                                                                \u001b[A\u001b[A\n",
      "1 file pushed                                                                   \u001b[A\n",
      "\u001b[0m"
     ]
    }
   ],
   "source": [
    "# upload version 2 of the validation data\n",
    "!dvc add data/validation_data.json\n",
    "!git add data/.gitignore data/validation_data.json.dvc\n",
    "\n",
    "# push the v2 of the validation data\n",
    "!git commit -m \"validation data v2: mashqa_data/val_webmd_squad_v2_full.json\"\n",
    "!cat data/validation_data.json.dvc\n",
    "!dvc push"
   ]
  },
  {
   "cell_type": "code",
   "execution_count": null,
   "id": "a618e5b7-e358-47ec-9349-6c15810de392",
   "metadata": {
    "id": "a618e5b7-e358-47ec-9349-6c15810de392",
    "outputId": "afd3fb8e-f552-4267-caf5-c698e9fd398d"
   },
   "outputs": [
    {
     "name": "stdout",
     "output_type": "stream",
     "text": [
      "\u001b[33mbb55d3c\u001b[m\u001b[33m (\u001b[m\u001b[1;36mHEAD -> \u001b[m\u001b[1;32mmaster\u001b[m\u001b[33m)\u001b[m validation data v2: mashqa_data/val_webmd_squad_v2_full.json\n",
      "\u001b[33ma1840fa\u001b[m validation data v1: mashqa_data/val_webmd_squad_v2_consec.json\n",
      "\u001b[33m9c7cf0e\u001b[m training data v2: combine v1 with pre-processed train_webmd_squad_v2_full.json\n",
      "\u001b[33mbf4cb93\u001b[m training data v1: pre-processed train_webmd_squad_v2_consec.json\n",
      "\u001b[33m84b9203\u001b[m Configure remote storage\n"
     ]
    }
   ],
   "source": [
    "!git log --oneline"
   ]
  },
  {
   "cell_type": "markdown",
   "id": "cf0a69ba-975b-4800-8e25-2b6dd734c0de",
   "metadata": {
    "id": "cf0a69ba-975b-4800-8e25-2b6dd734c0de"
   },
   "source": [
    "### Checking that both v1 and v2 are properly stored"
   ]
  },
  {
   "cell_type": "code",
   "execution_count": null,
   "id": "43f6b60f-a964-4de6-8efd-7499670468d1",
   "metadata": {
    "id": "43f6b60f-a964-4de6-8efd-7499670468d1",
    "outputId": "6a72f3fc-273c-4bc1-e07d-4818b736a03e"
   },
   "outputs": [
    {
     "name": "stdout",
     "output_type": "stream",
     "text": [
      "Updated 1 path from 88d64ca\n",
      "Building workspace index                              |3.00 [00:00,  104entry/s]\n",
      "Comparing indexes                                    |4.00 [00:00, 2.03kentry/s]\n",
      "Applying changes                                      |0.00 [00:00,     ?file/s]\n",
      "!\u001b[A\n",
      "  0%|          |/mnt/d/UChicago/Q4/ADSP 32021 Machi0.00/? [00:00<?,        ?B/s]\u001b[A\n",
      "  0%|          |/mnt/d/UChicago/Q4/ADSP 32021 M0.00/18.0M [00:00<?,        ?B/s]\u001b[A\n",
      "Applying changes                                      |1.00 [00:00,  10.4file/s]\u001b[A\n",
      "\u001b[33mM\u001b[0m       data/validation_data.json\n",
      "\u001b[33mM\u001b[0m       data/training_data.json\n",
      "\u001b[0m"
     ]
    }
   ],
   "source": [
    "# checkout v1\n",
    "!git checkout a1840fa data/validation_data.json.dvc\n",
    "!dvc checkout"
   ]
  },
  {
   "cell_type": "code",
   "execution_count": null,
   "id": "6e6956f0-4aa7-43ce-8254-44214ad60cb8",
   "metadata": {
    "id": "6e6956f0-4aa7-43ce-8254-44214ad60cb8",
    "outputId": "e067b1d4-96a1-4201-c8a3-f24e6793a44b"
   },
   "outputs": [
    {
     "name": "stdout",
     "output_type": "stream",
     "text": [
      "2686\n"
     ]
    }
   ],
   "source": [
    "validation_data = json.loads(Path(\"data/validation_data.json\").read_text())\n",
    "print(len(validation_data))"
   ]
  },
  {
   "cell_type": "code",
   "execution_count": null,
   "id": "382ff80b-0c0e-4c51-8100-39f5d321d78b",
   "metadata": {
    "id": "382ff80b-0c0e-4c51-8100-39f5d321d78b",
    "outputId": "29944ff0-e2d0-444d-c1b9-3eefb4afb433"
   },
   "outputs": [
    {
     "name": "stdout",
     "output_type": "stream",
     "text": [
      "Updated 1 path from c84db3e\n",
      "Building workspace index                              |3.00 [00:00,  121entry/s]\n",
      "Comparing indexes                                    |4.00 [00:00, 1.99kentry/s]\n",
      "Applying changes                                      |0.00 [00:00,     ?file/s]\n",
      "!\u001b[A\n",
      "  0%|          |/mnt/d/UChicago/Q4/ADSP 32021 Machi0.00/? [00:00<?,        ?B/s]\u001b[A\n",
      "  0%|          |/mnt/d/UChicago/Q4/ADSP 32021 M0.00/41.5M [00:00<?,        ?B/s]\u001b[A\n",
      " 72%|███████▏  |/mnt/d/UChicago/Q4/ADSP 3230.0M/41.5M [00:00<00:00,     314MB/s]\u001b[A\n",
      "Applying changes                                      |1.00 [00:00,  6.07file/s]\u001b[A\n",
      "\u001b[33mM\u001b[0m       data/training_data.json\n",
      "\u001b[33mM\u001b[0m       data/validation_data.json\n",
      "\u001b[0m"
     ]
    }
   ],
   "source": [
    "# checkout v2\n",
    "!git checkout bb55d3c data/validation_data.json.dvc\n",
    "!dvc checkout"
   ]
  },
  {
   "cell_type": "code",
   "execution_count": null,
   "id": "a54f0f47-0309-40f5-a515-899c1a8d3b6b",
   "metadata": {
    "id": "a54f0f47-0309-40f5-a515-899c1a8d3b6b",
    "outputId": "945dd2e9-047a-42d2-8d9f-fe9dc3e12cb5"
   },
   "outputs": [
    {
     "name": "stdout",
     "output_type": "stream",
     "text": [
      "6273\n"
     ]
    }
   ],
   "source": [
    "validation_data = json.loads(Path(\"data/validation_data.json\").read_text())\n",
    "print(len(validation_data))"
   ]
  },
  {
   "cell_type": "markdown",
   "id": "a6b9a2ab-93c1-4f48-85b1-2431b33e35b2",
   "metadata": {
    "id": "a6b9a2ab-93c1-4f48-85b1-2431b33e35b2"
   },
   "source": [
    "# 3. Pre-Process Test Data"
   ]
  },
  {
   "cell_type": "code",
   "execution_count": null,
   "id": "a691e10b-3567-4977-b378-2d2b7b741f25",
   "metadata": {
    "id": "a691e10b-3567-4977-b378-2d2b7b741f25",
    "outputId": "6136c040-7cd4-4148-a8e8-58ffa0f762dc"
   },
   "outputs": [
    {
     "name": "stdout",
     "output_type": "stream",
     "text": [
      "test_webmd_squad_v2_consec.json   train_webmd_squad_v2_full.json\n",
      "test_webmd_squad_v2_full.json\t  val_webmd_squad_v2_consec.json\n",
      "train_webmd_squad_v2_consec.json  val_webmd_squad_v2_full.json\n"
     ]
    }
   ],
   "source": [
    "!ls mashqa_data"
   ]
  },
  {
   "cell_type": "markdown",
   "id": "85a6d483-4da7-4960-b5d1-ae2fd26660c3",
   "metadata": {
    "id": "85a6d483-4da7-4960-b5d1-ae2fd26660c3"
   },
   "source": [
    "## Test Data V1\n",
    "Only contains info from ```test_webmd_squad_v2_consec.json```"
   ]
  },
  {
   "cell_type": "code",
   "execution_count": null,
   "id": "5f3800a0-03d0-404d-b8c9-15563118e73c",
   "metadata": {
    "id": "5f3800a0-03d0-404d-b8c9-15563118e73c"
   },
   "outputs": [],
   "source": [
    "file_path = \"mashqa_data/test_webmd_squad_v2_consec.json\"\n",
    "\n",
    "data = json.loads(Path(file_path).read_text())\n",
    "data = data[\"data\"]"
   ]
  },
  {
   "cell_type": "code",
   "execution_count": null,
   "id": "ce00afa4-3602-422c-af22-ebf2a56d5a94",
   "metadata": {
    "id": "ce00afa4-3602-422c-af22-ebf2a56d5a94"
   },
   "outputs": [],
   "source": [
    "context = {}\n",
    "\n",
    "for index in range(len(data)):\n",
    "    for p_index in range(len(data[index][\"paragraphs\"])):\n",
    "        context_content = data[index][\"paragraphs\"][p_index][\"context\"]\n",
    "        context[index] = [context_content]"
   ]
  },
  {
   "cell_type": "code",
   "execution_count": null,
   "id": "3d35562a-7767-44a6-aef7-8fb28dd95c53",
   "metadata": {
    "id": "3d35562a-7767-44a6-aef7-8fb28dd95c53",
    "outputId": "982be453-f1c1-420a-c943-65d1d231362f"
   },
   "outputs": [
    {
     "name": "stdout",
     "output_type": "stream",
     "text": [
      "1\n"
     ]
    }
   ],
   "source": [
    "max_n_context = 0\n",
    "\n",
    "for i in range(len(context)):\n",
    "    if len(context[i]) > max_n_context:\n",
    "        max_n_context = len(context[i])\n",
    "\n",
    "pprint(max_n_context)"
   ]
  },
  {
   "cell_type": "markdown",
   "id": "9180ac10-424d-41ea-8ee2-21ca92eae979",
   "metadata": {
    "id": "9180ac10-424d-41ea-8ee2-21ca92eae979"
   },
   "source": [
    "### Extract the context for inferences"
   ]
  },
  {
   "cell_type": "code",
   "execution_count": null,
   "id": "3f201f71-692a-43ca-beeb-ca58e09ead0d",
   "metadata": {
    "id": "3f201f71-692a-43ca-beeb-ca58e09ead0d"
   },
   "outputs": [],
   "source": [
    "test_data = []\n",
    "\n",
    "for index in range(len(data)): # loop through data\n",
    "    for p_index in range(len(data[index][\"paragraphs\"])): # loop through\n",
    "        for q_index in range(len(data[index][\"paragraphs\"][p_index][\"qas\"])):\n",
    "            data[index][\"paragraphs\"][p_index][\"qas\"][q_index][\"context\"] = context[index]\n",
    "            test_data.append(data[index][\"paragraphs\"][p_index][\"qas\"][q_index])"
   ]
  },
  {
   "cell_type": "code",
   "execution_count": null,
   "id": "6e58c386-0ff1-4e01-b602-c714c247166c",
   "metadata": {
    "id": "6e58c386-0ff1-4e01-b602-c714c247166c",
    "outputId": "e983412d-0bf9-47b5-f2ff-ca54c966a511"
   },
   "outputs": [
    {
     "data": {
      "text/plain": [
       "2614"
      ]
     },
     "execution_count": 142,
     "metadata": {},
     "output_type": "execute_result"
    }
   ],
   "source": [
    "len(test_data)"
   ]
  },
  {
   "cell_type": "markdown",
   "id": "ec1843ee-72b0-4fb6-ae46-563b4b334e15",
   "metadata": {
    "id": "ec1843ee-72b0-4fb6-ae46-563b4b334e15"
   },
   "source": [
    "### Save and Push Test Data V1"
   ]
  },
  {
   "cell_type": "code",
   "execution_count": null,
   "id": "73ac43fb-ccac-41d9-a94b-d9b80eefccb4",
   "metadata": {
    "id": "73ac43fb-ccac-41d9-a94b-d9b80eefccb4"
   },
   "outputs": [],
   "source": [
    "with open('data/test_data.json', 'w') as f:\n",
    "    json.dump(test_data, f)"
   ]
  },
  {
   "cell_type": "code",
   "execution_count": null,
   "id": "11da291e-7a28-48f9-ab88-97ea4550d482",
   "metadata": {
    "id": "11da291e-7a28-48f9-ab88-97ea4550d482",
    "outputId": "2aedec74-22ab-4990-91b6-6bf65aca811a",
    "scrolled": true
   },
   "outputs": [
    {
     "name": "stdout",
     "output_type": "stream",
     "text": [
      "\u001b[?25l\u001b[32m⠋\u001b[0m Checking graph                                       core\u001b[39m>\n",
      "Adding...                                                                       \n",
      "!\u001b[A\n",
      "Collecting files and computing hashes in data/test_data.json |0.00 [00:00,     ?\u001b[A\n",
      "                                                                                \u001b[A\n",
      "!\u001b[A\n",
      "  0% Checking cache in '/mnt/d/UChicago/Q4/ADSP 32021 Machine Learning Operation\u001b[A\n",
      "                                                                                \u001b[A\n",
      "!\u001b[A\n",
      "  0%|          |Adding data/test_data.json to cache   0/? [00:00<?,     ?file/s]\u001b[A\n",
      "  0%|          |Adding data/test_data.json to cache   0/1 [00:00<?,     ?file/s]\u001b[A\n",
      "  0%|          |Adding data/test_data.json to cache   0/1 [00:00<?,     ?file/s]\u001b[A\n",
      "                                                                                \u001b[A\n",
      "!\u001b[A\n",
      "  0%|          |Checking out /mnt/d/UChicago/Q4/ADSP 30/? [00:00<?,    ?files/s]\u001b[A\n",
      "  0%|          |Checking out /mnt/d/UChicago/Q4/ADSP 30/1 [00:00<?,    ?files/s]\u001b[A\n",
      "100% Adding...|████████████████████████████████████████|1/1 [00:00,  3.37file/s]\u001b[A\n",
      "\n",
      "To track the changes with git, run:\n",
      "\n",
      "\tgit add data/test_data.json.dvc data/.gitignore\n",
      "\n",
      "To enable auto staging, run:\n",
      "\n",
      "\tdvc config core.autostage true\n",
      "\u001b[0m[master 9868399] test data v1: pre-processed test_webmd_squad_v2_consec.json\n",
      " 2 files changed, 7 insertions(+)\n",
      " create mode 100644 data/test_data.json.dvc\n",
      "outs:\n",
      "- md5: f7a817f78e67447e468402529069271a\n",
      "  size: 15451518\n",
      "  isexec: true\n",
      "  hash: md5\n",
      "  path: test_data.json\n",
      "Pushing                                               |0.00 [00:00,     ?file/s]\n",
      "!\u001b[A\n",
      "  0% Checking cache in '1wa6Ax2ro0D7EtdOYmmg0O7PmT8sfFGTN/files/md5'| |0/? [00:0\u001b[A\n",
      "  0% Querying cache in '1wa6Ax2ro0D7EtdOYmmg0O7PmT8sfFGTN/files/md5'| |1/256 [00\u001b[A\n",
      "                                                                                \u001b[A\n",
      "!\u001b[A\n",
      "  0% Checking cache in '/mnt/d/UChicago/Q4/ADSP 32021 Machine Learning Operation\u001b[A\n",
      "                                                                                \u001b[A\n",
      "!\u001b[A\n",
      "  0%|          |Pushing to gdrive                     0/? [00:00<?,     ?file/s]\u001b[A\n",
      "  0%|          |Pushing to gdrive                     0/1 [00:00<?,     ?file/s]\u001b[A\n",
      "  0%|          |Pushing to gdrive                     0/1 [00:00<?,     ?file/s]\u001b[A\n",
      "  0%|          |Pushing to gdrive                     0/1 [00:00<?,     ?file/s]\u001b[A\n",
      "\n",
      "!\u001b[A\u001b[A\n",
      "\n",
      "  0%|          |/mnt/d/UChicago/Q4/ADSP 32021 Machi0.00/? [00:00<?,        ?B/s]\u001b[A\u001b[A\n",
      "\n",
      "  0%|          |/mnt/d/UChicago/Q4/ADSP 32021 M0.00/14.7M [00:00<?,        ?B/s]\u001b[A\u001b[A\n",
      "\n",
      "  0%|          |/mnt/d/UChicago/Q4/ADSP 328.00k/14.7M [00:01<36:50,    6.99kB/s]\u001b[A\u001b[A\n",
      "\n",
      "  6%|▌         |/mnt/d/UChicago/Q4/ADSP 320864k/14.7M [00:01<00:15,     950kB/s]\u001b[A\u001b[A\n",
      "\n",
      " 12%|█▏        |/mnt/d/UChicago/Q4/ADSP 321.75M/14.7M [00:01<00:06,    2.09MB/s]\u001b[A\u001b[A\n",
      "\n",
      " 20%|█▉        |/mnt/d/UChicago/Q4/ADSP 322.90M/14.7M [00:01<00:03,    3.67MB/s]\u001b[A\u001b[A\n",
      "\n",
      " 29%|██▉       |/mnt/d/UChicago/Q4/ADSP 324.24M/14.7M [00:01<00:01,    5.55MB/s]\u001b[A\u001b[A\n",
      "\n",
      " 38%|███▊      |/mnt/d/UChicago/Q4/ADSP 325.59M/14.7M [00:01<00:01,    7.29MB/s]\u001b[A\u001b[A\n",
      "\n",
      " 47%|████▋     |/mnt/d/UChicago/Q4/ADSP 326.95M/14.7M [00:01<00:00,    8.54MB/s]\u001b[A\u001b[A\n",
      "\n",
      " 54%|█████▍    |/mnt/d/UChicago/Q4/ADSP 327.99M/14.7M [00:01<00:00,    9.12MB/s]\u001b[A\u001b[A\n",
      "\n",
      " 66%|██████▌   |/mnt/d/UChicago/Q4/ADSP 329.73M/14.7M [00:02<00:00,    11.4MB/s]\u001b[A\u001b[A\n",
      "\n",
      " 76%|███████▌  |/mnt/d/UChicago/Q4/ADSP 3211.2M/14.7M [00:02<00:00,    11.8MB/s]\u001b[A\u001b[A\n",
      "\n",
      " 89%|████████▉ |/mnt/d/UChicago/Q4/ADSP 3213.1M/14.7M [00:02<00:00,    12.7MB/s]\u001b[A\u001b[A\n",
      "100%|██████████|Pushing to gdrive                 1/1 [00:03<00:00,  3.55s/file]\u001b[A\n",
      "\n",
      "                                                                                \u001b[A\u001b[A\n",
      "1 file pushed                                                                   \u001b[A\n",
      "\u001b[0m"
     ]
    }
   ],
   "source": [
    "# upload version 1 of the training data\n",
    "!dvc add data/test_data.json\n",
    "!git add data/.gitignore data/test_data.json.dvc\n",
    "\n",
    "# push the v1 of the training data\n",
    "!git commit -m \"test data v1: pre-processed test_webmd_squad_v2_consec.json\"\n",
    "!cat data/test_data.json.dvc\n",
    "!dvc push"
   ]
  },
  {
   "cell_type": "code",
   "execution_count": null,
   "id": "7cad5565-03d2-4f06-9d16-24bc96cbeaa8",
   "metadata": {
    "id": "7cad5565-03d2-4f06-9d16-24bc96cbeaa8",
    "outputId": "67339af4-0b31-49c9-f481-ee0958ad989a"
   },
   "outputs": [
    {
     "name": "stdout",
     "output_type": "stream",
     "text": [
      "\u001b[33m9868399\u001b[m\u001b[33m (\u001b[m\u001b[1;36mHEAD -> \u001b[m\u001b[1;32mmaster\u001b[m\u001b[33m)\u001b[m test data v1: pre-processed test_webmd_squad_v2_consec.json\n",
      "\u001b[33mbb55d3c\u001b[m validation data v2: mashqa_data/val_webmd_squad_v2_full.json\n",
      "\u001b[33ma1840fa\u001b[m validation data v1: mashqa_data/val_webmd_squad_v2_consec.json\n",
      "\u001b[33m9c7cf0e\u001b[m training data v2: combine v1 with pre-processed train_webmd_squad_v2_full.json\n",
      "\u001b[33mbf4cb93\u001b[m training data v1: pre-processed train_webmd_squad_v2_consec.json\n",
      "\u001b[33m84b9203\u001b[m Configure remote storage\n"
     ]
    }
   ],
   "source": [
    "!git log --oneline"
   ]
  },
  {
   "cell_type": "markdown",
   "id": "f7ea6685-4501-4e8a-b921-8b729780bb21",
   "metadata": {
    "id": "f7ea6685-4501-4e8a-b921-8b729780bb21"
   },
   "source": [
    "## Test Data V2\n",
    "Append info from ```train_webmd_squad_v2_full.json```"
   ]
  },
  {
   "cell_type": "code",
   "execution_count": null,
   "id": "1c52ed22-f0bf-4be6-aecd-773f77a2badc",
   "metadata": {
    "id": "1c52ed22-f0bf-4be6-aecd-773f77a2badc"
   },
   "outputs": [],
   "source": [
    "file_path = \"mashqa_data/test_webmd_squad_v2_full.json\"\n",
    "\n",
    "data = json.loads(Path(file_path).read_text())\n",
    "data = data[\"data\"]"
   ]
  },
  {
   "cell_type": "code",
   "execution_count": null,
   "id": "2f28e606-eaa6-467e-aed6-858c3f09f52d",
   "metadata": {
    "id": "2f28e606-eaa6-467e-aed6-858c3f09f52d"
   },
   "outputs": [],
   "source": [
    "for index in range(len(data)):\n",
    "    for p_index in range(len(data[index][\"paragraphs\"])):\n",
    "        context_content = data[index][\"paragraphs\"][p_index][\"context\"]\n",
    "        context[index] = [context_content]"
   ]
  },
  {
   "cell_type": "code",
   "execution_count": null,
   "id": "00c1191c-f3b0-4bf7-858e-f72ed140a6ae",
   "metadata": {
    "id": "00c1191c-f3b0-4bf7-858e-f72ed140a6ae",
    "outputId": "0125bc4b-494c-423d-81a6-276c9e70bd22"
   },
   "outputs": [
    {
     "data": {
      "text/plain": [
       "521"
      ]
     },
     "execution_count": 148,
     "metadata": {},
     "output_type": "execute_result"
    }
   ],
   "source": [
    "len(context)"
   ]
  },
  {
   "cell_type": "code",
   "execution_count": null,
   "id": "c727833f-5375-4a1a-9598-4cc3e78fb102",
   "metadata": {
    "id": "c727833f-5375-4a1a-9598-4cc3e78fb102",
    "outputId": "4b1aaaff-3477-401d-f008-dae67af9872c"
   },
   "outputs": [
    {
     "name": "stdout",
     "output_type": "stream",
     "text": [
      "1\n"
     ]
    }
   ],
   "source": [
    "max_n_context = 0\n",
    "\n",
    "for i in range(len(context)):\n",
    "    if len(context[i]) > max_n_context:\n",
    "        max_n_context = len(context[i])\n",
    "\n",
    "pprint(max_n_context)"
   ]
  },
  {
   "cell_type": "markdown",
   "id": "c893d805-bc1d-4e6c-9aa7-888fdffe0c17",
   "metadata": {
    "id": "c893d805-bc1d-4e6c-9aa7-888fdffe0c17"
   },
   "source": [
    "### Extract the context for inferences"
   ]
  },
  {
   "cell_type": "code",
   "execution_count": null,
   "id": "32856c53-760b-4a69-b657-bf9c2ab75b86",
   "metadata": {
    "id": "32856c53-760b-4a69-b657-bf9c2ab75b86"
   },
   "outputs": [],
   "source": [
    "for index in range(len(data)): # loop through data\n",
    "    for p_index in range(len(data[index][\"paragraphs\"])): # loop through\n",
    "        for q_index in range(len(data[index][\"paragraphs\"][p_index][\"qas\"])):\n",
    "            data[index][\"paragraphs\"][p_index][\"qas\"][q_index][\"context\"] = context[index]\n",
    "            test_data.append(data[index][\"paragraphs\"][p_index][\"qas\"][q_index])"
   ]
  },
  {
   "cell_type": "code",
   "execution_count": null,
   "id": "5110da62-dc4e-466f-b1d6-2e73f05b75ae",
   "metadata": {
    "id": "5110da62-dc4e-466f-b1d6-2e73f05b75ae",
    "outputId": "ac259cd5-eb05-4634-f3f7-195d70a4973c"
   },
   "outputs": [
    {
     "data": {
      "text/plain": [
       "6107"
      ]
     },
     "execution_count": 151,
     "metadata": {},
     "output_type": "execute_result"
    }
   ],
   "source": [
    "len(test_data)"
   ]
  },
  {
   "cell_type": "markdown",
   "id": "f7b3d15d-78c2-4c2e-b258-8ff4194ddfcb",
   "metadata": {
    "id": "f7b3d15d-78c2-4c2e-b258-8ff4194ddfcb"
   },
   "source": [
    "### Save and Push Test Data V2"
   ]
  },
  {
   "cell_type": "code",
   "execution_count": null,
   "id": "4f2a4370-70d8-4230-b794-5d498e8b42ad",
   "metadata": {
    "id": "4f2a4370-70d8-4230-b794-5d498e8b42ad"
   },
   "outputs": [],
   "source": [
    "with open('data/test_data.json', 'w') as f:\n",
    "    json.dump(test_data, f)"
   ]
  },
  {
   "cell_type": "code",
   "execution_count": null,
   "id": "7d646aa7-70aa-4ce5-a955-f346cc550eaf",
   "metadata": {
    "id": "7d646aa7-70aa-4ce5-a955-f346cc550eaf",
    "outputId": "47527d4b-26d7-4fbf-adb4-f8924b457a52",
    "scrolled": true
   },
   "outputs": [
    {
     "name": "stdout",
     "output_type": "stream",
     "text": [
      "\u001b[?25l\u001b[32m⠋\u001b[0m Checking graph                                       core\u001b[39m>\n",
      "Adding...                                                                       \n",
      "!\u001b[A\n",
      "Collecting files and computing hashes in data/test_data.json |0.00 [00:00,     ?\u001b[A\n",
      "                                                                                \u001b[A\n",
      "!\u001b[A\n",
      "  0% Checking cache in '/mnt/d/UChicago/Q4/ADSP 32021 Machine Learning Operation\u001b[A\n",
      "                                                                                \u001b[A\n",
      "!\u001b[A\n",
      "  0%|          |Adding data/test_data.json to cache   0/? [00:00<?,     ?file/s]\u001b[A\n",
      "  0%|          |Adding data/test_data.json to cache   0/1 [00:00<?,     ?file/s]\u001b[A\n",
      "  0%|          |Adding data/test_data.json to cache   0/1 [00:00<?,     ?file/s]\u001b[A\n",
      "                                                                                \u001b[A\n",
      "!\u001b[A\n",
      "  0%|          |Checking out /mnt/d/UChicago/Q4/ADSP 30/? [00:00<?,    ?files/s]\u001b[A\n",
      "  0%|          |Checking out /mnt/d/UChicago/Q4/ADSP 30/1 [00:00<?,    ?files/s]\u001b[A\n",
      "100%|██████████|Checking out /mnt/d/UChicago/Q4/A1/1 [00:00<00:00,  7.50files/s]\u001b[A\n",
      "100% Adding...|████████████████████████████████████████|1/1 [00:00,  2.31file/s]\u001b[A\n",
      "\n",
      "To track the changes with git, run:\n",
      "\n",
      "\tgit add data/test_data.json.dvc\n",
      "\n",
      "To enable auto staging, run:\n",
      "\n",
      "\tdvc config core.autostage true\n",
      "\u001b[0m[master 7a85b8c] test data v2: combine v1 with pre-processed test_webmd_squad_v2_full.json\n",
      " 1 file changed, 2 insertions(+), 2 deletions(-)\n",
      "outs:\n",
      "- md5: cffb39cb4d360adc9e9a6141db2b24ab\n",
      "  size: 36362332\n",
      "  isexec: true\n",
      "  hash: md5\n",
      "  path: test_data.json\n",
      "Pushing                                               |0.00 [00:00,     ?file/s]\n",
      "!\u001b[A\n",
      "  0% Checking cache in '1wa6Ax2ro0D7EtdOYmmg0O7PmT8sfFGTN/files/md5'| |0/? [00:0\u001b[A\n",
      "  0% Querying cache in '1wa6Ax2ro0D7EtdOYmmg0O7PmT8sfFGTN/files/md5'| |1/256 [00\u001b[A\n",
      "                                                                                \u001b[A\n",
      "!\u001b[A\n",
      "  0% Checking cache in '/mnt/d/UChicago/Q4/ADSP 32021 Machine Learning Operation\u001b[A\n",
      "                                                                                \u001b[A\n",
      "!\u001b[A\n",
      "  0%|          |Pushing to gdrive                     0/? [00:00<?,     ?file/s]\u001b[A\n",
      "  0%|          |Pushing to gdrive                     0/1 [00:00<?,     ?file/s]\u001b[A\n",
      "  0%|          |Pushing to gdrive                     0/1 [00:00<?,     ?file/s]\u001b[A\n",
      "  0%|          |Pushing to gdrive                     0/1 [00:00<?,     ?file/s]\u001b[A\n",
      "\n",
      "!\u001b[A\u001b[A\n",
      "\n",
      "  0%|          |/mnt/d/UChicago/Q4/ADSP 32021 Machi0.00/? [00:00<?,        ?B/s]\u001b[A\u001b[A\n",
      "\n",
      "  0%|          |/mnt/d/UChicago/Q4/ADSP 32021 M0.00/34.7M [00:00<?,        ?B/s]\u001b[A\u001b[A\n",
      "\n",
      "  0%|          |/mnt/d/UChicago/Q4/ADSP 8.00k/34.7M [00:01<1:35:31,    6.34kB/s]\u001b[A\u001b[A\n",
      "\n",
      "  2%|▏         |/mnt/d/UChicago/Q4/ADSP 320824k/34.7M [00:01<00:42,     838kB/s]\u001b[A\u001b[A\n",
      "\n",
      "  4%|▍         |/mnt/d/UChicago/Q4/ADSP 321.38M/34.7M [00:01<00:23,    1.49MB/s]\u001b[A\u001b[A\n",
      "\n",
      "  6%|▌         |/mnt/d/UChicago/Q4/ADSP 322.00M/34.7M [00:01<00:15,    2.18MB/s]\u001b[A\u001b[A\n",
      "\n",
      "  7%|▋         |/mnt/d/UChicago/Q4/ADSP 322.47M/34.7M [00:01<00:12,    2.62MB/s]\u001b[A\u001b[A\n",
      "\n",
      " 10%|▉         |/mnt/d/UChicago/Q4/ADSP 323.34M/34.7M [00:01<00:08,    3.89MB/s]\u001b[A\u001b[A\n",
      "\n",
      " 11%|█         |/mnt/d/UChicago/Q4/ADSP 323.80M/34.7M [00:01<00:07,    4.11MB/s]\u001b[A\u001b[A\n",
      "\n",
      " 13%|█▎        |/mnt/d/UChicago/Q4/ADSP 324.34M/34.7M [00:02<00:08,    3.82MB/s]\u001b[A\u001b[A\n",
      "\n",
      " 15%|█▍        |/mnt/d/UChicago/Q4/ADSP 325.11M/34.7M [00:02<00:07,    4.27MB/s]\u001b[A\u001b[A\n",
      "\n",
      " 16%|█▌        |/mnt/d/UChicago/Q4/ADSP 325.52M/34.7M [00:02<00:07,    4.11MB/s]\u001b[A\u001b[A\n",
      "\n",
      " 19%|█▉        |/mnt/d/UChicago/Q4/ADSP 326.57M/34.7M [00:02<00:05,    5.29MB/s]\u001b[A\u001b[A\n",
      "\n",
      " 22%|██▏       |/mnt/d/UChicago/Q4/ADSP 327.63M/34.7M [00:02<00:04,    5.70MB/s]\u001b[A\u001b[A\n",
      "\n",
      " 24%|██▍       |/mnt/d/UChicago/Q4/ADSP 328.30M/34.7M [00:02<00:04,    6.00MB/s]\u001b[A\u001b[A\n",
      "\n",
      " 27%|██▋       |/mnt/d/UChicago/Q4/ADSP 329.51M/34.7M [00:02<00:03,    7.03MB/s]\u001b[A\u001b[A\n",
      "\n",
      " 29%|██▉       |/mnt/d/UChicago/Q4/ADSP 3210.1M/34.7M [00:03<00:04,    6.11MB/s]\u001b[A\u001b[A\n",
      "\n",
      " 31%|███       |/mnt/d/UChicago/Q4/ADSP 3210.6M/34.7M [00:03<00:04,    5.94MB/s]\u001b[A\u001b[A\n",
      "\n",
      " 33%|███▎      |/mnt/d/UChicago/Q4/ADSP 3211.4M/34.7M [00:03<00:04,    5.88MB/s]\u001b[A\u001b[A\n",
      "\n",
      " 35%|███▌      |/mnt/d/UChicago/Q4/ADSP 3212.2M/34.7M [00:03<00:03,    6.05MB/s]\u001b[A\u001b[A\n",
      "\n",
      " 38%|███▊      |/mnt/d/UChicago/Q4/ADSP 3213.1M/34.7M [00:04<00:11,    1.89MB/s]\u001b[A\u001b[A\n",
      "\n",
      " 40%|███▉      |/mnt/d/UChicago/Q4/ADSP 3213.8M/34.7M [00:04<00:09,    2.37MB/s]\u001b[A\u001b[A\n",
      "\n",
      " 43%|████▎     |/mnt/d/UChicago/Q4/ADSP 3215.0M/34.7M [00:04<00:06,    3.41MB/s]\u001b[A\u001b[A\n",
      "\n",
      " 46%|████▌     |/mnt/d/UChicago/Q4/ADSP 3215.8M/34.7M [00:04<00:05,    3.73MB/s]\u001b[A\u001b[A\n",
      "\n",
      " 48%|████▊     |/mnt/d/UChicago/Q4/ADSP 3216.7M/34.7M [00:05<00:04,    3.98MB/s]\u001b[A\u001b[A\n",
      "\n",
      " 51%|█████▏    |/mnt/d/UChicago/Q4/ADSP 3217.8M/34.7M [00:05<00:03,    5.03MB/s]\u001b[A\u001b[A\n",
      "\n",
      " 55%|█████▍    |/mnt/d/UChicago/Q4/ADSP 3218.9M/34.7M [00:05<00:03,    5.28MB/s]\u001b[A\u001b[A\n",
      "\n",
      " 58%|█████▊    |/mnt/d/UChicago/Q4/ADSP 3220.2M/34.7M [00:05<00:03,    4.49MB/s]\u001b[A\u001b[A\n",
      "\n",
      " 62%|██████▏   |/mnt/d/UChicago/Q4/ADSP 3221.6M/34.7M [00:06<00:02,    4.98MB/s]\u001b[A\u001b[A\n",
      "\n",
      " 66%|██████▌   |/mnt/d/UChicago/Q4/ADSP 3222.9M/34.7M [00:06<00:02,    5.03MB/s]\u001b[A\u001b[A\n",
      "\n",
      " 70%|███████   |/mnt/d/UChicago/Q4/ADSP 3224.4M/34.7M [00:06<00:01,    5.62MB/s]\u001b[A\u001b[A\n",
      "\n",
      " 75%|███████▌  |/mnt/d/UChicago/Q4/ADSP 3226.1M/34.7M [00:06<00:01,    6.01MB/s]\u001b[A\u001b[A\n",
      "\n",
      " 79%|███████▉  |/mnt/d/UChicago/Q4/ADSP 3227.4M/34.7M [00:07<00:01,    4.26MB/s]\u001b[A\u001b[A\n",
      "\n",
      " 86%|████████▌ |/mnt/d/UChicago/Q4/ADSP 3229.9M/34.7M [00:07<00:00,    5.70MB/s]\u001b[A\u001b[A\n",
      "\n",
      " 90%|█████████ |/mnt/d/UChicago/Q4/ADSP 3231.3M/34.7M [00:07<00:00,    6.06MB/s]\u001b[A\u001b[A\n",
      "\n",
      " 95%|█████████▌|/mnt/d/UChicago/Q4/ADSP 3233.0M/34.7M [00:08<00:00,    6.46MB/s]\u001b[A\u001b[A\n",
      "100%|██████████|Pushing to gdrive                 1/1 [00:09<00:00,  9.61s/file]\u001b[A\n",
      "\n",
      "                                                                                \u001b[A\u001b[A\n",
      "1 file pushed                                                                   \u001b[A\n",
      "\u001b[0m"
     ]
    }
   ],
   "source": [
    "# upload version 2 of the test data\n",
    "!dvc add data/test_data.json\n",
    "!git add data/.gitignore data/test_data.json.dvc\n",
    "\n",
    "# push the v2 of the test data\n",
    "!git commit -m \"test data v2: combine v1 with pre-processed test_webmd_squad_v2_full.json\"\n",
    "!cat data/test_data.json.dvc\n",
    "!dvc push"
   ]
  },
  {
   "cell_type": "code",
   "execution_count": null,
   "id": "cb7f2294-9e77-443b-910c-04f485d97705",
   "metadata": {
    "id": "cb7f2294-9e77-443b-910c-04f485d97705",
    "outputId": "a89a9507-b571-49b8-d5e0-aec5b20d4d01"
   },
   "outputs": [
    {
     "name": "stdout",
     "output_type": "stream",
     "text": [
      "\u001b[33m7a85b8c\u001b[m\u001b[33m (\u001b[m\u001b[1;36mHEAD -> \u001b[m\u001b[1;32mmaster\u001b[m\u001b[33m)\u001b[m test data v2: combine v1 with pre-processed test_webmd_squad_v2_full.json\n",
      "\u001b[33m9868399\u001b[m test data v1: pre-processed test_webmd_squad_v2_consec.json\n",
      "\u001b[33mbb55d3c\u001b[m validation data v2: mashqa_data/val_webmd_squad_v2_full.json\n",
      "\u001b[33ma1840fa\u001b[m validation data v1: mashqa_data/val_webmd_squad_v2_consec.json\n",
      "\u001b[33m9c7cf0e\u001b[m training data v2: combine v1 with pre-processed train_webmd_squad_v2_full.json\n",
      "\u001b[33mbf4cb93\u001b[m training data v1: pre-processed train_webmd_squad_v2_consec.json\n",
      "\u001b[33m84b9203\u001b[m Configure remote storage\n"
     ]
    }
   ],
   "source": [
    "!git log --oneline"
   ]
  },
  {
   "cell_type": "markdown",
   "id": "ce26b362-9b12-4559-acba-dbc0f0037d2e",
   "metadata": {
    "id": "ce26b362-9b12-4559-acba-dbc0f0037d2e"
   },
   "source": [
    "### Checking that both v1 and v2 are properly stored"
   ]
  },
  {
   "cell_type": "code",
   "execution_count": null,
   "id": "3282a191-4a0f-4cdc-bebf-eb80f5406ee6",
   "metadata": {
    "id": "3282a191-4a0f-4cdc-bebf-eb80f5406ee6",
    "outputId": "0c3517f1-01b1-4d78-96ed-fe88581d64c7"
   },
   "outputs": [
    {
     "name": "stdout",
     "output_type": "stream",
     "text": [
      "Updated 1 path from e983923\n",
      "Building workspace index                              |4.00 [00:00,  122entry/s]\n",
      "Comparing indexes                                    |5.00 [00:00, 2.53kentry/s]\n",
      "Applying changes                                      |0.00 [00:00,     ?file/s]\n",
      "!\u001b[A\n",
      "  0%|          |/mnt/d/UChicago/Q4/ADSP 32021 Machi0.00/? [00:00<?,        ?B/s]\u001b[A\n",
      "  0%|          |/mnt/d/UChicago/Q4/ADSP 32021 M0.00/14.7M [00:00<?,        ?B/s]\u001b[A\n",
      "Applying changes                                      |1.00 [00:00,  8.13file/s]\u001b[A\n",
      "\u001b[33mM\u001b[0m       data/test_data.json\n",
      "\u001b[33mM\u001b[0m       data/training_data.json\n",
      "\u001b[33mM\u001b[0m       data/validation_data.json\n",
      "\u001b[0m"
     ]
    }
   ],
   "source": [
    "# checkout v1\n",
    "!git checkout 9868399 data/test_data.json.dvc\n",
    "!dvc checkout"
   ]
  },
  {
   "cell_type": "code",
   "execution_count": null,
   "id": "d4c0db7d-dde9-49e5-ab0a-419081ba11c8",
   "metadata": {
    "id": "d4c0db7d-dde9-49e5-ab0a-419081ba11c8",
    "outputId": "8b0c4c17-f5a4-4554-cb6e-061ea2896070"
   },
   "outputs": [
    {
     "name": "stdout",
     "output_type": "stream",
     "text": [
      "2614\n"
     ]
    }
   ],
   "source": [
    "test_data = json.loads(Path(\"data/test_data.json\").read_text())\n",
    "print(len(test_data))"
   ]
  },
  {
   "cell_type": "code",
   "execution_count": null,
   "id": "62ad00dc-c6db-44cc-a528-fcee4df81a45",
   "metadata": {
    "id": "62ad00dc-c6db-44cc-a528-fcee4df81a45",
    "outputId": "c2209114-f657-4741-e8c9-cc5be29fe69f"
   },
   "outputs": [
    {
     "name": "stdout",
     "output_type": "stream",
     "text": [
      "Updated 1 path from c643473\n",
      "Building workspace index                              |4.00 [00:00,  148entry/s]\n",
      "Comparing indexes                                    |5.00 [00:00, 2.38kentry/s]\n",
      "Applying changes                                      |0.00 [00:00,     ?file/s]\n",
      "!\u001b[A\n",
      "  0%|          |/mnt/d/UChicago/Q4/ADSP 32021 Machi0.00/? [00:00<?,        ?B/s]\u001b[A\n",
      "  0%|          |/mnt/d/UChicago/Q4/ADSP 32021 M0.00/34.7M [00:00<?,        ?B/s]\u001b[A\n",
      " 95%|█████████▌|/mnt/d/UChicago/Q4/ADSP 3233.0M/34.7M [00:00<00:00,     340MB/s]\u001b[A\n",
      "Applying changes                                      |1.00 [00:00,  7.12file/s]\u001b[A\n",
      "\u001b[33mM\u001b[0m       data/training_data.json\n",
      "\u001b[33mM\u001b[0m       data/validation_data.json\n",
      "\u001b[33mM\u001b[0m       data/test_data.json\n",
      "\u001b[0m"
     ]
    }
   ],
   "source": [
    "# checkout v2\n",
    "!git checkout 7a85b8c data/test_data.json.dvc\n",
    "!dvc checkout"
   ]
  },
  {
   "cell_type": "code",
   "execution_count": null,
   "id": "eea0e684-37fd-4166-affa-ca5bfb8931fa",
   "metadata": {
    "id": "eea0e684-37fd-4166-affa-ca5bfb8931fa",
    "outputId": "ba293e36-dbcb-4444-bfbe-df91fba701c4"
   },
   "outputs": [
    {
     "name": "stdout",
     "output_type": "stream",
     "text": [
      "6107\n"
     ]
    }
   ],
   "source": [
    "test_data = json.loads(Path(\"data/test_data.json\").read_text())\n",
    "print(len(test_data))"
   ]
  },
  {
   "cell_type": "markdown",
   "id": "109e54c7-f5f0-40a2-b1fd-788e33d1deaf",
   "metadata": {
    "id": "109e54c7-f5f0-40a2-b1fd-788e33d1deaf"
   },
   "source": [
    "# 4. Pre-Process Full Data for Document Transformer"
   ]
  },
  {
   "cell_type": "code",
   "execution_count": null,
   "id": "267e9c9d-6f93-4610-bd7e-88339ce80265",
   "metadata": {
    "id": "267e9c9d-6f93-4610-bd7e-88339ce80265",
    "outputId": "31c01dc1-4015-43be-b418-02ff00b7df79"
   },
   "outputs": [
    {
     "name": "stdout",
     "output_type": "stream",
     "text": [
      "\u001b[33m7a85b8c\u001b[m\u001b[33m (\u001b[m\u001b[1;36mHEAD -> \u001b[m\u001b[1;32mmaster\u001b[m\u001b[33m)\u001b[m test data v2: combine v1 with pre-processed test_webmd_squad_v2_full.json\n",
      "\u001b[33m9868399\u001b[m test data v1: pre-processed test_webmd_squad_v2_consec.json\n",
      "\u001b[33mbb55d3c\u001b[m validation data v2: mashqa_data/val_webmd_squad_v2_full.json\n",
      "\u001b[33ma1840fa\u001b[m validation data v1: mashqa_data/val_webmd_squad_v2_consec.json\n",
      "\u001b[33m9c7cf0e\u001b[m training data v2: combine v1 with pre-processed train_webmd_squad_v2_full.json\n",
      "\u001b[33mbf4cb93\u001b[m training data v1: pre-processed train_webmd_squad_v2_consec.json\n",
      "\u001b[33m84b9203\u001b[m Configure remote storage\n"
     ]
    }
   ],
   "source": [
    "!git log --oneline"
   ]
  },
  {
   "cell_type": "markdown",
   "id": "e551fe10-ec91-4a52-9628-fc141192a8ab",
   "metadata": {
    "id": "e551fe10-ec91-4a52-9628-fc141192a8ab"
   },
   "source": [
    "## Full Data V1\n",
    "Only contains info from ```*_consec.json```"
   ]
  },
  {
   "cell_type": "code",
   "execution_count": null,
   "id": "15cfc482-ff7d-4af5-b9d5-a02dd885f457",
   "metadata": {
    "id": "15cfc482-ff7d-4af5-b9d5-a02dd885f457",
    "outputId": "95495a7d-958d-46ac-a556-1d616580a0fe",
    "scrolled": true
   },
   "outputs": [
    {
     "name": "stdout",
     "output_type": "stream",
     "text": [
      "Updated 1 path from 4189675\n",
      "Building workspace index                              |4.00 [00:00,  133entry/s]\n",
      "Comparing indexes                                    |5.00 [00:00, 2.09kentry/s]\n",
      "Applying changes                                      |0.00 [00:00,     ?file/s]\n",
      "!\u001b[A\n",
      "  0%|          |/mnt/d/UChicago/Q4/ADSP 32021 Machi0.00/? [00:00<?,        ?B/s]\u001b[A\n",
      "  0%|          |/mnt/d/UChicago/Q4/ADSP 32021 Ma0.00/118M [00:00<?,        ?B/s]\u001b[A\n",
      " 25%|██▌       |/mnt/d/UChicago/Q4/ADSP 32030.0M/118M [00:00<00:00,     309MB/s]\u001b[A\n",
      " 55%|█████▌    |/mnt/d/UChicago/Q4/ADSP 32065.0M/118M [00:00<00:00,     341MB/s]\u001b[A\n",
      " 83%|████████▎ |/mnt/d/UChicago/Q4/ADSP 32098.0M/118M [00:00<00:00,     342MB/s]\u001b[A\n",
      "Applying changes                                      |1.00 [00:00,  2.32file/s]\u001b[A\n",
      "\u001b[33mM\u001b[0m       data/test_data.json\n",
      "\u001b[33mM\u001b[0m       data/validation_data.json\n",
      "\u001b[33mM\u001b[0m       data/training_data.json\n",
      "\u001b[0mUpdated 1 path from 88d64ca\n",
      "Building workspace index                              |4.00 [00:00,  130entry/s]\n",
      "Comparing indexes                                    |5.00 [00:00, 2.37kentry/s]\n",
      "Applying changes                                      |0.00 [00:00,     ?file/s]\n",
      "!\u001b[A\n",
      "  0%|          |/mnt/d/UChicago/Q4/ADSP 32021 Machi0.00/? [00:00<?,        ?B/s]\u001b[A\n",
      "  0%|          |/mnt/d/UChicago/Q4/ADSP 32021 M0.00/18.0M [00:00<?,        ?B/s]\u001b[A\n",
      "Applying changes                                      |1.00 [00:00,  9.11file/s]\u001b[A\n",
      "\u001b[33mM\u001b[0m       data/test_data.json\n",
      "\u001b[33mM\u001b[0m       data/validation_data.json\n",
      "\u001b[33mM\u001b[0m       data/training_data.json\n",
      "\u001b[0mUpdated 0 paths from e983923\n",
      "Building workspace index                              |4.00 [00:00,  149entry/s]\n",
      "Comparing indexes                                    |5.00 [00:00, 2.07kentry/s]\n",
      "Applying changes                                      |0.00 [00:00,     ?file/s]\n",
      "\u001b[33mM\u001b[0m       data/test_data.json\n",
      "\u001b[33mM\u001b[0m       data/training_data.json\n",
      "\u001b[33mM\u001b[0m       data/validation_data.json\n",
      "\u001b[0m"
     ]
    }
   ],
   "source": [
    "# checkout v1\n",
    "!git checkout bf4cb93 data/training_data.json.dvc\n",
    "!dvc checkout\n",
    "!git checkout a1840fa data/validation_data.json.dvc\n",
    "!dvc checkout\n",
    "!git checkout 9868399 data/test_data.json.dvc\n",
    "!dvc checkout"
   ]
  },
  {
   "cell_type": "code",
   "execution_count": null,
   "id": "1f690a57-e54c-48b5-bec1-55708570a22f",
   "metadata": {
    "id": "1f690a57-e54c-48b5-bec1-55708570a22f",
    "outputId": "98cc4662-d446-49e4-f86c-8b6bf1f7387e"
   },
   "outputs": [
    {
     "name": "stdout",
     "output_type": "stream",
     "text": [
      "25289\n"
     ]
    }
   ],
   "source": [
    "full_data = json.loads(Path(\"data/training_data.json\").read_text()) + json.loads(Path(\"data/validation_data.json\").read_text()) +\\\n",
    "json.loads(Path(\"data/test_data.json\").read_text())\n",
    "\n",
    "pprint(len(full_data))"
   ]
  },
  {
   "cell_type": "markdown",
   "id": "e5e6ac31-20ed-4361-9ced-965cd9e1bca2",
   "metadata": {
    "id": "e5e6ac31-20ed-4361-9ced-965cd9e1bca2"
   },
   "source": [
    "### Save and Push Full Data V1"
   ]
  },
  {
   "cell_type": "code",
   "execution_count": null,
   "id": "6714484e-3dd7-4fde-a24a-cf52e3e472d4",
   "metadata": {
    "id": "6714484e-3dd7-4fde-a24a-cf52e3e472d4"
   },
   "outputs": [],
   "source": [
    "with open('data/full_data.json', 'w') as f:\n",
    "    json.dump(full_data, f)"
   ]
  },
  {
   "cell_type": "code",
   "execution_count": null,
   "id": "b1dc5f21-8ab1-4dc7-868d-14119a4f68de",
   "metadata": {
    "id": "b1dc5f21-8ab1-4dc7-868d-14119a4f68de",
    "outputId": "6a8baa67-3e0e-4dd5-93f7-9672a065d0ca",
    "scrolled": true
   },
   "outputs": [
    {
     "name": "stdout",
     "output_type": "stream",
     "text": [
      "\u001b[?25l\u001b[32m⠋\u001b[0m Checking graph                                       core\u001b[39m>\n",
      "Adding...                                                                       \n",
      "!\u001b[A\n",
      "Collecting files and computing hashes in data/full_data.json |0.00 [00:00,     ?\u001b[A\n",
      "                                                                                \u001b[A\n",
      "!\u001b[A\n",
      "  0% Checking cache in '/mnt/d/UChicago/Q4/ADSP 32021 Machine Learning Operation\u001b[A\n",
      "                                                                                \u001b[A\n",
      "!\u001b[A\n",
      "  0%|          |Adding data/full_data.json to cache   0/? [00:00<?,     ?file/s]\u001b[A\n",
      "  0%|          |Adding data/full_data.json to cache   0/1 [00:00<?,     ?file/s]\u001b[A\n",
      "  0%|          |Adding data/full_data.json to cache   0/1 [00:00<?,     ?file/s]\u001b[A\n",
      "                                                                                \u001b[A\n",
      "!\u001b[A\n",
      "  0%|          |Checking out /mnt/d/UChicago/Q4/ADSP 30/? [00:00<?,    ?files/s]\u001b[A\n",
      "  0%|          |Checking out /mnt/d/UChicago/Q4/ADSP 30/1 [00:00<?,    ?files/s]\u001b[A\n",
      "100%|██████████|Checking out /mnt/d/UChicago/Q4/A1/1 [00:00<00:00,  2.23files/s]\u001b[A\n",
      "100% Adding...|████████████████████████████████████████|1/1 [00:01,  1.08s/file]\u001b[A\n",
      "\n",
      "To track the changes with git, run:\n",
      "\n",
      "\tgit add data/.gitignore data/full_data.json.dvc\n",
      "\n",
      "To enable auto staging, run:\n",
      "\n",
      "\tdvc config core.autostage true\n",
      "\u001b[0m[master b8b53f2] full data v1: *_consec.json\n",
      " 5 files changed, 13 insertions(+), 6 deletions(-)\n",
      " create mode 100644 data/full_data.json.dvc\n",
      "outs:\n",
      "- md5: 02d9ad1ad0e73f54aabe2ebcd6eaf367\n",
      "  size: 157968103\n",
      "  isexec: true\n",
      "  hash: md5\n",
      "  path: full_data.json\n",
      "Pushing                                               |0.00 [00:00,     ?file/s]\n",
      "!\u001b[A\n",
      "  0% Checking cache in '1wa6Ax2ro0D7EtdOYmmg0O7PmT8sfFGTN/files/md5'| |0/? [00:0\u001b[A\n",
      "  0% Querying cache in '1wa6Ax2ro0D7EtdOYmmg0O7PmT8sfFGTN/files/md5'| |1/256 [00\u001b[A\n",
      "                                                                                \u001b[A\n",
      "!\u001b[A\n",
      "  0% Checking cache in '/mnt/d/UChicago/Q4/ADSP 32021 Machine Learning Operation\u001b[A\n",
      "                                                                                \u001b[A\n",
      "!\u001b[A\n",
      "  0%|          |Pushing to gdrive                     0/? [00:00<?,     ?file/s]\u001b[A\n",
      "  0%|          |Pushing to gdrive                     0/1 [00:00<?,     ?file/s]\u001b[A\n",
      "  0%|          |Pushing to gdrive                     0/1 [00:00<?,     ?file/s]\u001b[A\n",
      "  0%|          |Pushing to gdrive                     0/1 [00:00<?,     ?file/s]\u001b[A\n",
      "\n",
      "!\u001b[A\u001b[A\n",
      "\n",
      "  0%|          |/mnt/d/UChicago/Q4/ADSP 32021 Machi0.00/? [00:00<?,        ?B/s]\u001b[A\u001b[A\n",
      "\n",
      "  0%|          |/mnt/d/UChicago/Q4/ADSP 32021 Ma0.00/151M [00:00<?,        ?B/s]\u001b[A\u001b[A\n",
      "\n",
      "  0%|          |/mnt/d/UChicago/Q4/ADSP 38.00k/151M [00:01<7:18:21,    6.01kB/s]\u001b[A\u001b[A\n",
      "\n",
      "  0%|          |/mnt/d/UChicago/Q4/ADSP 3202384k/151M [00:01<07:09,     367kB/s]\u001b[A\u001b[A\n",
      "\n",
      "  0%|          |/mnt/d/UChicago/Q4/ADSP 3202768k/151M [00:01<03:23,     771kB/s]\u001b[A\u001b[A\n",
      "\n",
      "  1%|          |/mnt/d/UChicago/Q4/ADSP 3201.23M/151M [00:01<01:55,    1.35MB/s]\u001b[A\u001b[A\n",
      "\n",
      "  1%|          |/mnt/d/UChicago/Q4/ADSP 3201.80M/151M [00:01<01:16,    2.04MB/s]\u001b[A\u001b[A\n",
      "\n",
      "  2%|▏         |/mnt/d/UChicago/Q4/ADSP 3202.39M/151M [00:01<00:56,    2.76MB/s]\u001b[A\u001b[A\n",
      "\n",
      "  2%|▏         |/mnt/d/UChicago/Q4/ADSP 3202.86M/151M [00:02<00:49,    3.15MB/s]\u001b[A\u001b[A\n",
      "\n",
      "  2%|▏         |/mnt/d/UChicago/Q4/ADSP 3203.21M/151M [00:02<00:49,    3.11MB/s]\u001b[A\u001b[A\n",
      "\n",
      "  2%|▏         |/mnt/d/UChicago/Q4/ADSP 3203.74M/151M [00:02<00:43,    3.52MB/s]\u001b[A\u001b[A\n",
      "\n",
      "  3%|▎         |/mnt/d/UChicago/Q4/ADSP 3204.09M/151M [00:02<00:43,    3.51MB/s]\u001b[A\u001b[A\n",
      "\n",
      "  3%|▎         |/mnt/d/UChicago/Q4/ADSP 3204.51M/151M [00:02<00:46,    3.26MB/s]\u001b[A\u001b[A\n",
      "\n",
      "  3%|▎         |/mnt/d/UChicago/Q4/ADSP 3204.98M/151M [00:02<00:44,    3.45MB/s]\u001b[A\u001b[A\n",
      "\n",
      "  4%|▎         |/mnt/d/UChicago/Q4/ADSP 3205.56M/151M [00:02<00:40,    3.73MB/s]\u001b[A\u001b[A\n",
      "\n",
      "  4%|▍         |/mnt/d/UChicago/Q4/ADSP 3206.09M/151M [00:02<00:36,    4.15MB/s]\u001b[A\u001b[A\n",
      "\n",
      "  4%|▍         |/mnt/d/UChicago/Q4/ADSP 3206.44M/151M [00:03<00:38,    3.96MB/s]\u001b[A\u001b[A\n",
      "\n",
      "  5%|▍         |/mnt/d/UChicago/Q4/ADSP 3207.02M/151M [00:03<00:33,    4.47MB/s]\u001b[A\u001b[A\n",
      "\n",
      "  5%|▌         |/mnt/d/UChicago/Q4/ADSP 3207.61M/151M [00:03<00:32,    4.68MB/s]\u001b[A\u001b[A\n",
      "\n",
      "  5%|▌         |/mnt/d/UChicago/Q4/ADSP 3208.26M/151M [00:03<00:28,    5.16MB/s]\u001b[A\u001b[A\n",
      "\n",
      "  6%|▌         |/mnt/d/UChicago/Q4/ADSP 3208.90M/151M [00:03<00:29,    5.05MB/s]\u001b[A\u001b[A\n",
      "\n",
      "  6%|▋         |/mnt/d/UChicago/Q4/ADSP 3209.55M/151M [00:03<00:27,    5.31MB/s]\u001b[A\u001b[A\n",
      "\n",
      "  7%|▋         |/mnt/d/UChicago/Q4/ADSP 32010.2M/151M [00:03<00:27,    5.45MB/s]\u001b[A\u001b[A\n",
      "\n",
      "  7%|▋         |/mnt/d/UChicago/Q4/ADSP 32010.9M/151M [00:03<00:25,    5.84MB/s]\u001b[A\u001b[A\n",
      "\n",
      "  8%|▊         |/mnt/d/UChicago/Q4/ADSP 32011.6M/151M [00:03<00:24,    5.94MB/s]\u001b[A\u001b[A\n",
      "\n",
      "  8%|▊         |/mnt/d/UChicago/Q4/ADSP 32012.3M/151M [00:04<00:24,    5.92MB/s]\u001b[A\u001b[A\n",
      "\n",
      "  9%|▊         |/mnt/d/UChicago/Q4/ADSP 32013.1M/151M [00:04<00:24,    5.97MB/s]\u001b[A\u001b[A\n",
      "\n",
      "  9%|▉         |/mnt/d/UChicago/Q4/ADSP 32013.8M/151M [00:04<00:23,    6.11MB/s]\u001b[A\u001b[A\n",
      "\n",
      " 10%|▉         |/mnt/d/UChicago/Q4/ADSP 32014.6M/151M [00:04<00:22,    6.42MB/s]\u001b[A\u001b[A\n",
      "\n",
      " 10%|█         |/mnt/d/UChicago/Q4/ADSP 32015.5M/151M [00:04<00:20,    6.75MB/s]\u001b[A\u001b[A\n",
      "\n",
      " 11%|█         |/mnt/d/UChicago/Q4/ADSP 32016.3M/151M [00:04<00:19,    7.15MB/s]\u001b[A\u001b[A\n",
      "\n",
      " 11%|█         |/mnt/d/UChicago/Q4/ADSP 32016.9M/151M [00:04<00:21,    6.56MB/s]\u001b[A\u001b[A\n",
      "\n",
      " 12%|█▏        |/mnt/d/UChicago/Q4/ADSP 32017.7M/151M [00:04<00:20,    6.71MB/s]\u001b[A\u001b[A\n",
      "\n",
      " 12%|█▏        |/mnt/d/UChicago/Q4/ADSP 32018.5M/151M [00:05<00:21,    6.46MB/s]\u001b[A\u001b[A\n",
      "\n",
      " 13%|█▎        |/mnt/d/UChicago/Q4/ADSP 32019.2M/151M [00:05<00:21,    6.54MB/s]\u001b[A\u001b[A\n",
      "\n",
      " 13%|█▎        |/mnt/d/UChicago/Q4/ADSP 32019.8M/151M [00:05<00:21,    6.25MB/s]\u001b[A\u001b[A\n",
      "\n",
      " 14%|█▎        |/mnt/d/UChicago/Q4/ADSP 32020.5M/151M [00:05<00:21,    6.49MB/s]\u001b[A\u001b[A\n",
      "\n",
      " 14%|█▍        |/mnt/d/UChicago/Q4/ADSP 32021.3M/151M [00:05<00:18,    7.17MB/s]\u001b[A\u001b[A\n",
      "\n",
      " 15%|█▍        |/mnt/d/UChicago/Q4/ADSP 32022.0M/151M [00:05<00:21,    6.36MB/s]\u001b[A\u001b[A\n",
      "\n",
      " 15%|█▌        |/mnt/d/UChicago/Q4/ADSP 32022.6M/151M [00:05<00:21,    6.23MB/s]\u001b[A\u001b[A\n",
      "\n",
      " 15%|█▌        |/mnt/d/UChicago/Q4/ADSP 32023.3M/151M [00:05<00:21,    6.29MB/s]\u001b[A\u001b[A\n",
      "\n",
      " 16%|█▌        |/mnt/d/UChicago/Q4/ADSP 32024.3M/151M [00:05<00:20,    6.50MB/s]\u001b[A\u001b[A\n",
      "\n",
      " 17%|█▋        |/mnt/d/UChicago/Q4/ADSP 32025.1M/151M [00:06<00:19,    6.83MB/s]\u001b[A\u001b[A\n",
      "\n",
      " 17%|█▋        |/mnt/d/UChicago/Q4/ADSP 32025.7M/151M [00:06<00:20,    6.46MB/s]\u001b[A\u001b[A\n",
      "\n",
      " 18%|█▊        |/mnt/d/UChicago/Q4/ADSP 32026.7M/151M [00:06<00:18,    6.89MB/s]\u001b[A\u001b[A\n",
      "\n",
      " 18%|█▊        |/mnt/d/UChicago/Q4/ADSP 32027.6M/151M [00:06<00:18,    6.90MB/s]\u001b[A\u001b[A\n",
      "\n",
      " 19%|█▉        |/mnt/d/UChicago/Q4/ADSP 32028.5M/151M [00:06<00:16,    7.59MB/s]\u001b[A\u001b[A\n",
      "\n",
      " 19%|█▉        |/mnt/d/UChicago/Q4/ADSP 32029.1M/151M [00:06<00:18,    6.85MB/s]\u001b[A\u001b[A\n",
      "\n",
      " 20%|█▉        |/mnt/d/UChicago/Q4/ADSP 32030.0M/151M [00:06<00:19,    6.54MB/s]\u001b[A\u001b[A\n",
      "\n",
      " 21%|██        |/mnt/d/UChicago/Q4/ADSP 32031.0M/151M [00:06<00:16,    7.74MB/s]\u001b[A\u001b[A\n",
      "\n",
      " 21%|██        |/mnt/d/UChicago/Q4/ADSP 32031.4M/151M [00:07<00:18,    6.76MB/s]\u001b[A\u001b[A\n",
      "\n",
      " 21%|██▏       |/mnt/d/UChicago/Q4/ADSP 32032.2M/151M [00:07<00:17,    7.11MB/s]\u001b[A\u001b[A\n",
      "\n",
      " 22%|██▏       |/mnt/d/UChicago/Q4/ADSP 32032.8M/151M [00:07<00:18,    6.70MB/s]\u001b[A\u001b[A\n",
      "\n",
      " 22%|██▏       |/mnt/d/UChicago/Q4/ADSP 32033.6M/151M [00:07<00:17,    7.20MB/s]\u001b[A\u001b[A\n",
      "\n",
      " 23%|██▎       |/mnt/d/UChicago/Q4/ADSP 32034.4M/151M [00:07<00:16,    7.29MB/s]\u001b[A\u001b[A\n",
      "\n",
      " 23%|██▎       |/mnt/d/UChicago/Q4/ADSP 32035.1M/151M [00:07<00:18,    6.51MB/s]\u001b[A\u001b[A\n",
      "\n",
      " 24%|██▍       |/mnt/d/UChicago/Q4/ADSP 32035.8M/151M [00:07<00:17,    6.76MB/s]\u001b[A\u001b[A\n",
      "\n",
      " 24%|██▍       |/mnt/d/UChicago/Q4/ADSP 32036.8M/151M [00:07<00:17,    6.67MB/s]\u001b[A\u001b[A\n",
      "\n",
      " 25%|██▌       |/mnt/d/UChicago/Q4/ADSP 32037.9M/151M [00:08<00:16,    7.00MB/s]\u001b[A\u001b[A\n",
      "\n",
      " 26%|██▌       |/mnt/d/UChicago/Q4/ADSP 32038.8M/151M [00:08<00:16,    7.15MB/s]\u001b[A\u001b[A\n",
      "\n",
      " 26%|██▋       |/mnt/d/UChicago/Q4/ADSP 32039.6M/151M [00:08<00:15,    7.56MB/s]\u001b[A\u001b[A\n",
      "\n",
      " 27%|██▋       |/mnt/d/UChicago/Q4/ADSP 32040.3M/151M [00:08<00:15,    7.25MB/s]\u001b[A\u001b[A\n",
      "\n",
      " 27%|██▋       |/mnt/d/UChicago/Q4/ADSP 32041.0M/151M [00:08<00:16,    6.93MB/s]\u001b[A\u001b[A\n",
      "\n",
      " 28%|██▊       |/mnt/d/UChicago/Q4/ADSP 32041.7M/151M [00:08<00:16,    6.85MB/s]\u001b[A\u001b[A\n",
      "\n",
      " 28%|██▊       |/mnt/d/UChicago/Q4/ADSP 32042.5M/151M [00:08<00:15,    7.14MB/s]\u001b[A\u001b[A\n",
      "\n",
      " 29%|██▊       |/mnt/d/UChicago/Q4/ADSP 32043.2M/151M [00:08<00:16,    6.99MB/s]\u001b[A\u001b[A\n",
      "\n",
      " 29%|██▉       |/mnt/d/UChicago/Q4/ADSP 32044.0M/151M [00:08<00:15,    7.02MB/s]\u001b[A\u001b[A\n",
      "\n",
      " 30%|██▉       |/mnt/d/UChicago/Q4/ADSP 32045.0M/151M [00:09<00:14,    7.40MB/s]\u001b[A\u001b[A\n",
      "\n",
      " 31%|███       |/mnt/d/UChicago/Q4/ADSP 32046.0M/151M [00:09<00:14,    7.51MB/s]\u001b[A\u001b[A\n",
      "\n",
      " 31%|███       |/mnt/d/UChicago/Q4/ADSP 32047.0M/151M [00:09<00:14,    7.54MB/s]\u001b[A\u001b[A\n",
      "\n",
      " 32%|███▏      |/mnt/d/UChicago/Q4/ADSP 32048.0M/151M [00:09<00:14,    7.29MB/s]\u001b[A\u001b[A\n",
      "\n",
      " 33%|███▎      |/mnt/d/UChicago/Q4/ADSP 32049.1M/151M [00:09<00:14,    7.22MB/s]\u001b[A\u001b[A\n",
      "\n",
      " 33%|███▎      |/mnt/d/UChicago/Q4/ADSP 32050.1M/151M [00:09<00:15,    6.98MB/s]\u001b[A\u001b[A\n",
      "\n",
      " 34%|███▍      |/mnt/d/UChicago/Q4/ADSP 32051.3M/151M [00:09<00:12,    8.02MB/s]\u001b[A\u001b[A\n",
      "\n",
      " 34%|███▍      |/mnt/d/UChicago/Q4/ADSP 32051.8M/151M [00:10<00:14,    7.26MB/s]\u001b[A\u001b[A\n",
      "\n",
      " 35%|███▍      |/mnt/d/UChicago/Q4/ADSP 32052.3M/151M [00:10<00:14,    6.94MB/s]\u001b[A\u001b[A\n",
      "\n",
      " 36%|███▌      |/mnt/d/UChicago/Q4/ADSP 32053.5M/151M [00:10<00:15,    6.49MB/s]\u001b[A\u001b[A\n",
      "\n",
      " 36%|███▋      |/mnt/d/UChicago/Q4/ADSP 32054.9M/151M [00:10<00:12,    7.84MB/s]\u001b[A\u001b[A\n",
      "\n",
      " 37%|███▋      |/mnt/d/UChicago/Q4/ADSP 32055.7M/151M [00:10<00:12,    7.98MB/s]\u001b[A\u001b[A\n",
      "\n",
      " 38%|███▊      |/mnt/d/UChicago/Q4/ADSP 32056.8M/151M [00:10<00:12,    7.97MB/s]\u001b[A\u001b[A\n",
      "\n",
      " 39%|███▊      |/mnt/d/UChicago/Q4/ADSP 32058.3M/151M [00:10<00:11,    8.14MB/s]\u001b[A\u001b[A\n",
      "\n",
      " 39%|███▉      |/mnt/d/UChicago/Q4/ADSP 32059.2M/151M [00:11<00:12,    7.64MB/s]\u001b[A\u001b[A\n",
      "\n",
      " 40%|███▉      |/mnt/d/UChicago/Q4/ADSP 32060.1M/151M [00:11<00:11,    8.12MB/s]\u001b[A\u001b[A\n",
      "\n",
      " 40%|████      |/mnt/d/UChicago/Q4/ADSP 32060.7M/151M [00:11<00:12,    7.40MB/s]\u001b[A\u001b[A\n",
      "\n",
      " 41%|████      |/mnt/d/UChicago/Q4/ADSP 32061.6M/151M [00:11<00:11,    7.82MB/s]\u001b[A\u001b[A\n",
      "\n",
      " 41%|████▏     |/mnt/d/UChicago/Q4/ADSP 32062.5M/151M [00:11<00:11,    8.13MB/s]\u001b[A\u001b[A\n",
      "\n",
      " 42%|████▏     |/mnt/d/UChicago/Q4/ADSP 32063.4M/151M [00:11<00:10,    8.48MB/s]\u001b[A\u001b[A\n",
      "\n",
      " 42%|████▏     |/mnt/d/UChicago/Q4/ADSP 32063.9M/151M [00:11<00:16,    5.49MB/s]\u001b[A\u001b[A\n",
      "\n",
      " 43%|████▎     |/mnt/d/UChicago/Q4/ADSP 32064.9M/151M [00:11<00:13,    6.44MB/s]\u001b[A\u001b[A\n",
      "\n",
      " 44%|████▍     |/mnt/d/UChicago/Q4/ADSP 32066.0M/151M [00:12<00:12,    6.95MB/s]\u001b[A\u001b[A\n",
      "\n",
      " 44%|████▍     |/mnt/d/UChicago/Q4/ADSP 32066.8M/151M [00:12<00:12,    7.10MB/s]\u001b[A\u001b[A\n",
      "\n",
      " 45%|████▍     |/mnt/d/UChicago/Q4/ADSP 32067.8M/151M [00:12<00:13,    6.47MB/s]\u001b[A\u001b[A\n",
      "\n",
      " 46%|████▌     |/mnt/d/UChicago/Q4/ADSP 32068.7M/151M [00:12<00:15,    5.52MB/s]\u001b[A\u001b[A\n",
      "\n",
      " 46%|████▌     |/mnt/d/UChicago/Q4/ADSP 32069.6M/151M [00:12<00:14,    5.72MB/s]\u001b[A\u001b[A\n",
      "\n",
      " 47%|████▋     |/mnt/d/UChicago/Q4/ADSP 32070.5M/151M [00:12<00:12,    6.54MB/s]\u001b[A\u001b[A\n",
      "\n",
      " 48%|████▊     |/mnt/d/UChicago/Q4/ADSP 32071.8M/151M [00:13<00:12,    6.66MB/s]\u001b[A\u001b[A\n",
      "\n",
      " 48%|████▊     |/mnt/d/UChicago/Q4/ADSP 32072.9M/151M [00:13<00:11,    7.20MB/s]\u001b[A\u001b[A\n",
      "\n",
      " 49%|████▉     |/mnt/d/UChicago/Q4/ADSP 32074.1M/151M [00:13<00:11,    6.96MB/s]\u001b[A\u001b[A\n",
      "\n",
      " 50%|█████     |/mnt/d/UChicago/Q4/ADSP 32075.3M/151M [00:13<00:11,    7.07MB/s]\u001b[A\u001b[A\n",
      "\n",
      " 51%|█████     |/mnt/d/UChicago/Q4/ADSP 32077.0M/151M [00:13<00:09,    8.44MB/s]\u001b[A\u001b[A\n",
      "\n",
      " 52%|█████▏    |/mnt/d/UChicago/Q4/ADSP 32078.3M/151M [00:13<00:08,    8.44MB/s]\u001b[A\u001b[A\n",
      "\n",
      " 53%|█████▎    |/mnt/d/UChicago/Q4/ADSP 32079.7M/151M [00:14<00:10,    7.17MB/s]\u001b[A\u001b[A\n",
      "\n",
      " 54%|█████▎    |/mnt/d/UChicago/Q4/ADSP 32080.9M/151M [00:14<00:15,    4.65MB/s]\u001b[A\u001b[A\n",
      "\n",
      " 55%|█████▍    |/mnt/d/UChicago/Q4/ADSP 32082.3M/151M [00:14<00:15,    4.77MB/s]\u001b[A\u001b[A\n",
      "\n",
      " 55%|█████▌    |/mnt/d/UChicago/Q4/ADSP 32083.5M/151M [00:15<00:17,    4.12MB/s]\u001b[A\u001b[A\n",
      "\n",
      " 56%|█████▋    |/mnt/d/UChicago/Q4/ADSP 32084.8M/151M [00:15<00:18,    3.80MB/s]\u001b[A\u001b[A\n",
      "\n",
      " 57%|█████▋    |/mnt/d/UChicago/Q4/ADSP 32086.2M/151M [00:16<00:18,    3.67MB/s]\u001b[A\u001b[A\n",
      "\n",
      " 58%|█████▊    |/mnt/d/UChicago/Q4/ADSP 32087.9M/151M [00:16<00:18,    3.55MB/s]\u001b[A\u001b[A\n",
      "\n",
      " 60%|█████▉    |/mnt/d/UChicago/Q4/ADSP 32089.6M/151M [00:17<00:17,    3.68MB/s]\u001b[A\u001b[A\n",
      "\n",
      " 60%|██████    |/mnt/d/UChicago/Q4/ADSP 32091.1M/151M [00:17<00:17,    3.59MB/s]\u001b[A\u001b[A\n",
      "\n",
      " 62%|██████▏   |/mnt/d/UChicago/Q4/ADSP 32092.7M/151M [00:17<00:15,    3.91MB/s]\u001b[A\u001b[A\n",
      "\n",
      " 62%|██████▏   |/mnt/d/UChicago/Q4/ADSP 32094.1M/151M [00:18<00:14,    4.16MB/s]\u001b[A\u001b[A\n",
      "\n",
      " 63%|██████▎   |/mnt/d/UChicago/Q4/ADSP 32095.6M/151M [00:19<00:17,    3.27MB/s]\u001b[A\u001b[A\n",
      "\n",
      " 66%|██████▌   |/mnt/d/UChicago/Q4/ADSP 32099.0M/151M [00:19<00:10,    5.04MB/s]\u001b[A\u001b[A\n",
      "\n",
      " 66%|██████▋   |/mnt/d/UChicago/Q4/ADSP 3202100M/151M [00:19<00:13,    3.93MB/s]\u001b[A\u001b[A\n",
      "\n",
      " 69%|██████▉   |/mnt/d/UChicago/Q4/ADSP 3202104M/151M [00:20<00:07,    6.37MB/s]\u001b[A\u001b[A\n",
      "\n",
      " 70%|███████   |/mnt/d/UChicago/Q4/ADSP 3202106M/151M [00:20<00:07,    6.16MB/s]\u001b[A\u001b[A\n",
      "\n",
      " 71%|███████▏  |/mnt/d/UChicago/Q4/ADSP 3202108M/151M [00:20<00:06,    6.71MB/s]\u001b[A\u001b[A\n",
      "\n",
      " 72%|███████▏  |/mnt/d/UChicago/Q4/ADSP 3202109M/151M [00:20<00:06,    6.85MB/s]\u001b[A\u001b[A\n",
      "\n",
      " 74%|███████▎  |/mnt/d/UChicago/Q4/ADSP 3202111M/151M [00:21<00:06,    6.85MB/s]\u001b[A\u001b[A\n",
      "\n",
      " 75%|███████▍  |/mnt/d/UChicago/Q4/ADSP 3202112M/151M [00:21<00:06,    6.51MB/s]\u001b[A\u001b[A\n",
      "\n",
      " 76%|███████▌  |/mnt/d/UChicago/Q4/ADSP 3202115M/151M [00:21<00:05,    6.78MB/s]\u001b[A\u001b[A\n",
      "\n",
      " 77%|███████▋  |/mnt/d/UChicago/Q4/ADSP 3202116M/151M [00:21<00:04,    7.61MB/s]\u001b[A\u001b[A\n",
      "\n",
      " 78%|███████▊  |/mnt/d/UChicago/Q4/ADSP 3202118M/151M [00:22<00:05,    6.20MB/s]\u001b[A\u001b[A\n",
      "\n",
      " 80%|████████  |/mnt/d/UChicago/Q4/ADSP 3202121M/151M [00:22<00:04,    7.71MB/s]\u001b[A\u001b[A\n",
      "\n",
      " 82%|████████▏ |/mnt/d/UChicago/Q4/ADSP 3202123M/151M [00:22<00:03,    7.64MB/s]\u001b[A\u001b[A\n",
      "\n",
      " 83%|████████▎ |/mnt/d/UChicago/Q4/ADSP 3202125M/151M [00:23<00:03,    8.06MB/s]\u001b[A\u001b[A\n",
      "\n",
      " 84%|████████▍ |/mnt/d/UChicago/Q4/ADSP 3202126M/151M [00:23<00:03,    7.00MB/s]\u001b[A\u001b[A\n",
      "\n",
      " 85%|████████▌ |/mnt/d/UChicago/Q4/ADSP 3202128M/151M [00:23<00:02,    7.83MB/s]\u001b[A\u001b[A\n",
      "\n",
      " 86%|████████▌ |/mnt/d/UChicago/Q4/ADSP 3202130M/151M [00:23<00:02,    7.40MB/s]\u001b[A\u001b[A\n",
      "\n",
      " 87%|████████▋ |/mnt/d/UChicago/Q4/ADSP 3202132M/151M [00:24<00:02,    7.29MB/s]\u001b[A\u001b[A\n",
      "\n",
      " 89%|████████▉ |/mnt/d/UChicago/Q4/ADSP 3202134M/151M [00:24<00:01,    8.84MB/s]\u001b[A\u001b[A\n",
      "\n",
      " 90%|█████████ |/mnt/d/UChicago/Q4/ADSP 3202136M/151M [00:24<00:02,    7.86MB/s]\u001b[A\u001b[A\n",
      "\n",
      " 91%|█████████▏|/mnt/d/UChicago/Q4/ADSP 3202138M/151M [00:24<00:01,    8.15MB/s]\u001b[A\u001b[A\n",
      "\n",
      " 92%|█████████▏|/mnt/d/UChicago/Q4/ADSP 3202139M/151M [00:24<00:01,    8.31MB/s]\u001b[A\u001b[A\n",
      "\n",
      " 93%|█████████▎|/mnt/d/UChicago/Q4/ADSP 3202141M/151M [00:25<00:01,    7.12MB/s]\u001b[A\u001b[A\n",
      "\n",
      " 94%|█████████▍|/mnt/d/UChicago/Q4/ADSP 3202142M/151M [00:25<00:01,    7.25MB/s]\u001b[A\u001b[A\n",
      "\n",
      " 95%|█████████▌|/mnt/d/UChicago/Q4/ADSP 3202144M/151M [00:25<00:00,    7.40MB/s]\u001b[A\u001b[A\n",
      "\n",
      " 97%|█████████▋|/mnt/d/UChicago/Q4/ADSP 3202146M/151M [00:25<00:00,    7.25MB/s]\u001b[A\u001b[A\n",
      "\n",
      " 98%|█████████▊|/mnt/d/UChicago/Q4/ADSP 3202147M/151M [00:26<00:00,    7.05MB/s]\u001b[A\u001b[A\n",
      "\n",
      " 99%|█████████▊|/mnt/d/UChicago/Q4/ADSP 3202149M/151M [00:26<00:00,    6.80MB/s]\u001b[A\u001b[A\n",
      "\n",
      "100%|█████████▉|/mnt/d/UChicago/Q4/ADSP 3202150M/151M [00:26<00:00,    6.90MB/s]\u001b[A\u001b[A\n",
      "100%|██████████|Pushing to gdrive                 1/1 [00:28<00:00, 28.03s/file]\u001b[A\n",
      "\n",
      "                                                                                \u001b[A\u001b[A\n",
      "1 file pushed                                                                   \u001b[A\n",
      "\u001b[0m"
     ]
    }
   ],
   "source": [
    "# upload version 1 of the full data\n",
    "!dvc add data/full_data.json\n",
    "!git add data/.gitignore data/full_data.json.dvc\n",
    "\n",
    "# push the v1 of the full data\n",
    "!git commit -m \"full data v1: *_consec.json\"\n",
    "!cat data/full_data.json.dvc\n",
    "!dvc push"
   ]
  },
  {
   "cell_type": "markdown",
   "id": "9f8122a3-651f-4468-bdfd-15231de4e21b",
   "metadata": {
    "id": "9f8122a3-651f-4468-bdfd-15231de4e21b"
   },
   "source": [
    "# Full Data V2\n",
    "Contains all ```*.json```"
   ]
  },
  {
   "cell_type": "code",
   "execution_count": null,
   "id": "c7058557-513c-4ed0-8816-44e4d57d3675",
   "metadata": {
    "id": "c7058557-513c-4ed0-8816-44e4d57d3675",
    "outputId": "7a0d1290-9c1f-4e78-9573-7e6b51ccb27d",
    "scrolled": true
   },
   "outputs": [
    {
     "name": "stdout",
     "output_type": "stream",
     "text": [
      "Updated 1 path from e777d45\n",
      "Building workspace index                              |5.00 [00:00,  138entry/s]\n",
      "Comparing indexes                                    |6.00 [00:00, 2.65kentry/s]\n",
      "Applying changes                                      |0.00 [00:00,     ?file/s]\n",
      "!\u001b[A\n",
      "  0%|          |/mnt/d/UChicago/Q4/ADSP 32021 Machi0.00/? [00:00<?,        ?B/s]\u001b[A\n",
      "  0%|          |/mnt/d/UChicago/Q4/ADSP 32021 Ma0.00/279M [00:00<?,        ?B/s]\u001b[A\n",
      " 11%|█▏        |/mnt/d/UChicago/Q4/ADSP 32032.0M/279M [00:00<00:00,     335MB/s]\u001b[A\n",
      " 24%|██▍       |/mnt/d/UChicago/Q4/ADSP 32068.0M/279M [00:00<00:00,     359MB/s]\u001b[A\n",
      " 38%|███▊      |/mnt/d/UChicago/Q4/ADSP 3202107M/279M [00:00<00:00,     380MB/s]\u001b[A\n",
      " 51%|█████     |/mnt/d/UChicago/Q4/ADSP 3202141M/279M [00:00<00:00,     367MB/s]\u001b[A\n",
      " 63%|██████▎   |/mnt/d/UChicago/Q4/ADSP 3202176M/279M [00:00<00:00,     367MB/s]\u001b[A\n",
      " 76%|███████▌  |/mnt/d/UChicago/Q4/ADSP 3202211M/279M [00:00<00:00,     365MB/s]\u001b[A\n",
      " 86%|████████▋ |/mnt/d/UChicago/Q4/ADSP 3202241M/279M [00:00<00:00,     347MB/s]\u001b[A\n",
      " 93%|█████████▎|/mnt/d/UChicago/Q4/ADSP 3202261M/279M [00:00<00:00,     301MB/s]\u001b[A\n",
      "Applying changes                                      |1.00 [00:00,  1.07file/s]\u001b[A\n",
      "\u001b[33mM\u001b[0m       data/validation_data.json\n",
      "\u001b[33mM\u001b[0m       data/full_data.json\n",
      "\u001b[33mM\u001b[0m       data/test_data.json\n",
      "\u001b[33mM\u001b[0m       data/training_data.json\n",
      "\u001b[0mUpdated 1 path from c84db3e\n",
      "Building workspace index                              |5.00 [00:00,  151entry/s]\n",
      "Comparing indexes                                    |6.00 [00:00, 3.02kentry/s]\n",
      "Applying changes                                      |0.00 [00:00,     ?file/s]\n",
      "!\u001b[A\n",
      "  0%|          |/mnt/d/UChicago/Q4/ADSP 32021 Machi0.00/? [00:00<?,        ?B/s]\u001b[A\n",
      "  0%|          |/mnt/d/UChicago/Q4/ADSP 32021 M0.00/41.5M [00:00<?,        ?B/s]\u001b[A\n",
      " 80%|███████▉  |/mnt/d/UChicago/Q4/ADSP 3233.0M/41.5M [00:00<00:00,     340MB/s]\u001b[A\n",
      "Applying changes                                      |1.00 [00:00,  6.06file/s]\u001b[A\n",
      "\u001b[33mM\u001b[0m       data/validation_data.json\n",
      "\u001b[33mM\u001b[0m       data/full_data.json\n",
      "\u001b[33mM\u001b[0m       data/training_data.json\n",
      "\u001b[33mM\u001b[0m       data/test_data.json\n",
      "\u001b[0mUpdated 1 path from c643473\n",
      "Building workspace index                              |5.00 [00:00,  112entry/s]\n",
      "Comparing indexes                                    |6.00 [00:00, 2.01kentry/s]\n",
      "Applying changes                                      |0.00 [00:00,     ?file/s]\n",
      "!\u001b[A\n",
      "  0%|          |/mnt/d/UChicago/Q4/ADSP 32021 Machi0.00/? [00:00<?,        ?B/s]\u001b[A\n",
      "  0%|          |/mnt/d/UChicago/Q4/ADSP 32021 M0.00/34.7M [00:00<?,        ?B/s]\u001b[A\n",
      " 63%|██████▎   |/mnt/d/UChicago/Q4/ADSP 3222.0M/34.7M [00:00<00:00,     228MB/s]\u001b[A\n",
      "Applying changes                                      |1.00 [00:00,  5.41file/s]\u001b[A\n",
      "\u001b[33mM\u001b[0m       data/training_data.json\n",
      "\u001b[33mM\u001b[0m       data/validation_data.json\n",
      "\u001b[33mM\u001b[0m       data/test_data.json\n",
      "\u001b[33mM\u001b[0m       data/full_data.json\n",
      "\u001b[0m"
     ]
    }
   ],
   "source": [
    "# checkout v1\n",
    "!git checkout 9c7cf0e data/training_data.json.dvc\n",
    "!dvc checkout\n",
    "!git checkout bb55d3c data/validation_data.json.dvc\n",
    "!dvc checkout\n",
    "!git checkout 7a85b8c data/test_data.json.dvc\n",
    "!dvc checkout"
   ]
  },
  {
   "cell_type": "code",
   "execution_count": null,
   "id": "dfe3872f-a1ee-44ad-b445-d395b4de782c",
   "metadata": {
    "id": "dfe3872f-a1ee-44ad-b445-d395b4de782c",
    "outputId": "0030d656-932c-4e8f-c750-9a3c22cdeb22"
   },
   "outputs": [
    {
     "name": "stdout",
     "output_type": "stream",
     "text": [
      "60097\n"
     ]
    }
   ],
   "source": [
    "full_data = json.loads(Path(\"data/training_data.json\").read_text()) + json.loads(Path(\"data/validation_data.json\").read_text()) +\\\n",
    "json.loads(Path(\"data/test_data.json\").read_text())\n",
    "\n",
    "pprint(len(full_data))"
   ]
  },
  {
   "cell_type": "markdown",
   "id": "cfc18ccd-206f-460d-8965-ba95f894031d",
   "metadata": {
    "id": "cfc18ccd-206f-460d-8965-ba95f894031d"
   },
   "source": [
    "### Save and Push Full Data V2"
   ]
  },
  {
   "cell_type": "code",
   "execution_count": null,
   "id": "74e0c335-bd09-46c3-860d-e27511615dc8",
   "metadata": {
    "id": "74e0c335-bd09-46c3-860d-e27511615dc8"
   },
   "outputs": [],
   "source": [
    "with open('data/full_data.json', 'w') as f:\n",
    "    json.dump(full_data, f)"
   ]
  },
  {
   "cell_type": "code",
   "execution_count": null,
   "id": "c1fb6542-2f03-48c9-b6b8-bf0e80e65be9",
   "metadata": {
    "id": "c1fb6542-2f03-48c9-b6b8-bf0e80e65be9",
    "outputId": "ee22bbd5-cb25-4df7-9d5e-e676a232ace1",
    "scrolled": true
   },
   "outputs": [
    {
     "name": "stdout",
     "output_type": "stream",
     "text": [
      "\u001b[?25l\u001b[32m⠋\u001b[0m Checking graph                                       core\u001b[39m>\n",
      "Adding...                                                                       \n",
      "!\u001b[A\n",
      "Collecting files and computing hashes in data/full_data.json |0.00 [00:00,     ?\u001b[A\n",
      "                                                                                \u001b[A\n",
      "!\u001b[A\n",
      "  0% Checking cache in '/mnt/d/UChicago/Q4/ADSP 32021 Machine Learning Operation\u001b[A\n",
      "                                                                                \u001b[A\n",
      "!\u001b[A\n",
      "  0%|          |Adding data/full_data.json to cache   0/? [00:00<?,     ?file/s]\u001b[A\n",
      "  0%|          |Adding data/full_data.json to cache   0/1 [00:00<?,     ?file/s]\u001b[A\n",
      "  0%|          |Adding data/full_data.json to cache   0/1 [00:00<?,     ?file/s]\u001b[A\n",
      "                                                                                \u001b[A\n",
      "!\u001b[A\n",
      "  0%|          |Checking out /mnt/d/UChicago/Q4/ADSP 30/? [00:00<?,    ?files/s]\u001b[A\n",
      "  0%|          |Checking out /mnt/d/UChicago/Q4/ADSP 30/1 [00:00<?,    ?files/s]\u001b[A\n",
      "100%|██████████|Checking out /mnt/d/UChicago/Q4/A1/1 [00:00<00:00,  1.01files/s]\u001b[A\n",
      "100% Adding...|████████████████████████████████████████|1/1 [00:02,  2.24s/file]\u001b[A\n",
      "\n",
      "To track the changes with git, run:\n",
      "\n",
      "\tgit add data/full_data.json.dvc\n",
      "\n",
      "To enable auto staging, run:\n",
      "\n",
      "\tdvc config core.autostage true\n",
      "\u001b[0m[master 059a4ce] full data v2: *.json\n",
      " 4 files changed, 8 insertions(+), 8 deletions(-)\n",
      "outs:\n",
      "- md5: 40da0bcc0ed5875144ed8b065b28aaee\n",
      "  size: 372610195\n",
      "  isexec: true\n",
      "  hash: md5\n",
      "  path: full_data.json\n",
      "Pushing                                               |0.00 [00:00,     ?file/s]\n",
      "!\u001b[A\n",
      "  0% Checking cache in '1wa6Ax2ro0D7EtdOYmmg0O7PmT8sfFGTN/files/md5'| |0/? [00:0\u001b[A\n",
      "  0% Querying cache in '1wa6Ax2ro0D7EtdOYmmg0O7PmT8sfFGTN/files/md5'| |1/256 [00\u001b[A\n",
      "                                                                                \u001b[A\n",
      "!\u001b[A\n",
      "  0% Checking cache in '/mnt/d/UChicago/Q4/ADSP 32021 Machine Learning Operation\u001b[A\n",
      "                                                                                \u001b[A\n",
      "!\u001b[A\n",
      "  0%|          |Pushing to gdrive                     0/? [00:00<?,     ?file/s]\u001b[A\n",
      "  0%|          |Pushing to gdrive                     0/1 [00:00<?,     ?file/s]\u001b[A\n",
      "  0%|          |Pushing to gdrive                     0/1 [00:00<?,     ?file/s]\u001b[A\n",
      "  0%|          |Pushing to gdrive                     0/1 [00:00<?,     ?file/s]\u001b[A\n",
      "\n",
      "!\u001b[A\u001b[A\n",
      "\n",
      "  0%|          |/mnt/d/UChicago/Q4/ADSP 32021 Machi0.00/? [00:00<?,        ?B/s]\u001b[A\u001b[A\n",
      "\n",
      "  0%|          |/mnt/d/UChicago/Q4/ADSP 32021 Ma0.00/355M [00:00<?,        ?B/s]\u001b[A\u001b[A\n",
      "\n",
      "  0%|          |/mnt/d/UChicago/Q4/ADSP 8.00k/355M [00:01<16:15:03,    6.37kB/s]\u001b[A\u001b[A\n",
      "\n",
      "  0%|          |/mnt/d/UChicago/Q4/ADSP 3202784k/355M [00:01<07:44,     800kB/s]\u001b[A\u001b[A\n",
      "\n",
      "  0%|          |/mnt/d/UChicago/Q4/ADSP 3201.56M/355M [00:01<03:36,    1.71MB/s]\u001b[A\u001b[A\n",
      "\n",
      "  1%|          |/mnt/d/UChicago/Q4/ADSP 3202.21M/355M [00:01<02:31,    2.44MB/s]\u001b[A\u001b[A\n",
      "\n",
      "  1%|          |/mnt/d/UChicago/Q4/ADSP 3203.20M/355M [00:01<01:40,    3.66MB/s]\u001b[A\u001b[A\n",
      "\n",
      "  1%|▏         |/mnt/d/UChicago/Q4/ADSP 3204.55M/355M [00:01<01:04,    5.67MB/s]\u001b[A\u001b[A\n",
      "\n",
      "  1%|▏         |/mnt/d/UChicago/Q4/ADSP 3204.87M/355M [00:01<01:11,    5.17MB/s]\u001b[A\u001b[A\n",
      "\n",
      "  2%|▏         |/mnt/d/UChicago/Q4/ADSP 3205.84M/355M [00:02<01:00,    6.02MB/s]\u001b[A\u001b[A\n",
      "\n",
      "  2%|▏         |/mnt/d/UChicago/Q4/ADSP 3206.84M/355M [00:02<00:56,    6.48MB/s]\u001b[A\u001b[A\n",
      "\n",
      "  2%|▏         |/mnt/d/UChicago/Q4/ADSP 3208.07M/355M [00:02<00:51,    7.14MB/s]\u001b[A\u001b[A\n",
      "\n",
      "  3%|▎         |/mnt/d/UChicago/Q4/ADSP 3209.42M/355M [00:02<00:43,    8.25MB/s]\u001b[A\u001b[A\n",
      "\n",
      "  3%|▎         |/mnt/d/UChicago/Q4/ADSP 32011.1M/355M [00:02<00:43,    8.36MB/s]\u001b[A\u001b[A\n",
      "\n",
      "  3%|▎         |/mnt/d/UChicago/Q4/ADSP 32012.1M/355M [00:02<00:44,    8.08MB/s]\u001b[A\u001b[A\n",
      "\n",
      "  4%|▎         |/mnt/d/UChicago/Q4/ADSP 32012.8M/355M [00:02<00:47,    7.56MB/s]\u001b[A\u001b[A\n",
      "\n",
      "  4%|▍         |/mnt/d/UChicago/Q4/ADSP 32013.9M/355M [00:03<00:42,    8.33MB/s]\u001b[A\u001b[A\n",
      "\n",
      "  4%|▍         |/mnt/d/UChicago/Q4/ADSP 32014.8M/355M [00:03<00:46,    7.72MB/s]\u001b[A\u001b[A\n",
      "\n",
      "  5%|▍         |/mnt/d/UChicago/Q4/ADSP 32016.3M/355M [00:03<00:39,    9.03MB/s]\u001b[A\u001b[A\n",
      "\n",
      "  5%|▍         |/mnt/d/UChicago/Q4/ADSP 32017.2M/355M [00:03<00:43,    8.11MB/s]\u001b[A\u001b[A\n",
      "\n",
      "  5%|▌         |/mnt/d/UChicago/Q4/ADSP 32018.3M/355M [00:03<00:48,    7.29MB/s]\u001b[A\u001b[A\n",
      "\n",
      "  6%|▌         |/mnt/d/UChicago/Q4/ADSP 32020.6M/355M [00:03<00:34,    10.0MB/s]\u001b[A\u001b[A\n",
      "\n",
      "  6%|▌         |/mnt/d/UChicago/Q4/ADSP 32021.7M/355M [00:04<00:46,    7.47MB/s]\u001b[A\u001b[A\n",
      "\n",
      "  7%|▋         |/mnt/d/UChicago/Q4/ADSP 32024.1M/355M [00:04<00:47,    7.29MB/s]\u001b[A\u001b[A\n",
      "\n",
      "  7%|▋         |/mnt/d/UChicago/Q4/ADSP 32025.8M/355M [00:04<00:39,    8.76MB/s]\u001b[A\u001b[A\n",
      "\n",
      "  8%|▊         |/mnt/d/UChicago/Q4/ADSP 32027.4M/355M [00:04<00:45,    7.56MB/s]\u001b[A\u001b[A\n",
      "\n",
      "  8%|▊         |/mnt/d/UChicago/Q4/ADSP 32029.1M/355M [00:05<00:47,    7.25MB/s]\u001b[A\u001b[A\n",
      "\n",
      "  9%|▊         |/mnt/d/UChicago/Q4/ADSP 32030.4M/355M [00:05<00:49,    6.89MB/s]\u001b[A\u001b[A\n",
      "\n",
      "  9%|▉         |/mnt/d/UChicago/Q4/ADSP 32032.5M/355M [00:05<00:43,    7.78MB/s]\u001b[A\u001b[A\n",
      "\n",
      " 10%|▉         |/mnt/d/UChicago/Q4/ADSP 32034.5M/355M [00:05<00:42,    7.98MB/s]\u001b[A\u001b[A\n",
      "\n",
      " 10%|█         |/mnt/d/UChicago/Q4/ADSP 32036.1M/355M [00:06<00:44,    7.53MB/s]\u001b[A\u001b[A\n",
      "\n",
      " 11%|█         |/mnt/d/UChicago/Q4/ADSP 32037.7M/355M [00:06<00:41,    7.93MB/s]\u001b[A\u001b[A\n",
      "\n",
      " 11%|█         |/mnt/d/UChicago/Q4/ADSP 32039.7M/355M [00:06<00:51,    6.42MB/s]\u001b[A\u001b[A\n",
      "\n",
      " 12%|█▏        |/mnt/d/UChicago/Q4/ADSP 32041.1M/355M [00:06<00:49,    6.67MB/s]\u001b[A\u001b[A\n",
      "\n",
      " 12%|█▏        |/mnt/d/UChicago/Q4/ADSP 32043.5M/355M [00:07<00:44,    7.35MB/s]\u001b[A\u001b[A\n",
      "\n",
      " 13%|█▎        |/mnt/d/UChicago/Q4/ADSP 32045.5M/355M [00:07<00:48,    6.72MB/s]\u001b[A\u001b[A\n",
      "\n",
      " 14%|█▎        |/mnt/d/UChicago/Q4/ADSP 32048.2M/355M [00:07<00:38,    8.31MB/s]\u001b[A\u001b[A\n",
      "\n",
      " 14%|█▍        |/mnt/d/UChicago/Q4/ADSP 32049.8M/355M [00:08<00:42,    7.59MB/s]\u001b[A\u001b[A\n",
      "\n",
      " 14%|█▍        |/mnt/d/UChicago/Q4/ADSP 32051.3M/355M [00:08<00:40,    7.79MB/s]\u001b[A\u001b[A\n",
      "\n",
      " 15%|█▍        |/mnt/d/UChicago/Q4/ADSP 32053.3M/355M [00:08<00:37,    8.50MB/s]\u001b[A\u001b[A\n",
      "\n",
      " 16%|█▌        |/mnt/d/UChicago/Q4/ADSP 32055.4M/355M [00:08<00:35,    8.75MB/s]\u001b[A\u001b[A\n",
      "\n",
      " 16%|█▌        |/mnt/d/UChicago/Q4/ADSP 32057.0M/355M [00:08<00:34,    9.05MB/s]\u001b[A\u001b[A\n",
      "\n",
      " 16%|█▋        |/mnt/d/UChicago/Q4/ADSP 32058.3M/355M [00:09<00:36,    8.59MB/s]\u001b[A\u001b[A\n",
      "\n",
      " 17%|█▋        |/mnt/d/UChicago/Q4/ADSP 32059.9M/355M [00:09<00:37,    8.22MB/s]\u001b[A\u001b[A\n",
      "\n",
      " 17%|█▋        |/mnt/d/UChicago/Q4/ADSP 32061.7M/355M [00:09<00:45,    6.84MB/s]\u001b[A\u001b[A\n",
      "\n",
      " 18%|█▊        |/mnt/d/UChicago/Q4/ADSP 32065.0M/355M [00:09<00:36,    8.34MB/s]\u001b[A\u001b[A\n",
      "\n",
      " 19%|█▊        |/mnt/d/UChicago/Q4/ADSP 32066.3M/355M [00:10<00:34,    8.72MB/s]\u001b[A\u001b[A\n",
      "\n",
      " 19%|█▉        |/mnt/d/UChicago/Q4/ADSP 32068.3M/355M [00:10<00:28,    10.6MB/s]\u001b[A\u001b[A\n",
      "\n",
      " 19%|█▉        |/mnt/d/UChicago/Q4/ADSP 32069.1M/355M [00:10<00:34,    8.76MB/s]\u001b[A\u001b[A\n",
      "\n",
      " 20%|█▉        |/mnt/d/UChicago/Q4/ADSP 32070.8M/355M [00:10<00:40,    7.41MB/s]\u001b[A\u001b[A\n",
      "\n",
      " 20%|██        |/mnt/d/UChicago/Q4/ADSP 32072.1M/355M [00:10<00:37,    7.99MB/s]\u001b[A\u001b[A\n",
      "\n",
      " 21%|██        |/mnt/d/UChicago/Q4/ADSP 32074.5M/355M [00:11<00:31,    9.33MB/s]\u001b[A\u001b[A\n",
      "\n",
      " 21%|██▏       |/mnt/d/UChicago/Q4/ADSP 32076.0M/355M [00:11<00:30,    9.74MB/s]\u001b[A\u001b[A\n",
      "\n",
      " 22%|██▏       |/mnt/d/UChicago/Q4/ADSP 32077.3M/355M [00:11<00:32,    9.03MB/s]\u001b[A\u001b[A\n",
      "\n",
      " 22%|██▏       |/mnt/d/UChicago/Q4/ADSP 32078.8M/355M [00:11<00:34,    8.48MB/s]\u001b[A\u001b[A\n",
      "\n",
      " 23%|██▎       |/mnt/d/UChicago/Q4/ADSP 32080.6M/355M [00:11<00:33,    8.55MB/s]\u001b[A\u001b[A\n",
      "\n",
      " 23%|██▎       |/mnt/d/UChicago/Q4/ADSP 32082.5M/355M [00:12<00:36,    7.90MB/s]\u001b[A\u001b[A\n",
      "\n",
      " 24%|██▎       |/mnt/d/UChicago/Q4/ADSP 32083.9M/355M [00:12<00:45,    6.28MB/s]\u001b[A\u001b[A\n",
      "\n",
      " 25%|██▍       |/mnt/d/UChicago/Q4/ADSP 32088.0M/355M [00:12<00:30,    9.18MB/s]\u001b[A\u001b[A\n",
      "\n",
      " 25%|██▌       |/mnt/d/UChicago/Q4/ADSP 32089.6M/355M [00:12<00:32,    8.62MB/s]\u001b[A\u001b[A\n",
      "\n",
      " 26%|██▌       |/mnt/d/UChicago/Q4/ADSP 32091.3M/355M [00:13<00:34,    8.11MB/s]\u001b[A\u001b[A\n",
      "\n",
      " 26%|██▋       |/mnt/d/UChicago/Q4/ADSP 32093.3M/355M [00:13<00:32,    8.34MB/s]\u001b[A\u001b[A\n",
      "\n",
      " 27%|██▋       |/mnt/d/UChicago/Q4/ADSP 32094.9M/355M [00:13<00:31,    8.66MB/s]\u001b[A\u001b[A\n",
      "\n",
      " 27%|██▋       |/mnt/d/UChicago/Q4/ADSP 32096.3M/355M [00:13<00:34,    7.87MB/s]\u001b[A\u001b[A\n",
      "\n",
      " 27%|██▋       |/mnt/d/UChicago/Q4/ADSP 32097.6M/355M [00:14<00:38,    6.96MB/s]\u001b[A\u001b[A\n",
      "\n",
      " 28%|██▊       |/mnt/d/UChicago/Q4/ADSP 32099.0M/355M [00:14<00:40,    6.56MB/s]\u001b[A\u001b[A\n",
      "\n",
      " 28%|██▊       |/mnt/d/UChicago/Q4/ADSP 3202100M/355M [00:14<00:59,    4.51MB/s]\u001b[A\u001b[A\n",
      "\n",
      " 29%|██▉       |/mnt/d/UChicago/Q4/ADSP 3202104M/355M [00:15<00:33,    7.80MB/s]\u001b[A\u001b[A\n",
      "\n",
      " 30%|██▉       |/mnt/d/UChicago/Q4/ADSP 3202105M/355M [00:15<00:36,    7.24MB/s]\u001b[A\u001b[A\n",
      "\n",
      " 30%|██▉       |/mnt/d/UChicago/Q4/ADSP 3202106M/355M [00:15<00:39,    6.65MB/s]\u001b[A\u001b[A\n",
      "\n",
      " 30%|███       |/mnt/d/UChicago/Q4/ADSP 3202108M/355M [00:15<00:33,    7.82MB/s]\u001b[A\u001b[A\n",
      "\n",
      " 31%|███       |/mnt/d/UChicago/Q4/ADSP 3202109M/355M [00:15<00:37,    6.91MB/s]\u001b[A\u001b[A\n",
      "\n",
      " 31%|███▏      |/mnt/d/UChicago/Q4/ADSP 3202111M/355M [00:16<00:42,    6.00MB/s]\u001b[A\u001b[A\n",
      "\n",
      " 32%|███▏      |/mnt/d/UChicago/Q4/ADSP 3202114M/355M [00:16<00:34,    7.42MB/s]\u001b[A\u001b[A\n",
      "\n",
      " 32%|███▏      |/mnt/d/UChicago/Q4/ADSP 3202115M/355M [00:16<00:32,    7.86MB/s]\u001b[A\u001b[A\n",
      "\n",
      " 33%|███▎      |/mnt/d/UChicago/Q4/ADSP 3202117M/355M [00:17<00:36,    6.86MB/s]\u001b[A\u001b[A\n",
      "\n",
      " 33%|███▎      |/mnt/d/UChicago/Q4/ADSP 3202118M/355M [00:17<00:34,    7.16MB/s]\u001b[A\u001b[A\n",
      "\n",
      " 34%|███▎      |/mnt/d/UChicago/Q4/ADSP 3202119M/355M [00:17<00:33,    7.39MB/s]\u001b[A\u001b[A\n",
      "\n",
      " 34%|███▍      |/mnt/d/UChicago/Q4/ADSP 3202121M/355M [00:17<00:34,    7.22MB/s]\u001b[A\u001b[A\n",
      "\n",
      " 35%|███▍      |/mnt/d/UChicago/Q4/ADSP 3202123M/355M [00:17<00:30,    8.07MB/s]\u001b[A\u001b[A\n",
      "\n",
      " 35%|███▍      |/mnt/d/UChicago/Q4/ADSP 3202124M/355M [00:18<00:41,    5.81MB/s]\u001b[A\u001b[A\n",
      "\n",
      " 35%|███▌      |/mnt/d/UChicago/Q4/ADSP 3202126M/355M [00:18<00:41,    5.84MB/s]\u001b[A\u001b[A\n",
      "\n",
      " 36%|███▌      |/mnt/d/UChicago/Q4/ADSP 3202128M/355M [00:18<00:30,    7.89MB/s]\u001b[A\u001b[A\n",
      "\n",
      " 36%|███▋      |/mnt/d/UChicago/Q4/ADSP 3202129M/355M [00:18<00:29,    8.08MB/s]\u001b[A\u001b[A\n",
      "\n",
      " 37%|███▋      |/mnt/d/UChicago/Q4/ADSP 3202131M/355M [00:19<00:38,    6.19MB/s]\u001b[A\u001b[A\n",
      "\n",
      " 37%|███▋      |/mnt/d/UChicago/Q4/ADSP 3202132M/355M [00:19<00:34,    6.85MB/s]\u001b[A\u001b[A\n",
      "\n",
      " 37%|███▋      |/mnt/d/UChicago/Q4/ADSP 3202133M/355M [00:19<00:32,    7.23MB/s]\u001b[A\u001b[A\n",
      "\n",
      " 38%|███▊      |/mnt/d/UChicago/Q4/ADSP 3202135M/355M [00:19<00:30,    7.46MB/s]\u001b[A\u001b[A\n",
      "\n",
      " 39%|███▊      |/mnt/d/UChicago/Q4/ADSP 3202137M/355M [00:20<00:38,    5.86MB/s]\u001b[A\u001b[A\n",
      "\n",
      " 39%|███▉      |/mnt/d/UChicago/Q4/ADSP 3202139M/355M [00:20<00:34,    6.64MB/s]\u001b[A\u001b[A\n",
      "\n",
      " 39%|███▉      |/mnt/d/UChicago/Q4/ADSP 3202140M/355M [00:20<00:32,    7.06MB/s]\u001b[A\u001b[A\n",
      "\n",
      " 40%|███▉      |/mnt/d/UChicago/Q4/ADSP 3202142M/355M [00:20<00:24,    9.03MB/s]\u001b[A\u001b[A\n",
      "\n",
      " 40%|████      |/mnt/d/UChicago/Q4/ADSP 3202143M/355M [00:21<00:34,    6.54MB/s]\u001b[A\u001b[A\n",
      "\n",
      " 41%|████      |/mnt/d/UChicago/Q4/ADSP 3202144M/355M [00:21<00:35,    6.22MB/s]\u001b[A\u001b[A\n",
      "\n",
      " 41%|████      |/mnt/d/UChicago/Q4/ADSP 3202145M/355M [00:21<00:30,    7.27MB/s]\u001b[A\u001b[A\n",
      "\n",
      " 41%|████▏     |/mnt/d/UChicago/Q4/ADSP 3202147M/355M [00:21<00:29,    7.40MB/s]\u001b[A\u001b[A\n",
      "\n",
      " 42%|████▏     |/mnt/d/UChicago/Q4/ADSP 3202148M/355M [00:21<00:23,    9.08MB/s]\u001b[A\u001b[A\n",
      "\n",
      " 42%|████▏     |/mnt/d/UChicago/Q4/ADSP 3202150M/355M [00:21<00:29,    7.42MB/s]\u001b[A\u001b[A\n",
      "\n",
      " 43%|████▎     |/mnt/d/UChicago/Q4/ADSP 3202152M/355M [00:22<00:35,    6.03MB/s]\u001b[A\u001b[A\n",
      "\n",
      " 43%|████▎     |/mnt/d/UChicago/Q4/ADSP 3202154M/355M [00:22<00:28,    7.32MB/s]\u001b[A\u001b[A\n",
      "\n",
      " 44%|████▍     |/mnt/d/UChicago/Q4/ADSP 3202156M/355M [00:22<00:23,    8.99MB/s]\u001b[A\u001b[A\n",
      "\n",
      " 44%|████▍     |/mnt/d/UChicago/Q4/ADSP 3202158M/355M [00:22<00:26,    7.78MB/s]\u001b[A\u001b[A\n",
      "\n",
      " 45%|████▍     |/mnt/d/UChicago/Q4/ADSP 3202159M/355M [00:23<00:28,    7.23MB/s]\u001b[A\u001b[A\n",
      "\n",
      " 45%|████▌     |/mnt/d/UChicago/Q4/ADSP 3202161M/355M [00:23<00:28,    7.16MB/s]\u001b[A\u001b[A\n",
      "\n",
      " 46%|████▌     |/mnt/d/UChicago/Q4/ADSP 3202162M/355M [00:23<00:27,    7.43MB/s]\u001b[A\u001b[A\n",
      "\n",
      " 46%|████▌     |/mnt/d/UChicago/Q4/ADSP 3202164M/355M [00:24<00:34,    5.87MB/s]\u001b[A\u001b[A\n",
      "\n",
      " 47%|████▋     |/mnt/d/UChicago/Q4/ADSP 3202166M/355M [00:24<00:28,    6.86MB/s]\u001b[A\u001b[A\n",
      "\n",
      " 47%|████▋     |/mnt/d/UChicago/Q4/ADSP 3202167M/355M [00:24<00:30,    6.55MB/s]\u001b[A\u001b[A\n",
      "\n",
      " 48%|████▊     |/mnt/d/UChicago/Q4/ADSP 3202169M/355M [00:24<00:29,    6.51MB/s]\u001b[A\u001b[A\n",
      "\n",
      " 48%|████▊     |/mnt/d/UChicago/Q4/ADSP 3202171M/355M [00:25<00:24,    7.80MB/s]\u001b[A\u001b[A\n",
      "\n",
      " 49%|████▊     |/mnt/d/UChicago/Q4/ADSP 3202173M/355M [00:25<00:24,    7.88MB/s]\u001b[A\u001b[A\n",
      "\n",
      " 49%|████▉     |/mnt/d/UChicago/Q4/ADSP 3202174M/355M [00:25<00:23,    7.98MB/s]\u001b[A\u001b[A\n",
      "\n",
      " 49%|████▉     |/mnt/d/UChicago/Q4/ADSP 3202175M/355M [00:25<00:23,    8.09MB/s]\u001b[A\u001b[A\n",
      "\n",
      " 50%|████▉     |/mnt/d/UChicago/Q4/ADSP 3202177M/355M [00:25<00:25,    7.33MB/s]\u001b[A\u001b[A\n",
      "\n",
      " 50%|█████     |/mnt/d/UChicago/Q4/ADSP 3202178M/355M [00:26<00:27,    6.88MB/s]\u001b[A\u001b[A\n",
      "\n",
      " 51%|█████     |/mnt/d/UChicago/Q4/ADSP 3202180M/355M [00:26<00:28,    6.44MB/s]\u001b[A\u001b[A\n",
      "\n",
      " 51%|█████     |/mnt/d/UChicago/Q4/ADSP 3202181M/355M [00:26<00:26,    6.89MB/s]\u001b[A\u001b[A\n",
      "\n",
      " 51%|█████▏    |/mnt/d/UChicago/Q4/ADSP 3202183M/355M [00:26<00:22,    8.16MB/s]\u001b[A\u001b[A\n",
      "\n",
      " 52%|█████▏    |/mnt/d/UChicago/Q4/ADSP 3202184M/355M [00:26<00:22,    7.99MB/s]\u001b[A\u001b[A\n",
      "\n",
      " 52%|█████▏    |/mnt/d/UChicago/Q4/ADSP 3202186M/355M [00:27<00:20,    8.50MB/s]\u001b[A\u001b[A\n",
      "\n",
      " 53%|█████▎    |/mnt/d/UChicago/Q4/ADSP 3202187M/355M [00:27<00:23,    7.38MB/s]\u001b[A\u001b[A\n",
      "\n",
      " 53%|█████▎    |/mnt/d/UChicago/Q4/ADSP 3202188M/355M [00:27<00:21,    8.23MB/s]\u001b[A\u001b[A\n",
      "\n",
      " 53%|█████▎    |/mnt/d/UChicago/Q4/ADSP 3202190M/355M [00:27<00:23,    7.29MB/s]\u001b[A\u001b[A\n",
      "\n",
      " 54%|█████▍    |/mnt/d/UChicago/Q4/ADSP 3202191M/355M [00:27<00:22,    7.65MB/s]\u001b[A\u001b[A\n",
      "\n",
      " 54%|█████▍    |/mnt/d/UChicago/Q4/ADSP 3202193M/355M [00:28<00:28,    5.97MB/s]\u001b[A\u001b[A\n",
      "\n",
      " 55%|█████▍    |/mnt/d/UChicago/Q4/ADSP 3202194M/355M [00:28<00:25,    6.57MB/s]\u001b[A\u001b[A\n",
      "\n",
      " 55%|█████▌    |/mnt/d/UChicago/Q4/ADSP 3202196M/355M [00:28<00:24,    6.92MB/s]\u001b[A\u001b[A\n",
      "\n",
      " 56%|█████▌    |/mnt/d/UChicago/Q4/ADSP 3202198M/355M [00:28<00:18,    9.02MB/s]\u001b[A\u001b[A\n",
      "\n",
      " 56%|█████▌    |/mnt/d/UChicago/Q4/ADSP 3202200M/355M [00:29<00:21,    7.47MB/s]\u001b[A\u001b[A\n",
      "\n",
      " 56%|█████▋    |/mnt/d/UChicago/Q4/ADSP 3202200M/355M [00:29<00:30,    5.27MB/s]\u001b[A\u001b[A\n",
      "\n",
      " 57%|█████▋    |/mnt/d/UChicago/Q4/ADSP 3202203M/355M [00:29<00:19,    8.14MB/s]\u001b[A\u001b[A\n",
      "\n",
      " 58%|█████▊    |/mnt/d/UChicago/Q4/ADSP 3202205M/355M [00:29<00:20,    7.59MB/s]\u001b[A\u001b[A\n",
      "\n",
      " 58%|█████▊    |/mnt/d/UChicago/Q4/ADSP 3202207M/355M [00:30<00:20,    7.59MB/s]\u001b[A\u001b[A\n",
      "\n",
      " 59%|█████▊    |/mnt/d/UChicago/Q4/ADSP 3202208M/355M [00:30<00:18,    8.34MB/s]\u001b[A\u001b[A\n",
      "\n",
      " 59%|█████▉    |/mnt/d/UChicago/Q4/ADSP 3202210M/355M [00:30<00:24,    6.14MB/s]\u001b[A\u001b[A\n",
      "\n",
      " 60%|█████▉    |/mnt/d/UChicago/Q4/ADSP 3202212M/355M [00:30<00:22,    6.80MB/s]\u001b[A\u001b[A\n",
      "\n",
      " 60%|██████    |/mnt/d/UChicago/Q4/ADSP 3202215M/355M [00:31<00:16,    8.68MB/s]\u001b[A\u001b[A\n",
      "\n",
      " 61%|██████    |/mnt/d/UChicago/Q4/ADSP 3202216M/355M [00:31<00:21,    6.65MB/s]\u001b[A\u001b[A\n",
      "\n",
      " 61%|██████    |/mnt/d/UChicago/Q4/ADSP 3202217M/355M [00:31<00:23,    6.04MB/s]\u001b[A\u001b[A\n",
      "\n",
      " 62%|██████▏   |/mnt/d/UChicago/Q4/ADSP 3202220M/355M [00:32<00:20,    6.98MB/s]\u001b[A\u001b[A\n",
      "\n",
      " 63%|██████▎   |/mnt/d/UChicago/Q4/ADSP 3202223M/355M [00:32<00:17,    8.03MB/s]\u001b[A\u001b[A\n",
      "\n",
      " 63%|██████▎   |/mnt/d/UChicago/Q4/ADSP 3202225M/355M [00:32<00:16,    8.48MB/s]\u001b[A\u001b[A\n",
      "\n",
      " 64%|██████▍   |/mnt/d/UChicago/Q4/ADSP 3202227M/355M [00:32<00:16,    8.37MB/s]\u001b[A\u001b[A\n",
      "\n",
      " 64%|██████▍   |/mnt/d/UChicago/Q4/ADSP 3202228M/355M [00:33<00:15,    8.82MB/s]\u001b[A\u001b[A\n",
      "\n",
      " 65%|██████▍   |/mnt/d/UChicago/Q4/ADSP 3202229M/355M [00:33<00:16,    8.12MB/s]\u001b[A\u001b[A\n",
      "\n",
      " 65%|██████▌   |/mnt/d/UChicago/Q4/ADSP 3202231M/355M [00:33<00:15,    8.45MB/s]\u001b[A\u001b[A\n",
      "\n",
      " 65%|██████▌   |/mnt/d/UChicago/Q4/ADSP 3202232M/355M [00:33<00:17,    7.51MB/s]\u001b[A\u001b[A\n",
      "\n",
      " 66%|██████▌   |/mnt/d/UChicago/Q4/ADSP 3202234M/355M [00:33<00:15,    8.05MB/s]\u001b[A\u001b[A\n",
      "\n",
      " 66%|██████▋   |/mnt/d/UChicago/Q4/ADSP 3202236M/355M [00:34<00:16,    7.72MB/s]\u001b[A\u001b[A\n",
      "\n",
      " 67%|██████▋   |/mnt/d/UChicago/Q4/ADSP 3202237M/355M [00:34<00:16,    7.33MB/s]\u001b[A\u001b[A\n",
      "\n",
      " 67%|██████▋   |/mnt/d/UChicago/Q4/ADSP 3202239M/355M [00:34<00:16,    7.57MB/s]\u001b[A\u001b[A\n",
      "\n",
      " 68%|██████▊   |/mnt/d/UChicago/Q4/ADSP 3202240M/355M [00:34<00:15,    7.76MB/s]\u001b[A\u001b[A\n",
      "\n",
      " 68%|██████▊   |/mnt/d/UChicago/Q4/ADSP 3202242M/355M [00:35<00:18,    6.38MB/s]\u001b[A\u001b[A\n",
      "\n",
      " 69%|██████▊   |/mnt/d/UChicago/Q4/ADSP 3202243M/355M [00:35<00:17,    6.63MB/s]\u001b[A\u001b[A\n",
      "\n",
      " 69%|██████▉   |/mnt/d/UChicago/Q4/ADSP 3202245M/355M [00:35<00:16,    7.22MB/s]\u001b[A\u001b[A\n",
      "\n",
      " 70%|██████▉   |/mnt/d/UChicago/Q4/ADSP 3202247M/355M [00:35<00:14,    7.71MB/s]\u001b[A\u001b[A\n",
      "\n",
      " 70%|███████   |/mnt/d/UChicago/Q4/ADSP 3202250M/355M [00:35<00:09,    11.2MB/s]\u001b[A\u001b[A\n",
      "\n",
      " 71%|███████   |/mnt/d/UChicago/Q4/ADSP 3202251M/355M [00:36<00:13,    7.92MB/s]\u001b[A\u001b[A\n",
      "\n",
      " 71%|███████   |/mnt/d/UChicago/Q4/ADSP 3202252M/355M [00:36<00:13,    8.17MB/s]\u001b[A\u001b[A\n",
      "\n",
      " 72%|███████▏  |/mnt/d/UChicago/Q4/ADSP 3202254M/355M [00:36<00:13,    8.02MB/s]\u001b[A\u001b[A\n",
      "\n",
      " 72%|███████▏  |/mnt/d/UChicago/Q4/ADSP 3202256M/355M [00:36<00:14,    7.35MB/s]\u001b[A\u001b[A\n",
      "\n",
      " 72%|███████▏  |/mnt/d/UChicago/Q4/ADSP 3202257M/355M [00:37<00:14,    7.05MB/s]\u001b[A\u001b[A\n",
      "\n",
      " 73%|███████▎  |/mnt/d/UChicago/Q4/ADSP 3202260M/355M [00:37<00:13,    7.57MB/s]\u001b[A\u001b[A\n",
      "\n",
      " 73%|███████▎  |/mnt/d/UChicago/Q4/ADSP 3202261M/355M [00:37<00:13,    7.31MB/s]\u001b[A\u001b[A\n",
      "\n",
      " 74%|███████▍  |/mnt/d/UChicago/Q4/ADSP 3202262M/355M [00:37<00:13,    7.11MB/s]\u001b[A\u001b[A\n",
      "\n",
      " 74%|███████▍  |/mnt/d/UChicago/Q4/ADSP 3202263M/355M [00:37<00:12,    8.01MB/s]\u001b[A\u001b[A\n",
      "\n",
      " 75%|███████▍  |/mnt/d/UChicago/Q4/ADSP 3202265M/355M [00:38<00:12,    7.47MB/s]\u001b[A\u001b[A\n",
      "\n",
      " 75%|███████▍  |/mnt/d/UChicago/Q4/ADSP 3202266M/355M [00:38<00:13,    6.95MB/s]\u001b[A\u001b[A\n",
      "\n",
      " 76%|███████▌  |/mnt/d/UChicago/Q4/ADSP 3202268M/355M [00:38<00:13,    6.58MB/s]\u001b[A\u001b[A\n",
      "\n",
      " 76%|███████▌  |/mnt/d/UChicago/Q4/ADSP 3202271M/355M [00:38<00:10,    8.14MB/s]\u001b[A\u001b[A\n",
      "\n",
      " 77%|███████▋  |/mnt/d/UChicago/Q4/ADSP 3202272M/355M [00:39<00:11,    7.85MB/s]\u001b[A\u001b[A\n",
      "\n",
      " 77%|███████▋  |/mnt/d/UChicago/Q4/ADSP 3202274M/355M [00:39<00:11,    7.36MB/s]\u001b[A\u001b[A\n",
      "\n",
      " 78%|███████▊  |/mnt/d/UChicago/Q4/ADSP 3202276M/355M [00:39<00:11,    6.96MB/s]\u001b[A\u001b[A\n",
      "\n",
      " 78%|███████▊  |/mnt/d/UChicago/Q4/ADSP 3202278M/355M [00:39<00:10,    7.79MB/s]\u001b[A\u001b[A\n",
      "\n",
      " 79%|███████▊  |/mnt/d/UChicago/Q4/ADSP 3202280M/355M [00:40<00:09,    8.10MB/s]\u001b[A\u001b[A\n",
      "\n",
      " 79%|███████▉  |/mnt/d/UChicago/Q4/ADSP 3202281M/355M [00:40<00:10,    7.65MB/s]\u001b[A\u001b[A\n",
      "\n",
      " 80%|███████▉  |/mnt/d/UChicago/Q4/ADSP 3202284M/355M [00:40<00:09,    7.91MB/s]\u001b[A\u001b[A\n",
      "\n",
      " 80%|████████  |/mnt/d/UChicago/Q4/ADSP 3202285M/355M [00:40<00:08,    8.18MB/s]\u001b[A\u001b[A\n",
      "\n",
      " 81%|████████  |/mnt/d/UChicago/Q4/ADSP 3202287M/355M [00:41<00:09,    7.96MB/s]\u001b[A\u001b[A\n",
      "\n",
      " 81%|████████  |/mnt/d/UChicago/Q4/ADSP 3202288M/355M [00:41<00:08,    8.15MB/s]\u001b[A\u001b[A\n",
      "\n",
      " 81%|████████▏ |/mnt/d/UChicago/Q4/ADSP 3202290M/355M [00:41<00:09,    7.64MB/s]\u001b[A\u001b[A\n",
      "\n",
      " 82%|████████▏ |/mnt/d/UChicago/Q4/ADSP 3202291M/355M [00:41<00:10,    6.36MB/s]\u001b[A\u001b[A\n",
      "\n",
      " 82%|████████▏ |/mnt/d/UChicago/Q4/ADSP 3202292M/355M [00:41<00:08,    7.47MB/s]\u001b[A\u001b[A\n",
      "\n",
      " 83%|████████▎ |/mnt/d/UChicago/Q4/ADSP 3202294M/355M [00:42<00:11,    5.74MB/s]\u001b[A\u001b[A\n",
      "\n",
      " 83%|████████▎ |/mnt/d/UChicago/Q4/ADSP 3202297M/355M [00:42<00:07,    8.44MB/s]\u001b[A\u001b[A\n",
      "\n",
      " 84%|████████▍ |/mnt/d/UChicago/Q4/ADSP 3202298M/355M [00:42<00:07,    7.78MB/s]\u001b[A\u001b[A\n",
      "\n",
      " 84%|████████▍ |/mnt/d/UChicago/Q4/ADSP 3202299M/355M [00:42<00:07,    7.66MB/s]\u001b[A\u001b[A\n",
      "\n",
      " 84%|████████▍ |/mnt/d/UChicago/Q4/ADSP 3202300M/355M [00:43<00:12,    4.73MB/s]\u001b[A\u001b[A\n",
      "\n",
      " 85%|████████▌ |/mnt/d/UChicago/Q4/ADSP 3202303M/355M [00:43<00:09,    5.95MB/s]\u001b[A\u001b[A\n",
      "\n",
      " 86%|████████▌ |/mnt/d/UChicago/Q4/ADSP 3202306M/355M [00:43<00:06,    7.84MB/s]\u001b[A\u001b[A\n",
      "\n",
      " 86%|████████▋ |/mnt/d/UChicago/Q4/ADSP 3202307M/355M [00:44<00:06,    7.51MB/s]\u001b[A\u001b[A\n",
      "\n",
      " 87%|████████▋ |/mnt/d/UChicago/Q4/ADSP 3202308M/355M [00:44<00:08,    5.89MB/s]\u001b[A\u001b[A\n",
      "\n",
      " 88%|████████▊ |/mnt/d/UChicago/Q4/ADSP 3202311M/355M [00:44<00:06,    7.20MB/s]\u001b[A\u001b[A\n",
      "\n",
      " 88%|████████▊ |/mnt/d/UChicago/Q4/ADSP 3202314M/355M [00:45<00:06,    6.64MB/s]\u001b[A\u001b[A\n",
      "\n",
      " 89%|████████▉ |/mnt/d/UChicago/Q4/ADSP 3202316M/355M [00:45<00:05,    7.76MB/s]\u001b[A\u001b[A\n",
      "\n",
      " 89%|████████▉ |/mnt/d/UChicago/Q4/ADSP 3202318M/355M [00:45<00:05,    6.60MB/s]\u001b[A\u001b[A\n",
      "\n",
      " 90%|█████████ |/mnt/d/UChicago/Q4/ADSP 3202321M/355M [00:46<00:03,    9.26MB/s]\u001b[A\u001b[A\n",
      "\n",
      " 90%|█████████ |/mnt/d/UChicago/Q4/ADSP 3202321M/355M [00:46<00:04,    7.54MB/s]\u001b[A\u001b[A\n",
      "\n",
      " 91%|█████████ |/mnt/d/UChicago/Q4/ADSP 3202324M/355M [00:46<00:04,    8.10MB/s]\u001b[A\u001b[A\n",
      "\n",
      " 91%|█████████▏|/mnt/d/UChicago/Q4/ADSP 3202325M/355M [00:46<00:04,    6.47MB/s]\u001b[A\u001b[A\n",
      "\n",
      " 92%|█████████▏|/mnt/d/UChicago/Q4/ADSP 3202327M/355M [00:47<00:04,    7.13MB/s]\u001b[A\u001b[A\n",
      "\n",
      " 93%|█████████▎|/mnt/d/UChicago/Q4/ADSP 3202329M/355M [00:47<00:02,    10.4MB/s]\u001b[A\u001b[A\n",
      "\n",
      " 93%|█████████▎|/mnt/d/UChicago/Q4/ADSP 3202330M/355M [00:47<00:02,    8.99MB/s]\u001b[A\u001b[A\n",
      "\n",
      " 93%|█████████▎|/mnt/d/UChicago/Q4/ADSP 3202332M/355M [00:47<00:02,    8.64MB/s]\u001b[A\u001b[A\n",
      "\n",
      " 94%|█████████▎|/mnt/d/UChicago/Q4/ADSP 3202333M/355M [00:47<00:02,    8.10MB/s]\u001b[A\u001b[A\n",
      "\n",
      " 94%|█████████▍|/mnt/d/UChicago/Q4/ADSP 3202335M/355M [00:47<00:02,    8.09MB/s]\u001b[A\u001b[A\n",
      "\n",
      " 95%|█████████▍|/mnt/d/UChicago/Q4/ADSP 3202336M/355M [00:48<00:02,    7.94MB/s]\u001b[A\u001b[A\n",
      "\n",
      " 95%|█████████▍|/mnt/d/UChicago/Q4/ADSP 3202337M/355M [00:48<00:02,    7.12MB/s]\u001b[A\u001b[A\n",
      "\n",
      " 95%|█████████▌|/mnt/d/UChicago/Q4/ADSP 3202339M/355M [00:48<00:02,    7.23MB/s]\u001b[A\u001b[A\n",
      "\n",
      " 96%|█████████▌|/mnt/d/UChicago/Q4/ADSP 3202341M/355M [00:48<00:02,    7.08MB/s]\u001b[A\u001b[A\n",
      "\n",
      " 96%|█████████▋|/mnt/d/UChicago/Q4/ADSP 3202343M/355M [00:49<00:02,    6.47MB/s]\u001b[A\u001b[A\n",
      "\n",
      " 97%|█████████▋|/mnt/d/UChicago/Q4/ADSP 3202345M/355M [00:49<00:01,    5.93MB/s]\u001b[A\u001b[A\n",
      "\n",
      " 98%|█████████▊|/mnt/d/UChicago/Q4/ADSP 3202347M/355M [00:49<00:01,    6.96MB/s]\u001b[A\u001b[A\n",
      "\n",
      " 98%|█████████▊|/mnt/d/UChicago/Q4/ADSP 3202350M/355M [00:50<00:00,    9.72MB/s]\u001b[A\u001b[A\n",
      "\n",
      " 99%|█████████▊|/mnt/d/UChicago/Q4/ADSP 3202350M/355M [00:50<00:00,    8.22MB/s]\u001b[A\u001b[A\n",
      "\n",
      " 99%|█████████▉|/mnt/d/UChicago/Q4/ADSP 3202352M/355M [00:50<00:00,    7.89MB/s]\u001b[A\u001b[A\n",
      "\n",
      " 99%|█████████▉|/mnt/d/UChicago/Q4/ADSP 3202353M/355M [00:50<00:00,    7.14MB/s]\u001b[A\u001b[A\n",
      "\n",
      "100%|█████████▉|/mnt/d/UChicago/Q4/ADSP 3202354M/355M [00:50<00:00,    6.53MB/s]\u001b[A\u001b[A\n",
      "100%|██████████|Pushing to gdrive                 1/1 [00:52<00:00, 52.25s/file]\u001b[A\n",
      "\n",
      "                                                                                \u001b[A\u001b[A\n",
      "1 file pushed                                                                   \u001b[A\n",
      "\u001b[0m"
     ]
    }
   ],
   "source": [
    "# upload version 2 of the full data\n",
    "!dvc add data/full_data.json\n",
    "!git add data/.gitignore data/full_data.json.dvc\n",
    "\n",
    "# push the v2 of the full data\n",
    "!git commit -m \"full data v2: *.json\"\n",
    "!cat data/full_data.json.dvc\n",
    "!dvc push"
   ]
  }
 ],
 "metadata": {
  "colab": {
   "provenance": []
  },
  "kernelspec": {
   "display_name": "Python3.10",
   "language": "python",
   "name": "condaenv"
  },
  "language_info": {
   "codemirror_mode": {
    "name": "ipython",
    "version": 3
   },
   "file_extension": ".py",
   "mimetype": "text/x-python",
   "name": "python",
   "nbconvert_exporter": "python",
   "pygments_lexer": "ipython3",
   "version": "3.10.13"
  }
 },
 "nbformat": 4,
 "nbformat_minor": 5
}
