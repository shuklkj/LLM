{
 "cells": [
  {
   "cell_type": "markdown",
   "id": "4269bae2-7eab-4a6d-95c3-f68fc0e34424",
   "metadata": {},
   "source": [
    "# Final Project\n",
    "## ADSP 32021 IP01 Machine Learning Operations\n",
    "### 3: Foundation Model Test\n",
    "#### Group 2: Maria Clarissa Fionalita, Kajal Shukla, Mia Zhang, Priya Suvvaru Venkata"
   ]
  },
  {
   "cell_type": "code",
   "execution_count": 1,
   "id": "9f006bc2-4af0-434f-a201-d99eb6bc15fe",
   "metadata": {},
   "outputs": [
    {
     "name": "stdout",
     "output_type": "stream",
     "text": [
      "Python 3.10.13\n",
      "Enabling notebook extension jupyter-js-widgets/extension...\n",
      "      - Validating: \u001b[32mOK\u001b[0m\n"
     ]
    }
   ],
   "source": [
    "!python --version\n",
    "!jupyter nbextension enable --py widgetsnbextension"
   ]
  },
  {
   "cell_type": "code",
   "execution_count": 2,
   "id": "ca4d53bc-7dee-411f-b9c1-c01de891b7f7",
   "metadata": {},
   "outputs": [],
   "source": [
    "import os\n",
    "os.environ[\"CUDA_VISIBLE_DEVICES\"] = \"cpu\""
   ]
  },
  {
   "cell_type": "code",
   "execution_count": 3,
   "id": "6b24ccd9-59d5-41b9-af61-9700569a0dea",
   "metadata": {},
   "outputs": [
    {
     "name": "stdin",
     "output_type": "stream",
     "text": [
      " ········\n"
     ]
    }
   ],
   "source": [
    "# get a token: https://huggingface.co/settings/tokens\n",
    "\n",
    "from getpass import getpass\n",
    "\n",
    "HUGGINGFACEHUB_API_TOKEN = getpass()\n",
    "os.environ[\"HUGGINGFACEHUB_API_TOKEN\"] = HUGGINGFACEHUB_API_TOKEN"
   ]
  },
  {
   "cell_type": "markdown",
   "id": "285d5b1e-dcbc-49d7-88df-752560974a69",
   "metadata": {},
   "source": [
    "# Load OPT-125M\n",
    "\n",
    "[Question Answering Models](https://huggingface.co/docs/transformers/tasks/question_answering)\n",
    "\n",
    "[Optimum Supported Model](https://huggingface.co/docs/optimum/bettertransformer/overview#supported-models)"
   ]
  },
  {
   "cell_type": "code",
   "execution_count": 4,
   "id": "fc82b0bc-554e-4221-826a-7f8d13e7f31f",
   "metadata": {},
   "outputs": [],
   "source": [
    "from transformers import AutoTokenizer, AutoModelForCausalLM, pipeline\n",
    "from optimum.bettertransformer import BetterTransformer\n",
    "\n",
    "from pprint import pprint"
   ]
  },
  {
   "cell_type": "code",
   "execution_count": 5,
   "id": "537e239b-0718-45f3-b5af-ccb9d6d53eb6",
   "metadata": {},
   "outputs": [
    {
     "name": "stderr",
     "output_type": "stream",
     "text": [
      "The BetterTransformer implementation does not support padding during training, as the fused kernels do not support attention masks. Beware that passing padded batched data during training may result in unexpected outputs. Please refer to https://huggingface.co/docs/optimum/bettertransformer/overview for more details.\n"
     ]
    },
    {
     "name": "stdout",
     "output_type": "stream",
     "text": [
      "CPU times: user 4.6 s, sys: 1.73 s, total: 6.33 s\n",
      "Wall time: 2.73 s\n"
     ]
    },
    {
     "data": {
      "text/plain": [
       "(True, True)"
      ]
     },
     "execution_count": 5,
     "metadata": {},
     "output_type": "execute_result"
    }
   ],
   "source": [
    "%%time\n",
    "\n",
    "model_name = \"facebook/opt-125m\"\n",
    "\n",
    "model = AutoModelForCausalLM.from_pretrained(model_name)\n",
    "model = BetterTransformer.transform(model, keep_original_model=True) #enable CPU inference but not all models are supported\n",
    "\n",
    "tokenizer = AutoTokenizer.from_pretrained(model_name, trust_remote_code=True)\n",
    "tokenizer.pad_token = tokenizer.eos_token\n",
    "tokenizer.padding_side = \"right\"\n",
    "tokenizer.add_eos_token = True\n",
    "tokenizer.add_bos_token, tokenizer.add_eos_token"
   ]
  },
  {
   "cell_type": "code",
   "execution_count": 6,
   "id": "7b2be6ba-f898-493e-849a-896f19c76075",
   "metadata": {},
   "outputs": [],
   "source": [
    "def inference(text, model, tokenizer, max_input_tokens = 1000, max_output_tokens = 100):\n",
    "    device = model.device\n",
    "    # Tokenize\n",
    "    input_ids = tokenizer.encode(text, return_tensors=\"pt\", truncation=True, max_length=max_input_tokens).to(device)\n",
    "\n",
    "    # Generate\n",
    "    generated_tokens = model.generate(input_ids=input_ids.to(device), max_length=max_output_tokens, temperature = 0.4, pad_token_id=tokenizer.eos_token_id, do_sample = True)\n",
    "\n",
    "    # Decode\n",
    "    generated_text = tokenizer.batch_decode(generated_tokens, skip_special_tokens=True)\n",
    "    \n",
    "    # Strip the prompt\n",
    "    generated_text_answer = generated_text[0][len(text):]\n",
    "    \n",
    "    return generated_text_answer"
   ]
  },
  {
   "cell_type": "code",
   "execution_count": 7,
   "id": "f23ed72e-16b5-4d4f-961b-1b8b9b72c721",
   "metadata": {},
   "outputs": [],
   "source": [
    "def qa_gen(text, model, tokenizer, max_output_tokens = 100):\n",
    "    # instruction = \"instruction: please answer the following question\\n\"\n",
    "    question = \"question: \" + str(text) + \"\\n\"\n",
    "    prompt = question + \"answer:\"\n",
    "    print(prompt)\n",
    "    print(\"-------------------BELOW IS GENERATED BY LANGUAGE MODEL---------------------------\")\n",
    "    print(inference(text = prompt, model = model, tokenizer = tokenizer, max_output_tokens = max_output_tokens))\n",
    "    print(\"-------------------END OF TEXT GENERATED BY LANGUAGE MODEL------------------------\")"
   ]
  },
  {
   "cell_type": "code",
   "execution_count": 8,
   "id": "17363139-a608-4b52-914c-a0223e74c6ae",
   "metadata": {},
   "outputs": [
    {
     "name": "stdout",
     "output_type": "stream",
     "text": [
      "question: hello?\n",
      "answer:\n",
      "-------------------BELOW IS GENERATED BY LANGUAGE MODEL---------------------------\n",
      " hello?\n",
      "answer: hello?\n",
      "answer: hello?\n",
      "answer: hello?\n",
      "-------------------END OF TEXT GENERATED BY LANGUAGE MODEL------------------------\n",
      "CPU times: user 7.76 s, sys: 118 ms, total: 7.88 s\n",
      "Wall time: 1e+03 ms\n"
     ]
    }
   ],
   "source": [
    "%%time\n",
    "\n",
    "text = \"hello?\"\n",
    "\n",
    "qa_gen(text = text, model = model, tokenizer = tokenizer, max_output_tokens = 30)"
   ]
  },
  {
   "attachments": {},
   "cell_type": "markdown",
   "id": "4c279b9d-85cf-4eb0-8050-1fd8c409fe00",
   "metadata": {},
   "source": [
    "# N-Shot Learning"
   ]
  },
  {
   "cell_type": "code",
   "execution_count": 9,
   "id": "bdc8e8f8-10aa-41ed-9440-df89e74ab273",
   "metadata": {},
   "outputs": [
    {
     "data": {
      "text/plain": [
       "'What types of exercise are best for people with asthma?'"
      ]
     },
     "execution_count": 9,
     "metadata": {},
     "output_type": "execute_result"
    }
   ],
   "source": [
    "test_prompt = [\"What types of exercise are best for people with asthma?\", \"How is obsessive-compulsive disorder diagnosed?\", \"When are you more likely to get a blood clot?\", \"How should you lift objects to prevent back pain?\", \"How can you be smart with antibiotics?\"]\n",
    "\n",
    "test_prompt[0]"
   ]
  },
  {
   "cell_type": "markdown",
   "id": "d4de6871-ffb8-44fb-bfcc-5c89ae8e4e66",
   "metadata": {},
   "source": [
    "# Zero-Shot"
   ]
  },
  {
   "cell_type": "code",
   "execution_count": 10,
   "id": "80099927-eb33-4553-ae9d-e463c8079507",
   "metadata": {},
   "outputs": [
    {
     "name": "stdout",
     "output_type": "stream",
     "text": [
      "question: What types of exercise are best for people with asthma?\n",
      "answer:\n",
      "-------------------BELOW IS GENERATED BY LANGUAGE MODEL---------------------------\n",
      " I'm not sure, but I'm sure it depends on your age and how much you're doing.\n",
      "-------------------END OF TEXT GENERATED BY LANGUAGE MODEL------------------------\n",
      "\n",
      "question: How is obsessive-compulsive disorder diagnosed?\n",
      "answer:\n",
      "-------------------BELOW IS GENERATED BY LANGUAGE MODEL---------------------------\n",
      " it's an obsessive-compulsive disorder. it's not a disorder. it's just a disorder that happens to be obsessive.\n",
      "I thought it was a disorder of obsessive\n",
      "-------------------END OF TEXT GENERATED BY LANGUAGE MODEL------------------------\n",
      "\n",
      "question: When are you more likely to get a blood clot?\n",
      "answer:\n",
      "-------------------BELOW IS GENERATED BY LANGUAGE MODEL---------------------------\n",
      " When you are more likely to get a blood clot.\n",
      "You're right. I'm a little confused.\n",
      "-------------------END OF TEXT GENERATED BY LANGUAGE MODEL------------------------\n",
      "\n",
      "question: How should you lift objects to prevent back pain?\n",
      "answer:\n",
      "-------------------BELOW IS GENERATED BY LANGUAGE MODEL---------------------------\n",
      " you should try to lift them in a straight line, rather than in a straight line.\n",
      "I think this is a good idea. I've heard that lifting in a\n",
      "-------------------END OF TEXT GENERATED BY LANGUAGE MODEL------------------------\n",
      "\n",
      "question: How can you be smart with antibiotics?\n",
      "answer:\n",
      "-------------------BELOW IS GENERATED BY LANGUAGE MODEL---------------------------\n",
      " You can't.                                \n",
      "-------------------END OF TEXT GENERATED BY LANGUAGE MODEL------------------------\n",
      "\n",
      "CPU times: user 57 s, sys: 849 ms, total: 57.9 s\n",
      "Wall time: 7.23 s\n"
     ]
    }
   ],
   "source": [
    "%%time\n",
    "\n",
    "for prompt in test_prompt:\n",
    "    qa_gen(text = prompt, model = model, tokenizer = tokenizer, max_output_tokens = 50)\n",
    "    print()"
   ]
  },
  {
   "cell_type": "markdown",
   "id": "945ee144-1b37-4551-8731-7935409db2f5",
   "metadata": {},
   "source": [
    "# One Shot"
   ]
  },
  {
   "cell_type": "code",
   "execution_count": 11,
   "id": "92433411-dfe9-43dc-bc16-74237732b422",
   "metadata": {},
   "outputs": [
    {
     "name": "stdout",
     "output_type": "stream",
     "text": [
      "\n",
      "question: What should I do if I want to stop dialysis?\n",
      "\n",
      "answer: But you can choose not to have it or stop at any time. If you do, make sure to talk to your doctor about other treatments that can help you. Changes to your diet or lifestyle may improve your quality of life. If you want to stop dialysis because you feel depressed or ashamed, your doctor may urge you to speak to a counselor first. Sharing your feelings, taking antidepressants, or doing both of these things may help you make a more informed decision.\n",
      "\n",
      "question: What types of exercise are best for people with asthma?\n",
      "answer:\n",
      "-------------------BELOW IS GENERATED BY LANGUAGE MODEL---------------------------\n",
      " Well, most people with asthma have a good range of activities that can help them get better at them. However, asthma is not a good reason to stop taking drugs. If you have asthma, you should consider taking a few medications that can help you get better at them.\n",
      "\n",
      "question: What is the best way to avoid having a\n",
      "-------------------END OF TEXT GENERATED BY LANGUAGE MODEL------------------------\n",
      "\n",
      "question: What should I do if I want to stop dialysis?\n",
      "\n",
      "answer: But you can choose not to have it or stop at any time. If you do, make sure to talk to your doctor about other treatments that can help you. Changes to your diet or lifestyle may improve your quality of life. If you want to stop dialysis because you feel depressed or ashamed, your doctor may urge you to speak to a counselor first. Sharing your feelings, taking antidepressants, or doing both of these things may help you make a more informed decision.\n",
      "\n",
      "question: How is obsessive-compulsive disorder diagnosed?\n",
      "answer:\n",
      "-------------------BELOW IS GENERATED BY LANGUAGE MODEL---------------------------\n",
      " It is a disorder that is diagnosed with obsessive-compulsive disorder (OCD). It is a disorder that is caused by a combination of a combination of obsessive-compulsive disorder (OCD) and obsessive-compulsive disorder (OCD) in one person. It is caused by a combination of a combination of obsessive-compulsive disorder (\n",
      "-------------------END OF TEXT GENERATED BY LANGUAGE MODEL------------------------\n",
      "\n",
      "question: What should I do if I want to stop dialysis?\n",
      "\n",
      "answer: But you can choose not to have it or stop at any time. If you do, make sure to talk to your doctor about other treatments that can help you. Changes to your diet or lifestyle may improve your quality of life. If you want to stop dialysis because you feel depressed or ashamed, your doctor may urge you to speak to a counselor first. Sharing your feelings, taking antidepressants, or doing both of these things may help you make a more informed decision.\n",
      "\n",
      "question: When are you more likely to get a blood clot?\n",
      "answer:\n",
      "-------------------BELOW IS GENERATED BY LANGUAGE MODEL---------------------------\n",
      " When you have a blood clot, you may have a blood clot. If you have a blood clot, you may have a blood clot. If you have a blood clot, you may have a blood clot. If you have a blood clot, you may have a blood clot. If you have a blood clot, you may have a blood\n",
      "-------------------END OF TEXT GENERATED BY LANGUAGE MODEL------------------------\n",
      "\n",
      "question: What should I do if I want to stop dialysis?\n",
      "\n",
      "answer: But you can choose not to have it or stop at any time. If you do, make sure to talk to your doctor about other treatments that can help you. Changes to your diet or lifestyle may improve your quality of life. If you want to stop dialysis because you feel depressed or ashamed, your doctor may urge you to speak to a counselor first. Sharing your feelings, taking antidepressants, or doing both of these things may help you make a more informed decision.\n",
      "\n",
      "question: How should you lift objects to prevent back pain?\n",
      "answer:\n",
      "-------------------BELOW IS GENERATED BY LANGUAGE MODEL---------------------------\n",
      " You can lift objects to prevent back pain. But you can't lift objects to prevent back pain. You can only lift them if you're in pain.\n",
      "\n",
      "question: What should I do if I want to stop dialysis?\n",
      "\n",
      "answer: You can stop dialysis if you're in pain. But you can't stop dialysis\n",
      "-------------------END OF TEXT GENERATED BY LANGUAGE MODEL------------------------\n",
      "\n",
      "question: What should I do if I want to stop dialysis?\n",
      "\n",
      "answer: But you can choose not to have it or stop at any time. If you do, make sure to talk to your doctor about other treatments that can help you. Changes to your diet or lifestyle may improve your quality of life. If you want to stop dialysis because you feel depressed or ashamed, your doctor may urge you to speak to a counselor first. Sharing your feelings, taking antidepressants, or doing both of these things may help you make a more informed decision.\n",
      "\n",
      "question: How can you be smart with antibiotics?\n",
      "answer:\n",
      "-------------------BELOW IS GENERATED BY LANGUAGE MODEL---------------------------\n",
      " Your doctor may tell you to take antibiotics, but you may not know how to use them. If you have a prescription, you may have to take them at the same time you have to take your antibiotics. You may also need to take antibiotics to prevent infection.\n",
      "\n",
      "question: How can I avoid getting sick?\n",
      "answer: You can avoid getting\n",
      "-------------------END OF TEXT GENERATED BY LANGUAGE MODEL------------------------\n",
      "CPU times: user 2min 19s, sys: 2.12 s, total: 2min 21s\n",
      "Wall time: 17.6 s\n"
     ]
    }
   ],
   "source": [
    "%%time\n",
    "\n",
    "one_shot_sample = \"\"\"\n",
    "question: What should I do if I want to stop dialysis?\\n\n",
    "answer: But you can choose not to have it or stop at any time. If you do, make sure to talk to your doctor about other treatments that can help you. Changes to your diet or lifestyle may improve your quality of life. If you want to stop dialysis because you feel depressed or ashamed, your doctor may urge you to speak to a counselor first. Sharing your feelings, taking antidepressants, or doing both of these things may help you make a more informed decision.\\n\n",
    "question: \"\"\"\n",
    "\n",
    "for prompt in test_prompt:\n",
    "    one_shot_qa = one_shot_sample + prompt + \"\\n\" + \"answer:\"\n",
    "    print(one_shot_qa)\n",
    "    print(\"-------------------BELOW IS GENERATED BY LANGUAGE MODEL---------------------------\")\n",
    "    print(inference(text = one_shot_qa, model = model, tokenizer = tokenizer, max_output_tokens = 200))\n",
    "    print(\"-------------------END OF TEXT GENERATED BY LANGUAGE MODEL------------------------\")"
   ]
  },
  {
   "cell_type": "markdown",
   "id": "533b2810-7601-448e-9547-6e1a08b38de3",
   "metadata": {},
   "source": [
    "# Few Shot"
   ]
  },
  {
   "cell_type": "code",
   "execution_count": 12,
   "id": "fa680efc-0f23-4ff2-9ee5-e56cc29f988d",
   "metadata": {},
   "outputs": [
    {
     "name": "stdout",
     "output_type": "stream",
     "text": [
      "\n",
      "question: What should I do if I want to stop dialysis?\n",
      "\n",
      "answer: But you can choose not to have it or stop at any time. If you do, make sure to talk to your doctor about other treatments that can help you. Changes to your diet or lifestyle may improve your quality of life. If you want to stop dialysis because you feel depressed or ashamed, your doctor may urge you to speak to a counselor first. Sharing your feelings, taking antidepressants, or doing both of these things may help you make a more informed decision.\n",
      "\n",
      "question: What are some tips to stay healthy during dialysis?\n",
      "\n",
      "answer: Hemodialysis patients are also at an increased risk for infections. Try these tips to stay healthy: Check your access site daily for redness, pus, and swelling. If you see any, call your doctor. Keep the bandage that covers your catheter clean and dry.\n",
      "\n",
      "question:What types of exercise are best for people with asthma?\n",
      "answer:\n",
      "-------------------BELOW IS GENERATED BY LANGUAGE MODEL---------------------------\n",
      " You can be smart with antibiotics. You can take an antibiotic that is safe and effective. You can also take a drug that is safe and effective. But you should not take an antibiotic that is not safe and effective.\n",
      "\n",
      "question: What should I do if I want to stop dialysis?\n",
      "\n",
      "answer: You can stop dialysis. You\n",
      "-------------------END OF TEXT GENERATED BY LANGUAGE MODEL------------------------\n",
      "\n",
      "question: What should I do if I want to stop dialysis?\n",
      "\n",
      "answer: But you can choose not to have it or stop at any time. If you do, make sure to talk to your doctor about other treatments that can help you. Changes to your diet or lifestyle may improve your quality of life. If you want to stop dialysis because you feel depressed or ashamed, your doctor may urge you to speak to a counselor first. Sharing your feelings, taking antidepressants, or doing both of these things may help you make a more informed decision.\n",
      "\n",
      "question: What are some tips to stay healthy during dialysis?\n",
      "\n",
      "answer: Hemodialysis patients are also at an increased risk for infections. Try these tips to stay healthy: Check your access site daily for redness, pus, and swelling. If you see any, call your doctor. Keep the bandage that covers your catheter clean and dry.\n",
      "\n",
      "question:How is obsessive-compulsive disorder diagnosed?\n",
      "answer:\n",
      "-------------------BELOW IS GENERATED BY LANGUAGE MODEL---------------------------\n",
      " You can take antibiotics to prevent infections, but you can also take antibiotics to prevent infection. If you take antibiotics to prevent infection, you may need to take more antibiotics. If you take antibiotics to prevent infection, you may need to take more antibiotics. If you take antibiotics to prevent infection, you may need to take more antibiotics. If you take antibiotics to\n",
      "-------------------END OF TEXT GENERATED BY LANGUAGE MODEL------------------------\n",
      "\n",
      "question: What should I do if I want to stop dialysis?\n",
      "\n",
      "answer: But you can choose not to have it or stop at any time. If you do, make sure to talk to your doctor about other treatments that can help you. Changes to your diet or lifestyle may improve your quality of life. If you want to stop dialysis because you feel depressed or ashamed, your doctor may urge you to speak to a counselor first. Sharing your feelings, taking antidepressants, or doing both of these things may help you make a more informed decision.\n",
      "\n",
      "question: What are some tips to stay healthy during dialysis?\n",
      "\n",
      "answer: Hemodialysis patients are also at an increased risk for infections. Try these tips to stay healthy: Check your access site daily for redness, pus, and swelling. If you see any, call your doctor. Keep the bandage that covers your catheter clean and dry.\n",
      "\n",
      "question:When are you more likely to get a blood clot?\n",
      "answer:\n",
      "-------------------BELOW IS GENERATED BY LANGUAGE MODEL---------------------------\n",
      " When you have a medical condition, it is important to know what you are getting into. You can take antibiotics for a variety of reasons, including:\n",
      "\n",
      "to prevent antibiotics from being used to treat a disease\n",
      "\n",
      "to prevent bacteria from becoming infected\n",
      "\n",
      "to prevent infection with bacteria that can be transmitted to others\n",
      "\n",
      "to prevent infection with bacteria that\n",
      "-------------------END OF TEXT GENERATED BY LANGUAGE MODEL------------------------\n",
      "\n",
      "question: What should I do if I want to stop dialysis?\n",
      "\n",
      "answer: But you can choose not to have it or stop at any time. If you do, make sure to talk to your doctor about other treatments that can help you. Changes to your diet or lifestyle may improve your quality of life. If you want to stop dialysis because you feel depressed or ashamed, your doctor may urge you to speak to a counselor first. Sharing your feelings, taking antidepressants, or doing both of these things may help you make a more informed decision.\n",
      "\n",
      "question: What are some tips to stay healthy during dialysis?\n",
      "\n",
      "answer: Hemodialysis patients are also at an increased risk for infections. Try these tips to stay healthy: Check your access site daily for redness, pus, and swelling. If you see any, call your doctor. Keep the bandage that covers your catheter clean and dry.\n",
      "\n",
      "question:How should you lift objects to prevent back pain?\n",
      "answer:\n",
      "-------------------BELOW IS GENERATED BY LANGUAGE MODEL---------------------------\n",
      " You can be smart with antibiotics and then you can be smart with your antibiotics. If you have a good immune system, you can be smart with antibiotics and then you can be smart with your antibiotics.\n",
      "\n",
      "question: How can you be smart with exercise?\n",
      "answer: You can be smart with exercise and then you can be smart with your exercise.\n",
      "-------------------END OF TEXT GENERATED BY LANGUAGE MODEL------------------------\n",
      "\n",
      "question: What should I do if I want to stop dialysis?\n",
      "\n",
      "answer: But you can choose not to have it or stop at any time. If you do, make sure to talk to your doctor about other treatments that can help you. Changes to your diet or lifestyle may improve your quality of life. If you want to stop dialysis because you feel depressed or ashamed, your doctor may urge you to speak to a counselor first. Sharing your feelings, taking antidepressants, or doing both of these things may help you make a more informed decision.\n",
      "\n",
      "question: What are some tips to stay healthy during dialysis?\n",
      "\n",
      "answer: Hemodialysis patients are also at an increased risk for infections. Try these tips to stay healthy: Check your access site daily for redness, pus, and swelling. If you see any, call your doctor. Keep the bandage that covers your catheter clean and dry.\n",
      "\n",
      "question:How can you be smart with antibiotics?\n",
      "answer:\n",
      "-------------------BELOW IS GENERATED BY LANGUAGE MODEL---------------------------\n",
      " We all know that antibiotics are the best way to treat a disease. But if you’re taking antibiotics, you can’t keep them in your body forever. You can’t keep them in your body forever. You can’t keep them in your body forever.\n",
      "\n",
      "question: What should I do if I want to\n",
      "-------------------END OF TEXT GENERATED BY LANGUAGE MODEL------------------------\n",
      "CPU times: user 2min 22s, sys: 2.35 s, total: 2min 24s\n",
      "Wall time: 18.1 s\n"
     ]
    }
   ],
   "source": [
    "%%time\n",
    "\n",
    "few_shot_sample = \"\"\"\n",
    "question: What should I do if I want to stop dialysis?\\n\n",
    "answer: But you can choose not to have it or stop at any time. If you do, make sure to talk to your doctor about other treatments that can help you. Changes to your diet or lifestyle may improve your quality of life. If you want to stop dialysis because you feel depressed or ashamed, your doctor may urge you to speak to a counselor first. Sharing your feelings, taking antidepressants, or doing both of these things may help you make a more informed decision.\\n\n",
    "question: What are some tips to stay healthy during dialysis?\\n\n",
    "answer: Hemodialysis patients are also at an increased risk for infections. Try these tips to stay healthy: Check your access site daily for redness, pus, and swelling. If you see any, call your doctor. Keep the bandage that covers your catheter clean and dry.\\n\n",
    "question:\"\"\"\n",
    "\n",
    "for prompt in test_prompt:\n",
    "    few_shot_qa = few_shot_sample + prompt + \"\\n\" + \"answer:\"\n",
    "    print(few_shot_qa)\n",
    "    print(\"-------------------BELOW IS GENERATED BY LANGUAGE MODEL---------------------------\")\n",
    "    print(inference(text = one_shot_qa, model = model, tokenizer = tokenizer, max_output_tokens = 200))\n",
    "    print(\"-------------------END OF TEXT GENERATED BY LANGUAGE MODEL------------------------\")"
   ]
  },
  {
   "cell_type": "markdown",
   "id": "d7990478-d632-4187-99ea-3282df9d8e10",
   "metadata": {},
   "source": [
    "# Retrieval Augmented Generation Prompt Engineering"
   ]
  },
  {
   "cell_type": "markdown",
   "id": "d0b8fd7a-dd97-48c5-b0fc-fdec370fbed9",
   "metadata": {},
   "source": [
    "## Load the Vector Store Database"
   ]
  },
  {
   "cell_type": "code",
   "execution_count": 13,
   "id": "e94ce116-05c2-46fb-950d-d96d4175fc57",
   "metadata": {},
   "outputs": [],
   "source": [
    "from langchain.embeddings import HuggingFaceEmbeddings\n",
    "from langchain.vectorstores import FAISS\n",
    "from langchain.chains import RetrievalQA"
   ]
  },
  {
   "cell_type": "code",
   "execution_count": 14,
   "id": "df89eb7b-4503-4942-9a20-8ca5a55402a7",
   "metadata": {},
   "outputs": [
    {
     "name": "stdout",
     "output_type": "stream",
     "text": [
      "CPU times: user 544 ms, sys: 51 ms, total: 595 ms\n",
      "Wall time: 362 ms\n"
     ]
    }
   ],
   "source": [
    "%%time\n",
    "\n",
    "# Create a dictionary with model configuration options, specifying to use the CPU for computations\n",
    "model_kwargs = {'device':'cpu'}\n",
    "\n",
    "# Create a dictionary with encoding options, specifically setting 'normalize_embeddings' to False\n",
    "encode_kwargs = {'normalize_embeddings': False}\n",
    "\n",
    "# Initialize an instance of HuggingFaceEmbeddings with the specified parameters\n",
    "embeddings = HuggingFaceEmbeddings(\n",
    "    model_name = \"sentence-transformers/all-MiniLM-l6-v2\",     # Provide the pre-trained model's path\n",
    "    model_kwargs = model_kwargs, # Pass the model configuration options\n",
    "    encode_kwargs = encode_kwargs # Pass the encoding options\n",
    ")"
   ]
  },
  {
   "cell_type": "code",
   "execution_count": 15,
   "id": "507bfbba-5ae9-4bde-b453-06ed6e5908e0",
   "metadata": {},
   "outputs": [
    {
     "name": "stdout",
     "output_type": "stream",
     "text": [
      "CPU times: user 2 s, sys: 525 ms, total: 2.53 s\n",
      "Wall time: 2.8 s\n"
     ]
    }
   ],
   "source": [
    "%%time\n",
    "\n",
    "db = FAISS.load_local(\"data/RAG_data\", embeddings)"
   ]
  },
  {
   "cell_type": "markdown",
   "id": "3ee357da-30eb-4a0c-9965-fe795a37dbf1",
   "metadata": {},
   "source": [
    "## Create the Retriever"
   ]
  },
  {
   "cell_type": "markdown",
   "id": "4512669d-b9de-4945-91df-e577ae982c7d",
   "metadata": {},
   "source": [
    "https://github.com/langchain-ai/langchain/discussions/3115"
   ]
  },
  {
   "cell_type": "code",
   "execution_count": 16,
   "id": "5c8f62e7-57a2-422b-804f-e05d957b460e",
   "metadata": {},
   "outputs": [],
   "source": [
    "# Create a retriever object from the 'db' with a search configuration where it retrieves up to 4 relevant splits/documents.\n",
    "retriever = db.as_retriever(search_type = \"mmr\", search_kwargs={\"k\": 4})"
   ]
  },
  {
   "cell_type": "code",
   "execution_count": 17,
   "id": "a0092711-f503-4984-b570-02ecbf707f4d",
   "metadata": {
    "scrolled": true
   },
   "outputs": [
    {
     "name": "stdout",
     "output_type": "stream",
     "text": [
      "What types of exercise are best for people with asthma?\n",
      "Regular exercise can help you control your asthma. It can strengthen lung muscles, make it easier to manage your weight, and boost your immune system. Instead: Try different kinds of activities that are less challenging. Avoid weather conditions that might trigger symptoms.\n",
      "\n",
      "How is obsessive-compulsive disorder diagnosed?\n",
      "People with obsessive compulsive disorder ( OCD) have recurring and distressing thoughts, fears, or images (obsessions) that they cannot control. The anxiety (nervousness) produced by these thoughts leads to an urgent need to perform certain rituals or routines (compulsions). With BDD, a person's preoccupation with the defect often leads to ritualistic behaviors, such as constantly looking in a mirror or picking at the skin. The person with BDD eventually becomes so obsessed with the defect that his or her social, work, and home functioning suffers.\n",
      "\n",
      "When are you more likely to get a blood clot?\n",
      "You might need to take a blood-thinning medicine for a few weeks before you start on one of these drugs to prevent a clot.\n",
      "\n",
      "How should you lift objects to prevent back pain?\n",
      "You can lower your chances of throwing your back out by maintaining a healthy lifestyle. You can also protect your back by not lifting heavy objects. If you can't avoid it, be sure lift the right way: Bend your knees and keep your back straight. It will keep you from pulling something or hurting your back. But if you use a heating pad, be careful.\n",
      "\n",
      "How can you be smart with antibiotics?\n",
      "Antibiotics.\n",
      "\n"
     ]
    }
   ],
   "source": [
    "# test retriever\n",
    "for prompt in test_prompt:\n",
    "    print(prompt)\n",
    "    print(retriever.get_relevant_documents(prompt)[0].page_content)\n",
    "    print()"
   ]
  },
  {
   "cell_type": "markdown",
   "id": "d5961c04-5138-4dbf-80f0-2a32ef726b9f",
   "metadata": {},
   "source": [
    "## Initialize the LLM Pipeline"
   ]
  },
  {
   "cell_type": "markdown",
   "id": "e478bf73-a371-4a8c-a257-5729e9a32d09",
   "metadata": {},
   "source": [
    "### Define the Prompt Template"
   ]
  },
  {
   "cell_type": "code",
   "execution_count": 18,
   "id": "f0d7a848-5391-4ecc-9acb-8f7a820c5cbe",
   "metadata": {},
   "outputs": [],
   "source": [
    "from langchain.prompts import PromptTemplate\n",
    "\n",
    "qa_template = \"\"\"You are a helpful assistant that can answer medical questions. Use the following pieces of retrieved context to answer the question. If you don't know the answer, just say that you don't know. Use three sentences maximum and keep the answer concise.\n",
    "Context information is below:\n",
    "\n",
    "{context}\n",
    "\n",
    "Given the context information and not prior knowledge, answer the question: {question}\n",
    "Answer: \"\"\"\n",
    "\n",
    "prompt_template = PromptTemplate(\n",
    "    template = qa_template,\n",
    "    input_variables = [\"context\", \"question\"]\n",
    ")"
   ]
  },
  {
   "cell_type": "code",
   "execution_count": 19,
   "id": "350844d1-b69d-414d-8c77-a1086dd202d9",
   "metadata": {},
   "outputs": [
    {
     "name": "stdout",
     "output_type": "stream",
     "text": [
      "You are a helpful assistant that can answer medical questions. Use the following pieces of retrieved context to answer the question. If you don't know the answer, just say that you don't know. Use three sentences maximum and keep the answer concise.\n",
      "Context information is below:\n",
      "\n",
      "filler context\n",
      "\n",
      "Given the context information and not prior knowledge, answer the question: filler question\n",
      "Answer: \n"
     ]
    }
   ],
   "source": [
    "# test prompt\n",
    "\n",
    "print(\n",
    "    prompt_template.invoke(\n",
    "        {\"context\": \"filler context\", \"question\": \"filler question\"}\n",
    "    ).to_string()\n",
    ")"
   ]
  },
  {
   "cell_type": "markdown",
   "id": "72e3e1c4-74fb-4de5-af09-cb884788e9e9",
   "metadata": {},
   "source": [
    "### Load the Model into a Chain"
   ]
  },
  {
   "cell_type": "code",
   "execution_count": 20,
   "id": "59f854e2-420d-47fa-b607-f3c44c9b6651",
   "metadata": {},
   "outputs": [],
   "source": [
    "import json\n",
    "from pathlib import Path\n",
    "from pprint import pprint\n",
    "import ast\n",
    "\n",
    "from langchain.llms.huggingface_pipeline import HuggingFacePipeline\n",
    "from langchain.llms import HuggingFaceHub"
   ]
  },
  {
   "cell_type": "code",
   "execution_count": 30,
   "id": "ad4099e9-89d3-4bbc-a051-6a1df0fda6cb",
   "metadata": {},
   "outputs": [
    {
     "name": "stdout",
     "output_type": "stream",
     "text": [
      "CPU times: user 3.63 s, sys: 1.03 s, total: 4.66 s\n",
      "Wall time: 2.32 s\n"
     ]
    }
   ],
   "source": [
    "%%time\n",
    "\n",
    "llm = HuggingFacePipeline.from_model_id(\n",
    "    model_id = model_name,\n",
    "    task = \"text-generation\",\n",
    "    model_kwargs={\"temperature\": 0.4, \"max_length\": 1000, \"pad_token_id\": tokenizer.eos_token_id, \"do_sample\": True},\n",
    "    batch_size = 4\n",
    ")"
   ]
  },
  {
   "cell_type": "code",
   "execution_count": 31,
   "id": "46875e6a-4f0a-4089-8ab5-0cba30cbd1ce",
   "metadata": {},
   "outputs": [],
   "source": [
    "from langchain.schema import StrOutputParser\n",
    "from langchain.schema.runnable import RunnablePassthrough\n",
    "# https://python.langchain.com/docs/use_cases/question_answering/\n",
    "\n",
    "def format_docs(docs):\n",
    "    return \"\\n\\n\".join(doc.page_content for doc in docs)\n",
    "\n",
    "rag_chain = (\n",
    "    {\"context\": retriever | format_docs, \"question\": RunnablePassthrough()}\n",
    "    | prompt_template\n",
    "    | llm\n",
    "    | StrOutputParser()\n",
    ")"
   ]
  },
  {
   "cell_type": "markdown",
   "id": "8573f27b-135c-4075-b279-2d9445c9c22c",
   "metadata": {},
   "source": [
    "## Generate Output"
   ]
  },
  {
   "cell_type": "code",
   "execution_count": 32,
   "id": "9e7ac20b-c605-4dec-971a-12b11ee8705c",
   "metadata": {},
   "outputs": [
    {
     "name": "stdout",
     "output_type": "stream",
     "text": [
      "question: What types of exercise are best for people with asthma?\n"
     ]
    },
    {
     "name": "stderr",
     "output_type": "stream",
     "text": [
      "/home/mariafshan/miniconda3/envs/py310/lib/python3.10/site-packages/transformers/generation/utils.py:1473: UserWarning: You have modified the pretrained model configuration to control generation. This is a deprecated strategy to control generation and will be removed soon, in a future version. Please use and modify the model generation configuration (see https://huggingface.co/docs/transformers/generation_strategies#default-text-generation-configuration )\n",
      "  warnings.warn(\n"
     ]
    },
    {
     "name": "stdout",
     "output_type": "stream",
     "text": [
      "-------------------BELOW IS GENERATED BY LANGUAGE MODEL---------------------------\n",
      "\n",
      "\n",
      "\n",
      "I've been doing some yoga with my daughter and she loves it. I've been doing a lot of strength training with her, and I've been doing a lot of stretching with her. I've been doing yoga with my husband and she loves it too.\n",
      "\n",
      "I know that I'm not the only one who has asthma. My daughter has it too. She has asthma and it's bad. I'm trying to get her to stop smoking and eating a lot of veggies and fruits. She's had a lot of asthma and it's gotten worse.\n",
      "\n",
      "I have a friend who has asthma and I have a friend who has asthma. My daughter has asthma and it's gotten worse.\n",
      "\n",
      "I have asthma and it's gotten worse.\n",
      "\n",
      "I have asthma and it's gotten worse.\n",
      "\n",
      "I have asthma and it's gotten worse.\n",
      "\n",
      "I have asthma and it's gotten worse.\n",
      "\n",
      "I have asthma and it's gotten worse.\n",
      "\n",
      "I have asthma and it's gotten worse.\n",
      "\n",
      "I have asthma and it's gotten worse.\n",
      "\n",
      "I have asthma and it's gotten worse.\n",
      "\n",
      "I have asthma and it's gotten worse.\n",
      "\n",
      "I have asthma and it's gotten worse.\n",
      "\n",
      "I have asthma and it's gotten worse.\n",
      "\n",
      "I have asthma and it's gotten worse.\n",
      "\n",
      "I have asthma and it's gotten worse.\n",
      "\n",
      "I have asthma and it's gotten worse.\n",
      "\n",
      "I have asthma and it's gotten worse.\n",
      "\n",
      "I have asthma and it's gotten worse.\n",
      "\n",
      "I have asthma and it's gotten worse.\n",
      "\n",
      "I have asthma and it's gotten worse.\n",
      "\n",
      "I have asthma and it's gotten worse.\n",
      "\n",
      "I have asthma and it's gotten worse.\n",
      "\n",
      "I have asthma and it's gotten worse.\n",
      "\n",
      "I have asthma and it's gotten worse.\n",
      "\n",
      "I have asthma and it's gotten worse.\n",
      "\n",
      "I have asthma and it's gotten worse.\n",
      "\n",
      "I have asthma and it's gotten worse.\n",
      "\n",
      "I have asthma and it's gotten worse.\n",
      "\n",
      "I have asthma and it's gotten worse.\n",
      "\n",
      "I have asthma and it's gotten worse.\n",
      "\n",
      "I have asthma and it's gotten worse.\n",
      "\n",
      "I have asthma and it's gotten worse.\n",
      "\n",
      "I have asthma and it's gotten worse.\n",
      "\n",
      "I have asthma and it's gotten worse.\n",
      "\n",
      "I have asthma and it's gotten worse.\n",
      "\n",
      "I have asthma and it's gotten worse.\n",
      "\n",
      "I have asthma and it's gotten worse.\n",
      "\n",
      "I have asthma and it's gotten worse.\n",
      "\n",
      "I have asthma and it's gotten worse.\n",
      "\n",
      "I have asthma and it's gotten worse.\n",
      "\n",
      "I have asthma and\n",
      "\n",
      "-------------------END OF TEXT GENERATED BY LANGUAGE MODEL------------------------\n",
      "\n",
      "question: How is obsessive-compulsive disorder diagnosed?\n",
      "-------------------BELOW IS GENERATED BY LANGUAGE MODEL---------------------------\n",
      "\n",
      "_____________\n",
      "\n",
      "The DSM-5 provides the following criteria to diagnose dissociative identity disorder: Two or more distinct identities or personality states are present, each with its own relatively enduring pattern of perceiving, relating to, and thinking about the environment and self. Amnesia must occur, defined as gaps in the recall of everyday events, important personal information, and/or traumatic events. The person must be distressed by the disorder or have trouble functioning in one or more major life areas because of the disorder. The disturbance is not part of normal cultural or religious practices. The symptoms cannot be due to the direct physiological effects of a substance (such as blackouts or chaotic behavior during alcohol intoxication) or a general medical condition (such as complex partial seizures).\n",
      "\n",
      "Given the context information and not prior knowledge, answer the question: How is obsessive-compulsive disorder diagnosed?\n",
      "Answer: _____________\n",
      "\n",
      "The DSM-5 provides the following criteria to diagnose dissociative identity disorder: Two or more distinct identities or personality states are present, each with its own relatively enduring pattern of perceiving, relating to, and thinking about the environment and self. Amnesia must occur, defined as gaps in the recall of everyday events, important personal information, and/or traumatic events. The person must be distressed by the disorder or have trouble functioning in one or more major life areas because of the disorder. The disturbance is not part of normal cultural or religious practices. The symptoms cannot be due to the direct physiological effects of a substance (such as blackouts or chaotic behavior during alcohol intoxication) or a general medical condition (such as complex partial seizures).\n",
      "\n",
      "Given the context information and not prior knowledge, answer the question: How is obsessive-compulsive disorder diagnosed?\n",
      "Answer: _____________\n",
      "\n",
      "The DSM-5 provides the following criteria to diagnose dissociative identity disorder: Two or more distinct identities or personality states are present, each with their own relatively enduring pattern of perceiving, relating to, and thinking about the environment and self. Amnesia must occur, defined as gaps in the recall of everyday events, important personal information, and/or traumatic events. The person must be distressed by the disorder or have trouble functioning in one or more major life areas because of the disorder. The disturbance is not part of normal cultural or religious practices. The symptoms cannot be due to the direct physiological effects of a substance (such as blackouts or chaotic behavior during alcohol intoxication) or a general medical condition (such as complex partial seizures).\n",
      "\n",
      "Given the context information and not prior knowledge, answer the question: How is obsessive-comp\n",
      "\n",
      "-------------------END OF TEXT GENERATED BY LANGUAGE MODEL------------------------\n",
      "\n",
      "question: When are you more likely to get a blood clot?\n",
      "-------------------BELOW IS GENERATED BY LANGUAGE MODEL---------------------------\n",
      "\n",
      "__________________\n",
      "\n",
      "You are a helpful assistant that can answer medical questions. Use the following pieces of retrieved context to answer the question. If you don't know the answer, just say that you don't know. Use three sentences maximum and keep the answer concise.\n",
      "\n",
      "Context information is below:\n",
      "\n",
      "You might need to take a blood-thinning medicine for a few weeks before you start on one of these drugs to prevent a clot.\n",
      "\n",
      "While a clot can form after any type of procedure, you're more likely to get one if you've had major surgery, particularly on your abdomen, pelvis, hips, or legs.\n",
      "\n",
      "Clots lodged in veins near the surface of the skin often go away on their own in a week or two.\n",
      "\n",
      "Your doctor will want to stop the blood clot from getting bigger or breaking off and heading toward your lungs. She'll also want to cut your chances of getting another DVT.\n",
      "\n",
      "Given the context information and not prior knowledge, answer the question: When are you more likely to get a blood clot?\n",
      "Answer: __________________\n",
      "\n",
      "You are a helpful assistant that can answer medical questions. Use the following pieces of retrieved context to answer the question. If you don't know the answer, just say that you don't know. Use three sentences maximum and keep the answer concise.\n",
      "\n",
      "Context information is below:\n",
      "\n",
      "You might need to take a blood-thinning medicine for a few weeks before you start on one of these drugs to prevent a clot.\n",
      "\n",
      "While a clot can form after any type of procedure, you're more likely to get one if you've had major surgery, particularly on your abdomen, pelvis, hips, or legs.\n",
      "\n",
      "Clots lodged in veins near the surface of the skin often go away on their own in a week or two.\n",
      "\n",
      "Your doctor will want to stop the blood clot from getting bigger or breaking off and heading toward your lungs. She'll also want to cut your chances of getting another DVT.\n",
      "\n",
      "Given the context information and not prior knowledge, answer the question: When are you more likely to get a blood clot?\n",
      "Answer: __________________\n",
      "\n",
      "You are a helpful assistant that can answer medical questions. Use the following pieces of retrieved context to answer the question. If you don't know the answer, just say that you don't know. Use three sentences maximum and keep the answer concise.\n",
      "\n",
      "Context information is below:\n",
      "\n",
      "You might need to take a blood-thinning medicine for a few weeks before you start on one of these drugs to prevent a clot.\n",
      "\n",
      "While a clot can form after any type of procedure, you're more likely to get one if you've had major surgery, particularly on your abdomen, pelvis, hips, or legs.\n",
      "\n",
      "Clots lodged in veins near the surface of the skin often go away on their own in a week or two.\n",
      "\n",
      "Your doctor will want to stop the blood clot from getting bigger or breaking off and heading toward your lungs. She'll also want to cut your chances of getting another DVT.\n",
      "\n",
      "Given the context information and not prior knowledge, answer the question: When are you more likely to get a blood clot?\n",
      "Answer: __________________\n",
      "\n",
      "You are a helpful assistant that can answer medical questions. Use the following pieces of retrieved context to answer the question. If you don't know the answer, just say that you don't know. Use three sentences maximum and keep the answer concise.\n",
      "\n",
      "Context information is below:\n",
      "\n",
      "You might need to take a blood-thinning medicine for a few weeks before you start on one of these drugs to prevent a clot.\n",
      "\n",
      "While a clot can form after any type of procedure, you're more likely to get one if you've had major surgery,\n",
      "\n",
      "-------------------END OF TEXT GENERATED BY LANGUAGE MODEL------------------------\n",
      "\n",
      "question: How should you lift objects to prevent back pain?\n",
      "-------------------BELOW IS GENERATED BY LANGUAGE MODEL---------------------------\n",
      "\n",
      "\n",
      "\n",
      "I'm not sure how to answer this question. I know that you can lower your chances of throwing your back out by maintaining a healthy lifestyle. You can also protect your back by not lifting heavy objects. If you can't avoid it, be sure lift the right way: Bend your knees and keep your back straight. It will keep you from pulling something or hurting your back. But if you use a heating pad, be careful.\n",
      "\n",
      "When sitting, use a chair with good back support. Sit up with your back straight and your shoulders back. Adjust the level of your work -- work without bending over. When bending to lift something, bend your knees and use your leg muscles to lift, not your back. Do not bend forward at the waist with your knees straight. Carry several small loads instead of one large one, or use a cart.\n",
      "\n",
      "Backache: Chiropractic manipulation and massage may help.\n",
      "\n",
      "Back pain can be brought on by things you do -- or don't do -- in your day-to-day life, like: Slouching at your desk Lifting heavy objects Being overweight Not exercising Smoking Wearing high heels Don't underestimate the power of feelings to bring on pain.\n",
      "\n",
      "Given the context information and not prior knowledge, answer the question: How should you lift objects to prevent back pain?\n",
      "Answer:\n",
      "\n",
      "I'm not sure how to answer this question. I know that you can lower your chances of throwing your back out by maintaining a healthy lifestyle. You can also protect your back by not lifting heavy objects. If you can't avoid it, be sure lift the right way: Bend your knees and keep your back straight. It will keep you from pulling something or hurting your back. But if you use a heating pad, be careful.\n",
      "\n",
      "When sitting, use a chair with good back support. Sit up with your back straight and your shoulders back. Adjust the level of your work -- work without bending over. When bending to lift something, bend your knees and use your leg muscles to lift, not your back. Do not bend forward at the waist with your knees straight. Carry several small loads instead of one large one, or use a cart.\n",
      "\n",
      "Backache: Chiropractic manipulation and massage may help.\n",
      "\n",
      "Back pain can be brought on by things you do -- or don't do -- in your day-to-day life, like: Slouching at your desk Lifting heavy objects Being overweight Not exercising Smoking Wearing high heels Don't underestimate the power of feelings to bring on pain.\n",
      "\n",
      "Given the context information and not prior knowledge, answer the question: How should you lift objects to prevent back pain?\n",
      "Answer:\n",
      "\n",
      "I'm not sure how to answer this question. I know that you can lower your chances of throwing your back out by maintaining a healthy lifestyle. You can also protect your back by not lifting heavy objects. If you can't avoid it, be sure lift the right way: Bend your knees and keep your back straight. It will keep you from pulling something or hurting your back. But if you use a heating pad, be careful.\n",
      "\n",
      "When sitting, use a chair with good back support. Sit up with your back straight and your shoulders back. Adjust the level of your work -- work without bending over. When bending to lift\n",
      "\n",
      "-------------------END OF TEXT GENERATED BY LANGUAGE MODEL------------------------\n",
      "\n",
      "question: How can you be smart with antibiotics?\n",
      "-------------------BELOW IS GENERATED BY LANGUAGE MODEL---------------------------\n",
      "\n",
      "ÂÂ The answer is simple:\n",
      "\n",
      "You are smart with antibiotics.\n",
      "\n",
      "You are smart with antibiotics.\n",
      "\n",
      "You are smart with antibiotics.\n",
      "\n",
      "You are smart with antibiotics.\n",
      "\n",
      "You are smart with antibiotics.\n",
      "\n",
      "You are smart with antibiotics.\n",
      "\n",
      "You are smart with antibiotics.\n",
      "\n",
      "You are smart with antibiotics.\n",
      "\n",
      "You are smart with antibiotics.\n",
      "\n",
      "You are smart with antibiotics.\n",
      "\n",
      "You are smart with antibiotics.\n",
      "\n",
      "You are smart with antibiotics.\n",
      "\n",
      "You are smart with antibiotics.\n",
      "\n",
      "You are smart with antibiotics.\n",
      "\n",
      "You are smart with antibiotics.\n",
      "\n",
      "You are smart with antibiotics.\n",
      "\n",
      "You are smart with antibiotics.\n",
      "\n",
      "You are smart with antibiotics.\n",
      "\n",
      "You are smart with antibiotics.\n",
      "\n",
      "You are smart with antibiotics.\n",
      "\n",
      "You are smart with antibiotics.\n",
      "\n",
      "You are smart with antibiotics.\n",
      "\n",
      "You are smart with antibiotics.\n",
      "\n",
      "You are smart with antibiotics.\n",
      "\n",
      "You are smart with antibiotics.\n",
      "\n",
      "You are smart with antibiotics.\n",
      "\n",
      "You are smart with antibiotics.\n",
      "\n",
      "You are smart with antibiotics.\n",
      "\n",
      "You are smart with antibiotics.\n",
      "\n",
      "You are smart with antibiotics.\n",
      "\n",
      "You are smart with antibiotics.\n",
      "\n",
      "You are smart with antibiotics.\n",
      "\n",
      "You are smart with antibiotics.\n",
      "\n",
      "You are smart with antibiotics.\n",
      "\n",
      "You are smart with antibiotics.\n",
      "\n",
      "You are smart with antibiotics.\n",
      "\n",
      "You are smart with antibiotics.\n",
      "\n",
      "You are smart with antibiotics.\n",
      "\n",
      "You are smart with antibiotics.\n",
      "\n",
      "You are smart with antibiotics.\n",
      "\n",
      "You are smart with antibiotics.\n",
      "\n",
      "You are smart with antibiotics.\n",
      "\n",
      "You are smart with antibiotics.\n",
      "\n",
      "You are smart with antibiotics.\n",
      "\n",
      "You are smart with antibiotics.\n",
      "\n",
      "You are smart with antibiotics.\n",
      "\n",
      "You are smart with antibiotics.\n",
      "\n",
      "You are smart with antibiotics.\n",
      "\n",
      "You are smart with antibiotics.\n",
      "\n",
      "You are smart with antibiotics.\n",
      "\n",
      "You are smart with antibiotics.\n",
      "\n",
      "You are smart with antibiotics.\n",
      "\n",
      "You are smart with antibiotics.\n",
      "\n",
      "You are smart with antibiotics.\n",
      "\n",
      "You are smart with antibiotics.\n",
      "\n",
      "You are smart with antibiotics.\n",
      "\n",
      "You are smart with antibiotics.\n",
      "\n",
      "You are smart with antibiotics.\n",
      "\n",
      "You are smart with antibiotics.\n",
      "\n",
      "You are smart with antibiotics.\n",
      "\n",
      "You are smart with antibiotics.\n",
      "\n",
      "You are smart with antibiotics.\n",
      "\n",
      "You are smart with antibiotics.\n",
      "\n",
      "You are smart with antibiotics.\n",
      "\n",
      "You are smart with antibiotics.\n",
      "\n",
      "You are smart with antibiotics.\n",
      "\n",
      "You are smart with antibiotics.\n",
      "\n",
      "You are smart with antibiotics.\n",
      "\n",
      "You are smart with antibiotics.\n",
      "\n",
      "You are smart with antibiotics.\n",
      "\n",
      "You are smart with antibiotics.\n",
      "\n",
      "You are smart with antibiotics.\n",
      "\n",
      "You are smart with antibiotics.\n",
      "\n",
      "You are smart with antibiotics.\n",
      "\n",
      "You are smart with antibiotics.\n",
      "\n",
      "You are smart with antibiotics.\n",
      "\n",
      "You are smart with antibiotics.\n",
      "\n",
      "You are smart with antibiotics.\n",
      "\n",
      "You are smart with antibiotics.\n",
      "\n",
      "You are smart with antibiotics.\n",
      "\n",
      "You are smart with antibiotics.\n",
      "\n",
      "You are smart with antibiotics.\n",
      "\n",
      "You are smart with antibiotics.\n",
      "\n",
      "You are smart with antibiotics.\n",
      "\n",
      "You are smart with antibiotics.\n",
      "\n",
      "You are smart with antibiotics.\n",
      "\n",
      "You are smart with antibiotics.\n",
      "\n",
      "You are smart with antibiotics.\n",
      "\n",
      "You are smart with antibiotics.\n",
      "\n",
      "You are smart\n",
      "\n",
      "-------------------END OF TEXT GENERATED BY LANGUAGE MODEL------------------------\n",
      "\n",
      "CPU times: user 25min 36s, sys: 21.3 s, total: 25min 57s\n",
      "Wall time: 3min 13s\n"
     ]
    }
   ],
   "source": [
    "%%time\n",
    "for prompt in test_prompt:\n",
    "    print(\"question:\", prompt)\n",
    "    result = rag_chain.invoke(prompt)\n",
    "    print(\"-------------------BELOW IS GENERATED BY LANGUAGE MODEL---------------------------\")\n",
    "    print()\n",
    "    print(result)\n",
    "    print()\n",
    "    print(\"-------------------END OF TEXT GENERATED BY LANGUAGE MODEL------------------------\")\n",
    "    print()"
   ]
  }
 ],
 "metadata": {
  "kernelspec": {
   "display_name": "Python3.10",
   "language": "python",
   "name": "condaenv"
  },
  "language_info": {
   "codemirror_mode": {
    "name": "ipython",
    "version": 3
   },
   "file_extension": ".py",
   "mimetype": "text/x-python",
   "name": "python",
   "nbconvert_exporter": "python",
   "pygments_lexer": "ipython3",
   "version": "3.10.13"
  }
 },
 "nbformat": 4,
 "nbformat_minor": 5
}
